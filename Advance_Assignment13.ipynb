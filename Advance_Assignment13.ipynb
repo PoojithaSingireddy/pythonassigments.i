{
  "nbformat": 4,
  "nbformat_minor": 0,
  "metadata": {
    "colab": {
      "name": "Advance Assignment13.ipynb",
      "provenance": [],
      "collapsed_sections": []
    },
    "kernelspec": {
      "name": "python3",
      "display_name": "Python 3"
    },
    "language_info": {
      "name": "python"
    }
  },
  "cells": [
    {
      "cell_type": "markdown",
      "source": [
        "1. Create a function that takes a list and string. The function should remove the letters in the string from the list, and return the list.\n",
        "\n",
        "Examples\n",
        "\n",
        "remove_letters([\"s\", \"t\", \"r\", \"i\", \"n\", \"g\", \"w\"], \"string\") ➞ [\"w\"]\n",
        "\n",
        "remove_letters([\"b\", \"b\", \"l\", \"l\", \"g\", \"n\", \"o\", \"a\", \"w\"], \"balloon\") ➞ [\"b\", \"g\", \"w\"]\n",
        "\n",
        "remove_letters([\"d\", \"b\", \"t\", \"e\", \"a\", \"i\"], \"edabit\") ➞ []"
      ],
      "metadata": {
        "id": "HwiS_2kBqXgR"
      }
    },
    {
      "cell_type": "code",
      "execution_count": 1,
      "metadata": {
        "colab": {
          "base_uri": "https://localhost:8080/"
        },
        "id": "KZZEiDfhqO98",
        "outputId": "a0060b8d-7044-46d7-956e-04cdafa47681"
      },
      "outputs": [
        {
          "output_type": "stream",
          "name": "stdout",
          "text": [
            "['w']\n",
            "['b', 'g', 'w']\n",
            "[]\n"
          ]
        }
      ],
      "source": [
        "def remove_letters(l,s):\n",
        "    i = 0\n",
        "    while True:\n",
        "        if len(s) == 0:\n",
        "            break\n",
        "        else:\n",
        "            if s[i] in l:\n",
        "                if s.count(s[i]) > 1 and(s.count(s[i]) != l.count(s[i])):\n",
        "                    l.remove(s[i])\n",
        "                    s = s.replace(s[i],'')\n",
        "                else:\n",
        "                    l.remove(s[i])                    \n",
        "                    s = s.replace(s[i],'',1)\n",
        "            else:\n",
        "                i += 1\n",
        "    return l\n",
        "\n",
        "print(remove_letters([\"s\", \"t\", \"r\", \"i\", \"n\", \"g\", \"w\"], \"string\"))\n",
        "print(remove_letters([\"b\", \"b\", \"l\", \"l\", \"g\", \"n\", \"o\", \"a\", \"w\"], \"balloon\"))\n",
        "print(remove_letters([\"d\", \"b\", \"t\", \"e\", \"a\", \"i\"], \"edabit\") )\n"
      ]
    },
    {
      "cell_type": "markdown",
      "source": [
        "2. A block sequence in three dimensions. We can write a formula for this one:\n",
        "Create a function that takes a number (step) as an argument and returns the amount of blocks in that step.\n",
        "\n",
        "Examples\n",
        "\n",
        "blocks(1) ➞ 5\n",
        "\n",
        "blocks(5) ➞ 39\n",
        "\n",
        "blocks(2) ➞ 12"
      ],
      "metadata": {
        "id": "GDtN4ez-tKnL"
      }
    },
    {
      "cell_type": "code",
      "source": [
        "def fun(n):\n",
        "    if n == 1:\n",
        "        return 1\n",
        "    else:\n",
        "        return n + fun(n-1)  \n",
        "def blocks(step):\n",
        "    return fun(step) + step * 3 + step * 2 -1\n",
        "\n",
        "print(\"blocks(1)->\",blocks(1))\n",
        "print(\"blocks(5)->\",blocks(5))\n",
        "print(\"blocks(2)->\",blocks(2))"
      ],
      "metadata": {
        "colab": {
          "base_uri": "https://localhost:8080/"
        },
        "id": "3cx15Fairnj2",
        "outputId": "d84f17d3-753e-480b-a311-0d95dd5ff42c"
      },
      "execution_count": 3,
      "outputs": [
        {
          "output_type": "stream",
          "name": "stdout",
          "text": [
            "blocks(1)-> 5\n",
            "blocks(5)-> 39\n",
            "blocks(2)-> 12\n"
          ]
        }
      ]
    },
    {
      "cell_type": "markdown",
      "source": [
        "3. Create a function that subtracts one positive integer from another, without using any arithmetic operators such as -, %, /, +, etc.\n",
        "\n",
        "Examples\n",
        "\n",
        "my_sub(5, 9) ➞ 4\n",
        "\n",
        "my_sub(10, 30) ➞ 20\n",
        "\n",
        "my_sub(0, 0) ➞ 0"
      ],
      "metadata": {
        "id": "Lq4QFzxZuqRf"
      }
    },
    {
      "cell_type": "code",
      "source": [
        "def my_sub(a1,a2):\n",
        "    if a2 > a1:\n",
        "        return a2 - a1 % a2\n",
        "    elif a1 > a2:\n",
        "        return a1 - a2 % a1\n",
        "    elif a1 == 0 and a2 == 0:\n",
        "        return 0\n",
        "    \n",
        "print(\"my_sub(5,9)->\",my_sub(5,9))\n",
        "print(\"my_sub(10,30)->\",my_sub(10,30))\n",
        "print(\"my_sub(0,0)->\",my_sub(0,0))"
      ],
      "metadata": {
        "colab": {
          "base_uri": "https://localhost:8080/"
        },
        "id": "mmA3WYHatWNQ",
        "outputId": "759ac960-f669-4870-eb1a-a322c11c0fc2"
      },
      "execution_count": 4,
      "outputs": [
        {
          "output_type": "stream",
          "name": "stdout",
          "text": [
            "my_sub(5,9)-> 4\n",
            "my_sub(10,30)-> 20\n",
            "my_sub(0,0)-> 0\n"
          ]
        }
      ]
    },
    {
      "cell_type": "markdown",
      "source": [
        "4. Create a function that takes a string containing money in dollars and pounds sterling (seperated by comma) and returns the sum of dollar bills only, as an integer.\n",
        "For the input string:\n",
        "\n",
        "Each amount is prefixed by the currency symbol: $ for dollars and £ for pounds.\n",
        "Thousands are represented by the suffix k.\n",
        "\n",
        "i.e. $4K = $4,000 and £40k = £40,000\n",
        "\n",
        "Examples\n",
        "\n",
        "add_bill(\"d20,p40,p60,d50\") ➞ 20 + 50 = 70\n",
        "\n",
        "add_bill(\"p30,d20,p60,d150,p360\") ➞ 20 + 150 = 170\n",
        "\n",
        "add_bill(\"p30,d2k,p60,d200,p360\") ➞ 2 * 1000 + 200 = 2200"
      ],
      "metadata": {
        "id": "09tekaQiwMAf"
      }
    },
    {
      "cell_type": "code",
      "source": [
        "def add_bill(s):\n",
        "    sum = ''\n",
        "    for i in s.split(','):\n",
        "        if 'd' in i:\n",
        "            sum += i\n",
        "    sum = sum.replace('k','000')\n",
        "    b = 0\n",
        "    for i in sum.split('d')[1:]:\n",
        "        b += int(i)   \n",
        "    return b                   \n",
        "print(\"add_bill(d20,p40,p60,d50)->\",add_bill(\"d20,p40,p60,d50\"))\n",
        "print(\"add_bill(p30,d20,p60,d150,p360)\",add_bill(\"p30,d20,p60,d150,p360\"))\n",
        "print(\"add_bill(p30,d2k,p60,d200,p360)\",add_bill(\"p30,d2k,p60,d200,p360\"))"
      ],
      "metadata": {
        "colab": {
          "base_uri": "https://localhost:8080/"
        },
        "id": "poPTl5OKwKTY",
        "outputId": "2d63178c-0a00-4b28-b28f-b71096440f86"
      },
      "execution_count": 7,
      "outputs": [
        {
          "output_type": "stream",
          "name": "stdout",
          "text": [
            "add_bill(d20,p40,p60,d50)-> 70\n",
            "add_bill(p30,d20,p60,d150,p360) 170\n",
            "add_bill(p30,d2k,p60,d200,p360) 2200\n"
          ]
        }
      ]
    },
    {
      "cell_type": "markdown",
      "source": [
        "5. Create a function that flips a horizontal list into a vertical list, and a vertical list into a horizontal list.\n",
        "In other words, take an 1 x n list (1 row + n columns) and flip it into a n x 1 list (n rows and 1 column), and vice versa.\n",
        "\n",
        "Examples\n",
        "\n",
        "flip_list([1, 2, 3, 4]) ➞ [[1], [2], [3], [4]]\n",
        "\n",
        "Take a horizontal list and flip it vertical.\n",
        "flip_list([[5], [6], [9]]) ➞ [5, 6, 9]\n",
        "\n",
        "Take a vertical list and flip it horizontal.\n",
        "flip_list([]) ➞ []\n"
      ],
      "metadata": {
        "id": "GJNONKPzxeO2"
      }
    },
    {
      "cell_type": "code",
      "source": [
        "def flip_list1(l):\n",
        "    j = 0\n",
        "    for i in range(len(l)):\n",
        "        if type(l[i]) == list:\n",
        "            l[i] = int(str(l[i]).replace('[','').replace(']',''))\n",
        "        elif type(l[i]) == int:\n",
        "            l[i] = [l[i]]\n",
        "    return l       \n",
        "print(flip_list1([1,2,3,4]))\n",
        "print(flip_list1([[5],[6],[7]]))\n",
        "print(flip_list1([]))"
      ],
      "metadata": {
        "colab": {
          "base_uri": "https://localhost:8080/"
        },
        "id": "7LWfbEStw1Fk",
        "outputId": "bef4f3aa-3f61-4ef4-da3b-0c5a0e39b719"
      },
      "execution_count": 9,
      "outputs": [
        {
          "output_type": "stream",
          "name": "stdout",
          "text": [
            "[[1], [2], [3], [4]]\n",
            "[5, 6, 7]\n",
            "[]\n"
          ]
        }
      ]
    },
    {
      "cell_type": "code",
      "source": [
        ""
      ],
      "metadata": {
        "id": "JJiwezMnzgcK"
      },
      "execution_count": null,
      "outputs": []
    }
  ]
}