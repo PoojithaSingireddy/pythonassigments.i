{
  "nbformat": 4,
  "nbformat_minor": 0,
  "metadata": {
    "colab": {
      "name": "Basic Programming Assignment-11.ipynb",
      "provenance": [],
      "collapsed_sections": []
    },
    "kernelspec": {
      "name": "python3",
      "display_name": "Python 3"
    },
    "language_info": {
      "name": "python"
    }
  },
  "cells": [
    {
      "cell_type": "markdown",
      "source": [
        "1. Write a Python program to Extract Unique values dictionary values?"
      ],
      "metadata": {
        "id": "qcqEtlynmSpB"
      }
    },
    {
      "cell_type": "code",
      "execution_count": 2,
      "metadata": {
        "colab": {
          "base_uri": "https://localhost:8080/"
        },
        "id": "ZkBobph1mO45",
        "outputId": "a952d3be-30c7-477b-9c9f-1e8a57a95008"
      },
      "outputs": [
        {
          "output_type": "stream",
          "name": "stdout",
          "text": [
            "Unique values= {1, 2, 4, 5, 6, 8, 9, 11, 12}\n"
          ]
        }
      ],
      "source": [
        "td = {'x' : [1, 2, 8, 9],\n",
        "             'y' : [4, 11, 6, 5],\n",
        "             'z' : [12, 11, 1, 8]}\n",
        "\n",
        "ls = set([el for vl in td.values() for el in vl])\n",
        "print(\"Unique values= {}\".format(ls))"
      ]
    },
    {
      "cell_type": "markdown",
      "source": [
        "2. Write a Python program to find the sum of all items in a dictionary?"
      ],
      "metadata": {
        "id": "tGrZdry9nLsF"
      }
    },
    {
      "cell_type": "code",
      "source": [
        "tds = {'u' : 1,\n",
        "             'v' : 2,\n",
        "             'w' : 3,\n",
        "             'x' : 4}\n",
        "s= 0\n",
        "for i in tds.values():\n",
        "    s +=s + i\n",
        "print(\"Sum= {}\".format(s))"
      ],
      "metadata": {
        "colab": {
          "base_uri": "https://localhost:8080/"
        },
        "id": "tKem51Phm9UX",
        "outputId": "c7c4783d-e74a-41dc-aa43-19bc705be3cb"
      },
      "execution_count": 3,
      "outputs": [
        {
          "output_type": "stream",
          "name": "stdout",
          "text": [
            "Sum= 26\n"
          ]
        }
      ]
    },
    {
      "cell_type": "markdown",
      "source": [
        "3. Write a Python program to Merging two Dictionaries?"
      ],
      "metadata": {
        "id": "nUsBw8cPnrC1"
      }
    },
    {
      "cell_type": "code",
      "source": [
        "a = { 'x': 1, 'y': 2}\n",
        "b = { 'y': 3, 'z': 4}\n",
        "c = a.copy()\n",
        "c.update(b)\n",
        "print(\"Dict a : \", a)\n",
        "print(\"Dict b : \", b)\n",
        "print('updated dictionary = {}'.format(c))"
      ],
      "metadata": {
        "colab": {
          "base_uri": "https://localhost:8080/"
        },
        "id": "6fnNQdG-nkXr",
        "outputId": "050ed58c-2251-48cd-eeca-bd7b280e625a"
      },
      "execution_count": 4,
      "outputs": [
        {
          "output_type": "stream",
          "name": "stdout",
          "text": [
            "Dict a :  {'x': 1, 'y': 2}\n",
            "Dict b :  {'y': 3, 'z': 4}\n",
            "updated dictionary = {'x': 1, 'y': 3, 'z': 4}\n"
          ]
        }
      ]
    },
    {
      "cell_type": "markdown",
      "source": [
        "4. Write a Python program to convert key-values list to flat dictionary?"
      ],
      "metadata": {
        "id": "4IUO87-nn91n"
      }
    },
    {
      "cell_type": "code",
      "source": [
        "td = {'m' : [10,11,12],\n",
        "             'n' : ['Oct', 'Nov', 'Dec']}\n",
        "print(\"The original dictionary is : \" + str(td))\n",
        "result = dict(zip(td['m'], td['n'])) \n",
        "print(\"Flattened dictionary : \" + str(result))"
      ],
      "metadata": {
        "colab": {
          "base_uri": "https://localhost:8080/"
        },
        "id": "mNlSFsakn4rM",
        "outputId": "c9747a50-02e6-4dda-9acc-602546ec0a36"
      },
      "execution_count": 6,
      "outputs": [
        {
          "output_type": "stream",
          "name": "stdout",
          "text": [
            "The original dictionary is : {'m': [10, 11, 12], 'n': ['Oct', 'Nov', 'Dec']}\n",
            "Flattened dictionary : {10: 'Oct', 11: 'Nov', 12: 'Dec'}\n"
          ]
        }
      ]
    },
    {
      "cell_type": "markdown",
      "source": [
        "5. Write a Python program to insertion at the beginning in OrderedDict?"
      ],
      "metadata": {
        "id": "16-CdzGMomhy"
      }
    },
    {
      "cell_type": "code",
      "source": [
        "from collections import OrderedDict\n",
        "iniordered_dict = OrderedDict([('Nov', '11'), ('Dec', '12')]) \n",
        "iniordered_dict.update({'Oct':'10'})\n",
        "iniordered_dict.move_to_end('Oct', last = False)\n",
        "print (\"Ordered Dictionary after insertion : \"+str(iniordered_dict))"
      ],
      "metadata": {
        "colab": {
          "base_uri": "https://localhost:8080/"
        },
        "id": "GsaIywW0oZ-X",
        "outputId": "d431d01f-48c1-4301-ac9a-1b4c46e1562f"
      },
      "execution_count": 7,
      "outputs": [
        {
          "output_type": "stream",
          "name": "stdout",
          "text": [
            "Ordered Dictionary after insertion : OrderedDict([('Oct', '10'), ('Nov', '11'), ('Dec', '12')])\n"
          ]
        }
      ]
    },
    {
      "cell_type": "markdown",
      "source": [
        "6. Write a Python program to check order of character in string using OrderedDict()?"
      ],
      "metadata": {
        "id": "0pcWnIE1o-R2"
      }
    },
    {
      "cell_type": "code",
      "source": [
        "from collections import OrderedDict \n",
        "  \n",
        "def checkString(str, pattern):  \n",
        "    dict = OrderedDict.fromkeys(str) \n",
        "    print(dict)   \n",
        "    plen = 0\n",
        "    for key,value in dict.items():       \n",
        "        if (key == pattern[plen]): \n",
        "            plen = plen + 1\n",
        "        if (plen == (len(pattern))):            \n",
        "            return 'true'\n",
        "    return 'false'  \n",
        "string = input(\"Enter string : \")\n",
        "pattern = input(\"Enter Pattern : \")\n",
        "if checkString(string,pattern):\n",
        "    print(\"Pattern matched\")\n",
        "else:\n",
        "    print(\"Pattern not matched\")"
      ],
      "metadata": {
        "colab": {
          "base_uri": "https://localhost:8080/"
        },
        "id": "eHJ8F6rto68E",
        "outputId": "41fca644-67f7-4759-d9f7-ceb0c5a36d63"
      },
      "execution_count": 9,
      "outputs": [
        {
          "output_type": "stream",
          "name": "stdout",
          "text": [
            "Enter string : book\n",
            "Enter Pattern : b\n",
            "OrderedDict([('b', None), ('o', None), ('k', None)])\n",
            "Pattern matched\n"
          ]
        }
      ]
    },
    {
      "cell_type": "markdown",
      "source": [
        "7. Write a Python program to sort Python Dictionaries by Key or Value?"
      ],
      "metadata": {
        "id": "GcJNJgzZphy_"
      }
    },
    {
      "cell_type": "code",
      "source": [
        "d = {1:'a',2:'c' ,4:'f' ,3:'b' ,6:'d' ,5:'e' }\n",
        "print(sorted(d.keys()))\n",
        "print(sorted(d.items()))\n",
        "print(sorted(d.values()))"
      ],
      "metadata": {
        "colab": {
          "base_uri": "https://localhost:8080/"
        },
        "id": "OlKwbm__pWiw",
        "outputId": "4d358ab1-c746-429d-cd81-ba9d565f20b6"
      },
      "execution_count": 11,
      "outputs": [
        {
          "output_type": "stream",
          "name": "stdout",
          "text": [
            "[1, 2, 3, 4, 5, 6]\n",
            "[(1, 'a'), (2, 'c'), (3, 'b'), (4, 'f'), (5, 'e'), (6, 'd')]\n",
            "['a', 'b', 'c', 'd', 'e', 'f']\n"
          ]
        }
      ]
    },
    {
      "cell_type": "code",
      "source": [
        ""
      ],
      "metadata": {
        "id": "TSKnQx2Vp9In"
      },
      "execution_count": null,
      "outputs": []
    }
  ]
}