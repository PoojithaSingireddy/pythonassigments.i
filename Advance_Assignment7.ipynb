{
  "nbformat": 4,
  "nbformat_minor": 0,
  "metadata": {
    "colab": {
      "name": "Advance Assignment7.ipynb",
      "provenance": [],
      "collapsed_sections": []
    },
    "kernelspec": {
      "name": "python3",
      "display_name": "Python 3"
    },
    "language_info": {
      "name": "python"
    }
  },
  "cells": [
    {
      "cell_type": "markdown",
      "source": [
        "1. Write a function that counts how many concentric layers a rug.\n",
        "Examples\n",
        "\n",
        "count_layers([ \"AAAA\", \"ABBA\", \"AAAA\" ]) ➞ 2\n",
        "\n",
        "count_layers([ \"AAAAAAAAA\", \"ABBBBBBBA\", \"ABBAAABBA\", \"ABBBBBBBA\", \"AAAAAAAAA\" ]) ➞ 3\n",
        "\n",
        "count_layers([ \"AAAAAAAAAAA\", \"AABBBBBBBAA\", \"AABCCCCCBAA\", \"AABCAAACBAA\", \"AABCADACBAA\", \"AABCAAACBAA\", \"AABCCCCCBAA\", \"AABBBBBBBAA\", \"AAAAAAAAAAA\" ]) ➞ 5"
      ],
      "metadata": {
        "id": "ukPlNAe5iD8l"
      }
    },
    {
      "cell_type": "code",
      "execution_count": 2,
      "metadata": {
        "colab": {
          "base_uri": "https://localhost:8080/"
        },
        "id": "Zu-9FudngUXI",
        "outputId": "a95baa03-ed8d-48f2-bb1b-810ed10a5563"
      },
      "outputs": [
        {
          "output_type": "stream",
          "name": "stdout",
          "text": [
            "2\n",
            "3\n",
            "5\n"
          ]
        }
      ],
      "source": [
        "import numpy as np\n",
        "\n",
        "def count_layers(arr):\n",
        "    arr1 = np.unique(arr)\n",
        "    return arr1.size\n",
        "\n",
        "print(count_layers([ \"AAAA\", \"ABBA\", \"AAAA\" ]))\n",
        "print(count_layers([ \"AAAAAAAAA\", \"ABBBBBBBA\", \"ABBAAABBA\", \"ABBBBBBBA\", \"AAAAAAAAA\" ]) )\n",
        "print(count_layers([ \"AAAAAAAAAAA\", \"AABBBBBBBAA\", \"AABCCCCCBAA\", \"AABCAAACBAA\", \"AABCADACBAA\", \"AABCAAACBAA\", \"AABCCCCCBAA\", \"AABBBBBBBAA\", \"AAAAAAAAAAA\" ]))"
      ]
    },
    {
      "cell_type": "markdown",
      "source": [
        "2. There are many different styles of music and many albums exhibit multiple styles. Create a function that takes a list of musical styles from albums and returns how many styles are unique.\n",
        "\n",
        "Examples\n",
        "\n",
        "unique_styles([ \"Dub,Dancehall\", \"Industrial,Heavy Metal\", \"Techno,Dubstep\", \"Synth-pop,Euro-Disco\", \"Industrial,Techno,Minimal\" ]) ➞ 9\n",
        "\n",
        "unique_styles([ \"Soul\", \"House,Folk\", \"Trance,Downtempo,Big Beat,House\", \"Deep House\", \"Soul\" ]) ➞ 7\n"
      ],
      "metadata": {
        "id": "i68e7HzPibeM"
      }
    },
    {
      "cell_type": "code",
      "source": [
        "import numpy as np\n",
        "def unique_styles(l):\n",
        "    ls = []\n",
        "    for item in l:\n",
        "        item = item.split(',')\n",
        "        for j in item:\n",
        "            ls.append(j)   \n",
        "    return len(set(ls))     \n",
        "print(unique_styles([ \"Dub,Dancehall\", \"Industrial,Heavy Metal\", \"Techno,Dubstep\", \"Synth-pop,Euro-Disco\", \"Industrial,Techno,Minimal\" ]))\n",
        "print(unique_styles([ \"Soul\", \"House,Folk\", \"Trance,Downtempo,Big Beat,House\", \"Deep House\", \"Soul\" ]) )"
      ],
      "metadata": {
        "colab": {
          "base_uri": "https://localhost:8080/"
        },
        "id": "Gxt4JusPiPbU",
        "outputId": "64dc4479-c419-412d-9a25-2d29dbc1313d"
      },
      "execution_count": 4,
      "outputs": [
        {
          "output_type": "stream",
          "name": "stdout",
          "text": [
            "9\n",
            "7\n"
          ]
        }
      ]
    },
    {
      "cell_type": "markdown",
      "source": [
        "3. Create a function that finds a target number in a list of prime numbers. Implement a binary search algorithm in your function. The target number will be from 2 through 97. If the target is prime then return \"yes\" else return \"no\".\n",
        "\n",
        "Examples\n",
        "\n",
        "primes = [2, 3, 5, 7, 11, 13, 17, 19, 23, 29, 31, 37, 41, 43, 47, 53, 59, 61, 67, 71, 73, 79, 83, 89, 97]\n",
        "\n",
        "is_prime(primes, 3) ➞ \"yes\"\n",
        "\n",
        "is_prime(primes, 4) ➞ \"no\"\n",
        "\n",
        "is_prime(primes, 67) ➞ \"yes\"\n",
        "\n",
        "is_prime(primes, 36) ➞ \"no\""
      ],
      "metadata": {
        "id": "BcdXisIhjT8v"
      }
    },
    {
      "cell_type": "code",
      "source": [
        "def bin_search(l,low, high,key):\n",
        "    if high >= low:\n",
        "        mid = int ((low + high) / 2)   \n",
        "        if key == l[mid]:\n",
        "            return mid   \n",
        "        if l[mid] > key:\n",
        "            return bin_search(l,low,mid - 1, key)        \n",
        "        else:\n",
        "            return bin_search(l, mid+1,high, key)      \n",
        "    else:\n",
        "        return -1\n",
        "def is_prime(primes,n):\n",
        "    if n in range(2,97):\n",
        "        res = bin_search(sorted(primes), 0, len(primes), n)        \n",
        "        if res > 0:\n",
        "            return 'yes'\n",
        "        else:\n",
        "            return 'no'\n",
        "    else:\n",
        "        return 'Not in list'\n",
        "primes = [2, 3, 5, 7, 11, 13, 17, 19, 23, 29, 31, 37, 41, 43, 47, 53, 59, 61, 67, 71, 73, 79, 83, 89, 97]\n",
        "print(is_prime(primes, 3))\n",
        "print(is_prime(primes, 4))\n",
        "print(is_prime(primes, 67))\n",
        "print(is_prime(primes, 36))"
      ],
      "metadata": {
        "colab": {
          "base_uri": "https://localhost:8080/"
        },
        "id": "jHczt11NirrI",
        "outputId": "463e0ac5-98d5-462e-e085-a52a61182382"
      },
      "execution_count": 5,
      "outputs": [
        {
          "output_type": "stream",
          "name": "stdout",
          "text": [
            "yes\n",
            "no\n",
            "yes\n",
            "no\n"
          ]
        }
      ]
    },
    {
      "cell_type": "markdown",
      "source": [
        "4. Create a function that takes in n, a, b and returns the number of positive values raised to the nth power that lie in the range [a, b], inclusive.\n",
        "\n",
        "Examples\n",
        "\n",
        "power_ranger(2, 49, 65) ➞ 2\n",
        "\n",
        "2 squares (n^2) lie between 49 and 65, 49 (7^2) and 64 (8^2)\n",
        "power_ranger(3, 1, 27) ➞ 3\n",
        "\n",
        "3 cubes (n^3) lie between 1 and 27, 1 (1^3), 8 (2^3) and 27 (3^3)\n",
        "power_ranger(10, 1, 5) ➞ 1\n",
        "\n",
        "1 value raised to the 10th power lies between 1 and 5, 1 (1^10)\n",
        "power_ranger(5, 31, 33) ➞ 1\n",
        "\n",
        "power_ranger(4, 250, 1300) ➞ 3"
      ],
      "metadata": {
        "id": "BA4DgQvslj6e"
      }
    },
    {
      "cell_type": "code",
      "source": [
        "def power_ranger(n,a,b):\n",
        "    c = 0\n",
        "    a1 = int(a**(1/n))\n",
        "    b1 = int(b**(1/n))\n",
        "    for i in range(a1,b1+1):\n",
        "        if i**n in range(a,b+1):\n",
        "            c += 1\n",
        "    return c\n",
        "print(power_ranger(2,49,65))\n",
        "print(power_ranger(3, 1, 27))\n",
        "print(power_ranger(10, 1, 5))\n",
        "print(power_ranger(5,31,33))    \n",
        "print(power_ranger(4,250,1300)) "
      ],
      "metadata": {
        "colab": {
          "base_uri": "https://localhost:8080/"
        },
        "id": "OZKXdI9yliFd",
        "outputId": "b8c627c5-0f76-448b-9141-6315da63c556"
      },
      "execution_count": 6,
      "outputs": [
        {
          "output_type": "stream",
          "name": "stdout",
          "text": [
            "2\n",
            "3\n",
            "1\n",
            "1\n",
            "3\n"
          ]
        }
      ]
    },
    {
      "cell_type": "markdown",
      "source": [
        "5. Given a number, return the difference between the maximum and minimum numbers that can be formed when the digits are rearranged.\n",
        "\n",
        "Examples\n",
        "\n",
        "rearranged_difference(972882) ➞ 760833\n",
        "\n",
        "988722 - 227889 = 760833\n",
        "rearranged_difference(3320707) ➞ 7709823\n",
        "\n",
        "7733200 - 23377 = 7709823\n",
        "rearranged_difference(90010) ➞ 90981\n",
        "\n",
        "91000 - 19 = 90981"
      ],
      "metadata": {
        "id": "oQ2WeY9noCsk"
      }
    },
    {
      "cell_type": "code",
      "source": [
        "def rearranged_difference(n):\n",
        "    n = str(n)\n",
        "    nl,nh = '', ''\n",
        "    n_high = sorted(n, reverse = True)\n",
        "    n_low = sorted(n)\n",
        "    for i in n_low:\n",
        "        nl += ''.join(i)\n",
        "    for j in n_high:\n",
        "        nh += ''.join(j)\n",
        "    return int(nh) - int(nl) \n",
        "print(rearranged_difference(972882))\n",
        "print(rearranged_difference(3320707))\n",
        "print(rearranged_difference(90010))"
      ],
      "metadata": {
        "colab": {
          "base_uri": "https://localhost:8080/"
        },
        "id": "dj8edTbJoApg",
        "outputId": "9de4d6b9-b906-4729-cbef-ca93dbdd4070"
      },
      "execution_count": 7,
      "outputs": [
        {
          "output_type": "stream",
          "name": "stdout",
          "text": [
            "760833\n",
            "7709823\n",
            "90981\n"
          ]
        }
      ]
    },
    {
      "cell_type": "code",
      "source": [
        ""
      ],
      "metadata": {
        "id": "AWpiFipjpPYc"
      },
      "execution_count": null,
      "outputs": []
    }
  ]
}