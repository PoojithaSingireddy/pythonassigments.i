{
 "cells": [
  {
   "cell_type": "markdown",
   "id": "f638237b",
   "metadata": {},
   "source": [
    "1. Write a Python Program to Display Fibonacci Sequence Using Recursion?"
   ]
  },
  {
   "cell_type": "code",
   "execution_count": 9,
   "id": "09e2079d",
   "metadata": {},
   "outputs": [
    {
     "name": "stdout",
     "output_type": "stream",
     "text": [
      "Enter a number: 5\n",
      "The fibonacci sequence is :\n",
      "0 1 1 2 3 "
     ]
    }
   ],
   "source": [
    "def fib(val):\n",
    "    if val <= 1:\n",
    "        return val\n",
    "    else:\n",
    "        return(fib(val-1) + fib(val-2))\n",
    "num = int(input(\"Enter a number: \")) \n",
    "if num <= 0:\n",
    "    print(\"Enter a positive integer\")\n",
    "else:\n",
    "    print(\"The fibonacci sequence is :\")\n",
    "    for i in range(num):\n",
    "        print(fib(i),end=' ')"
   ]
  },
  {
   "cell_type": "markdown",
   "id": "775f280d",
   "metadata": {},
   "source": [
    "2. Write a Python Program to Find Factorial of Number Using Recursion?"
   ]
  },
  {
   "cell_type": "code",
   "execution_count": 1,
   "id": "f2e50b88",
   "metadata": {},
   "outputs": [
    {
     "name": "stdout",
     "output_type": "stream",
     "text": [
      "Enter a number: 5\n",
      "The factorial of 5 is 120\n"
     ]
    }
   ],
   "source": [
    "def fact(n):  \n",
    "    if n == 1:  \n",
    "        return n  \n",
    "    else:  \n",
    "        return n*fact(n-1)    \n",
    "num = int(input(\"Enter a number: \"))    \n",
    "if num < 0:  \n",
    "    print(\"Enter a positive number\")  \n",
    "elif num == 0:  \n",
    "    print(\"The factorial of 0 = 1\")  \n",
    "else:  \n",
    "    print(\"The factorial of\",num,\"is\",fact(num)) "
   ]
  },
  {
   "cell_type": "markdown",
   "id": "e12f62fd",
   "metadata": {},
   "source": [
    "3. Write a Python Program to calculate your Body Mass Index?"
   ]
  },
  {
   "cell_type": "code",
   "execution_count": 13,
   "id": "50695107",
   "metadata": {},
   "outputs": [
    {
     "name": "stdout",
     "output_type": "stream",
     "text": [
      "Enter your height(m): 1.52\n",
      "Enter your weight(kg): 60\n",
      "Body Mass Index =:  25.97\n"
     ]
    }
   ],
   "source": [
    "height = float(input(\"Enter your height(m): \"))\n",
    "weight = float(input(\"Enter your weight(kg): \"))\n",
    "print(\"Body Mass Index =: \", round(weight / (height * height), 3))"
   ]
  },
  {
   "cell_type": "markdown",
   "id": "a6d5c32e",
   "metadata": {},
   "source": [
    "4. Write a Python Program to calculate the natural logarithm of any number?"
   ]
  },
  {
   "cell_type": "code",
   "execution_count": 19,
   "id": "6ce41630",
   "metadata": {},
   "outputs": [
    {
     "name": "stdout",
     "output_type": "stream",
     "text": [
      "Enter a number: 5\n",
      "log( 5.0 ): 1.6094379124341003\n"
     ]
    }
   ],
   "source": [
    "import math\n",
    "num = float(input(\"Enter a number: \")) \n",
    "print (\"log(\",num,\"):\", math.log(num))"
   ]
  },
  {
   "cell_type": "markdown",
   "id": "2a127d19",
   "metadata": {},
   "source": [
    "5. Write a Python Program for cube sum of first n natural numbers?"
   ]
  },
  {
   "cell_type": "code",
   "execution_count": 25,
   "id": "190d5854",
   "metadata": {},
   "outputs": [
    {
     "name": "stdout",
     "output_type": "stream",
     "text": [
      "Enter a number: 4\n",
      "100\n"
     ]
    }
   ],
   "source": [
    "def cubesum(n):\n",
    "    sum = 0\n",
    "    for i in range(1, n+1):\n",
    "        sum =sum+(i*i*i)\n",
    "    return sum\n",
    "num = int(input(\"Enter a number: \"))\n",
    "if num<=0:\n",
    "    print(\"Enter a natural number\")\n",
    "else:\n",
    "    print(cubesum(num))"
   ]
  },
  {
   "cell_type": "code",
   "execution_count": null,
   "id": "49529059",
   "metadata": {},
   "outputs": [],
   "source": []
  }
 ],
 "metadata": {
  "kernelspec": {
   "display_name": "Python 3",
   "language": "python",
   "name": "python3"
  },
  "language_info": {
   "codemirror_mode": {
    "name": "ipython",
    "version": 3
   },
   "file_extension": ".py",
   "mimetype": "text/x-python",
   "name": "python",
   "nbconvert_exporter": "python",
   "pygments_lexer": "ipython3",
   "version": "3.8.3"
  }
 },
 "nbformat": 4,
 "nbformat_minor": 5
}
