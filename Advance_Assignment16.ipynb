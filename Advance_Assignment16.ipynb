{
  "nbformat": 4,
  "nbformat_minor": 0,
  "metadata": {
    "colab": {
      "name": "Advance Assignment16.ipynb",
      "provenance": [],
      "collapsed_sections": []
    },
    "kernelspec": {
      "name": "python3",
      "display_name": "Python 3"
    },
    "language_info": {
      "name": "python"
    }
  },
  "cells": [
    {
      "cell_type": "markdown",
      "source": [
        "1. Rondo Form is a type of musical structure, in which there is a recurring theme/refrain, notated as A. Here are the rules for valid rondo forms:\n",
        "Rondo forms always start and end with an A section.\n",
        "In between the A sections, there should be contrasting sections notated as B, then C, then D, etc... No letter should be skipped.\n",
        "There shouldn't be any repeats in the sequence (such as ABBACCA).\n",
        "Create a function which validates whether a given string is a valid Rondo Form.\n",
        "\n",
        "Examples\n",
        "\n",
        "valid_rondo(\"ABACADAEAFAGAHAIAJA\") ➞ True\n",
        "\n",
        "valid_rondo(\"ABA\") ➞ True\n",
        "\n",
        "valid_rondo(\"ABBACCA\") ➞ False\n",
        "\n",
        "valid_rondo(\"ACAC\") ➞ False\n",
        "\n",
        "valid_rondo(\"A\") ➞ False"
      ],
      "metadata": {
        "id": "PQ6s1RssK4yt"
      }
    },
    {
      "cell_type": "code",
      "execution_count": 1,
      "metadata": {
        "colab": {
          "base_uri": "https://localhost:8080/"
        },
        "id": "GDHXgTzNK1s-",
        "outputId": "0d03edd0-6a0d-46a1-81e9-9cb1a88fe974"
      },
      "outputs": [
        {
          "output_type": "stream",
          "name": "stdout",
          "text": [
            "True\n",
            "True\n",
            "False\n",
            "False\n",
            "False\n"
          ]
        }
      ],
      "source": [
        "def valid_rondo(s):\n",
        "    if s[0] == s[-1] == 'A' and len(s) > 1:\n",
        "        for i in range(1,len(s)-1):\n",
        "            if s[i] != 'A' and s.count(s[i]) > 1:\n",
        "                return False\n",
        "        return True\n",
        "    else:\n",
        "        return False\n",
        "print(valid_rondo(\"ABACADAEAFAGAHAIAJA\"))\n",
        "print(valid_rondo(\"ABA\"))\n",
        "print(valid_rondo(\"ABBACCA\"))\n",
        "print(valid_rondo(\"ACAC\"))\n",
        "print(valid_rondo(\"A\"))"
      ]
    },
    {
      "cell_type": "markdown",
      "source": [
        "2. Create a function that returns the whole of the first sentence which contains a specific word. Include the full stop at the end of the sentence.\n",
        "\n",
        "Examples\n",
        "\n",
        "txt = \"I have a cat. I have a mat. Things are going swell.\"\n",
        "\n",
        "sentence_searcher(txt, \"have\") ➞ \"I have a cat.\"\n",
        "\n",
        "sentence_searcher(txt, \"MAT\") ➞ \"I have a mat.\"\n",
        "\n",
        "sentence_searcher(txt, \"things\") ➞ \"Things are going swell.\"\n",
        "\n",
        "sentence_searcher(txt, \"flat\") ➞ \"\""
      ],
      "metadata": {
        "id": "px1dTAf0LymQ"
      }
    },
    {
      "cell_type": "code",
      "source": [
        "def sentence_searcher(txt, s):\n",
        "    for i in txt.split('.'):\n",
        "        if s.lower() in i.lower():\n",
        "            i = i.strip()\n",
        "            i += '.'\n",
        "            return i\n",
        "    else:\n",
        "        return \"\"  \n",
        "txt = \"I have a cat. I have a mat. Things are going swell.\" \n",
        "print(\"sentence_searcher(txt, have) ➞\",sentence_searcher(txt, \"have\"))\n",
        "print(\"sentence_searcher(txt, MAT) ➞ \",sentence_searcher(txt, \"MAT\"))\n",
        "print(\"sentence_searcher(txt, things) ➞\",sentence_searcher(txt, \"things\"))\n",
        "print(\"sentence_searcher(txt, flat) ➞\",sentence_searcher(txt, \"flat\"))"
      ],
      "metadata": {
        "colab": {
          "base_uri": "https://localhost:8080/"
        },
        "id": "f6ZN8htuLosI",
        "outputId": "66d40d70-c8f1-4ae1-cce6-db1120e7fb17"
      },
      "execution_count": 4,
      "outputs": [
        {
          "output_type": "stream",
          "name": "stdout",
          "text": [
            "sentence_searcher(txt, have) ➞ I have a cat.\n",
            "sentence_searcher(txt, MAT) ➞  I have a mat.\n",
            "sentence_searcher(txt, things) ➞ Things are going swell.\n",
            "sentence_searcher(txt, flat) ➞ \n"
          ]
        }
      ]
    },
    {
      "cell_type": "markdown",
      "source": [
        "3. Given a number, find the \"round \"of each digit of the number. An integer is called \"round\" if all its digits except the leftmost (most significant) are equal to zero.\n",
        "- Round numbers: 4000, 1, 9, 800, 90\n",
        "- Not round numbers: 110, 707, 222, 1001\n",
        "\n",
        "Create a function that takes a number and returns the \"round\" of each digit (except if the digit is zero) as a string. Check out the following examples for more clarification.\n",
        "\n",
        "Examples\n",
        "\n",
        "sum_round(101) ➞ \"1 100\"\n",
        "\n",
        "sum_round(1234) ➞ \"4 30 200 1000\"\n",
        "\n",
        "sum_round(54210) ➞ \"10 200 4000 50000\""
      ],
      "metadata": {
        "id": "64OZkoZTMjxi"
      }
    },
    {
      "cell_type": "code",
      "source": [
        "def sum_round(n):\n",
        "    n = str(n)\n",
        "    output = ''\n",
        "    j = 1\n",
        "    for i in range(len(n)-1,-1,-1):\n",
        "        output += str(int(n[i]) * j) + ' '\n",
        "        j *= 10\n",
        "    output = output.lstrip('0 ').replace(' 0','')\n",
        "    return output.strip()              \n",
        "print(\"sum_round(101) ➞\",sum_round(101))\n",
        "print(\"sum_round(1234) ➞\",sum_round(1234))\n",
        "print(\"sum_round(54210) ➞\",sum_round(54210))"
      ],
      "metadata": {
        "colab": {
          "base_uri": "https://localhost:8080/"
        },
        "id": "PRXZgg9BMH8z",
        "outputId": "60fb57a9-33b0-4e3e-cdee-ce3ab78994e6"
      },
      "execution_count": 5,
      "outputs": [
        {
          "output_type": "stream",
          "name": "stdout",
          "text": [
            "sum_round(101) ➞ 1 100\n",
            "sum_round(1234) ➞ 4 30 200 1000\n",
            "sum_round(54210) ➞ 10 200 4000 50000\n"
          ]
        }
      ]
    },
    {
      "cell_type": "markdown",
      "source": [
        "4. Your task, is to create N x N multiplication table, of size n provided in parameter.\n",
        "\n",
        "For example, when n is 5, the multiplication table is:\n",
        "\n",
        "1, 2, 3, 4, 5\n",
        "2, 4, 6, 8, 10\n",
        "3, 6, 9, 12, 15\n",
        "4, 8, 12, 16, 20\n",
        "5, 10, 15, 20, 25\n",
        "This example will result in:\n",
        "\n",
        "[[1, 2, 3, 4, 5], [2, 4, 6, 8, 10], [3, 6, 9, 12, 15], [4, 8, 12, 16, 20], [5, 10, 15, 20, 25]]\n",
        "\n",
        "Examples\n",
        "\n",
        "multiplication_table(1) ➞ [[1]]\n",
        "\n",
        "multiplication_table(3) ➞ [[1, 2, 3], [2, 4, 6], [3, 6, 9]]"
      ],
      "metadata": {
        "id": "tVGukiYwNhNE"
      }
    },
    {
      "cell_type": "code",
      "source": [
        "def multiplication_table(n):\n",
        "    l = []\n",
        "    k = 1 \n",
        "    for i in range(n):\n",
        "        l1 = []\n",
        "        for j in range(1,n+1):\n",
        "            l1.append(j * k)\n",
        "        l.append(l1)    \n",
        "        k += 1       \n",
        "    return l \n",
        "\n",
        "print(\"multiplication_table(1) ➞\",multiplication_table(1))\n",
        "print(\"multiplication_table(3) ➞\",multiplication_table(3))"
      ],
      "metadata": {
        "colab": {
          "base_uri": "https://localhost:8080/"
        },
        "id": "Qr612I9JNHr-",
        "outputId": "4e3225a4-bc00-4ee4-dd5c-9e2b1d440458"
      },
      "execution_count": 6,
      "outputs": [
        {
          "output_type": "stream",
          "name": "stdout",
          "text": [
            "multiplication_table(1) ➞ [[1]]\n",
            "multiplication_table(3) ➞ [[1, 2, 3], [2, 4, 6], [3, 6, 9]]\n"
          ]
        }
      ]
    },
    {
      "cell_type": "markdown",
      "source": [
        "5. Create a function that returns True if two lines rhyme and False otherwise. For the purposes of this exercise, two lines rhyme if the last word from each sentence contains the same vowels.\n",
        "\n",
        "Examples\n",
        "\n",
        "does_rhyme(\"Sam I am!\", \"Green eggs and ham.\") ➞ True\n",
        "\n",
        "does_rhyme(\"Sam I am!\", \"Green eggs and HAM.\") ➞ True\n",
        "\n",
        "Capitalization and punctuation should not matter.\n",
        "\n",
        "does_rhyme(\"You are off to the races\", \"a splendid day.\") ➞ False\n",
        "\n",
        "does_rhyme(\"and frequently do?\", \"you gotta move.\") ➞ False"
      ],
      "metadata": {
        "id": "xn2tOGbQN63O"
      }
    },
    {
      "cell_type": "code",
      "source": [
        "def does_rhyme(s,s1):\n",
        "    for le in s.split()[-1]:\n",
        "        for le1 in s1.split()[-1]:\n",
        "            if le.lower() in \"aieou\" and le1.lower() in \"aeiou\":\n",
        "                if le.lower() != le1.lower():\n",
        "                    return False\n",
        "    return True                        \n",
        "print(does_rhyme(\"Sam I am!\", \"Green eggs and ham.\"))\n",
        "print(does_rhyme(\"Sam I am!\", \"Green eggs and HAM.\") )\n",
        "print(does_rhyme(\"You are off to the races\", \"a splendid day.\"))\n",
        "print(does_rhyme(\"and frequently do?\", \"you gotta move.\"))"
      ],
      "metadata": {
        "colab": {
          "base_uri": "https://localhost:8080/"
        },
        "id": "0Cu5FRcDN4r7",
        "outputId": "20b817c1-aad7-47ba-8bd3-b2d03090fe15"
      },
      "execution_count": 7,
      "outputs": [
        {
          "output_type": "stream",
          "name": "stdout",
          "text": [
            "True\n",
            "True\n",
            "False\n",
            "False\n"
          ]
        }
      ]
    },
    {
      "cell_type": "code",
      "source": [
        ""
      ],
      "metadata": {
        "id": "UlIgbpECOO4R"
      },
      "execution_count": null,
      "outputs": []
    }
  ]
}