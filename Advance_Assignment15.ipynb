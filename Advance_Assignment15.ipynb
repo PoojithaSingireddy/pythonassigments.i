{
  "nbformat": 4,
  "nbformat_minor": 0,
  "metadata": {
    "colab": {
      "name": "Advance Assignment15.ipynb",
      "provenance": [],
      "collapsed_sections": []
    },
    "kernelspec": {
      "name": "python3",
      "display_name": "Python 3"
    },
    "language_info": {
      "name": "python"
    }
  },
  "cells": [
    {
      "cell_type": "markdown",
      "source": [
        "1. Write a function that returns True if a given name can generate an array of words.\n",
        "\n",
        "Examples\n",
        "\n",
        "anagram(\"Justin Bieber\", [\"injures\", \"ebb\", \"it\"]) ➞ True\n",
        "\n",
        "anagram(\"Natalie Portman\", [\"ornamental\", \"pita\"]) ➞ True\n",
        "\n",
        "anagram(\"Chris Pratt\", [\"chirps\", \"rat\"]) ➞ False\n",
        "\n",
        "Not all letters are used\n",
        "anagram(\"Jeff Goldblum\", [\"jog\", \"meld\", \"bluffs\"]) ➞ False\n",
        "\n",
        "\"s\" does not exist in the original name"
      ],
      "metadata": {
        "id": "-GTZZVc63ylw"
      }
    },
    {
      "cell_type": "code",
      "execution_count": 1,
      "metadata": {
        "colab": {
          "base_uri": "https://localhost:8080/"
        },
        "id": "o-NGnwj_1ZcV",
        "outputId": "8fdf1b11-d1b8-4cb4-b5f7-759c51c4d769"
      },
      "outputs": [
        {
          "output_type": "stream",
          "name": "stdout",
          "text": [
            "True\n",
            "True\n",
            "False\n",
            "False\n"
          ]
        }
      ],
      "source": [
        "def anagram(s,l):\n",
        "    for w in l:\n",
        "        for le in w:\n",
        "            if le not in s:\n",
        "                return False\n",
        "            return True\n",
        "\n",
        "print(anagram(\"Justin Bieber\", [\"injures\", \"ebb\", \"it\"]))\n",
        "print(anagram(\"Natalie Portman\", [\"ornamental\", \"pita\"]))\n",
        "print(anagram(\"Chris Pratt\", [\"chirps\", \"rat\"])) \n",
        "print(anagram(\"Jeff Goldblum\", [\"jog\", \"meld\", \"bluffs\"]))"
      ]
    },
    {
      "cell_type": "markdown",
      "source": [
        "2. Given an array of users, each defined by an object with the following properties: name, score, reputation create a function that sorts the array to form the correct leaderboard.\n",
        "The leaderboard takes into consideration the score of each user of course, but an emphasis is put on their reputation in the community, so to get the trueScore, you should add the reputation multiplied by 2 to the score.\n",
        "\n",
        "Once you know the trueScore of each user, sort the array according to it in descending order.\n",
        "\n",
        "Examples\n",
        "\n",
        "leaderboards([ { \"name\": \"a\", \"score\": 100, \"reputation\": 20 }, { \"name\": \"b\", \"score\": 90, \"reputation\": 40 }, { \"name\": \"c\", \"score\": 115, \"reputation\": 30 }, ]) ➞ [ { \"name\": \"c\", \"score\": 115, \"reputation\": 30 }, # trueScore = 175 { \"name\": \"b\", \"score\": 90, \"reputation\": 40 }, # trueScore = 170 { \"name\": \"a\", \"score\": 100, \"reputation\": 20 } # trueScore = 140 ]"
      ],
      "metadata": {
        "id": "ZjVFpPt-4D2d"
      }
    },
    {
      "cell_type": "code",
      "source": [
        "from operator import itemgetter\n",
        "def leaderboard(l):\n",
        "    return sorted(l, reverse=True, key = lambda k : k['score'] + k['reputation'] * 2 )\n",
        "print(leaderboard([{ \"name\": \"a\", \"score\": 100, \"reputation\": 20 }, { \"name\": \"b\", \"score\": 90, \"reputation\": 40 }, { \"name\": \"c\", \"score\": 115, \"reputation\": 30 } ]))\n"
      ],
      "metadata": {
        "colab": {
          "base_uri": "https://localhost:8080/"
        },
        "id": "XQDVA5vz39qV",
        "outputId": "16ef3ead-ce39-48d8-9008-999763044edd"
      },
      "execution_count": 2,
      "outputs": [
        {
          "output_type": "stream",
          "name": "stdout",
          "text": [
            "[{'name': 'c', 'score': 115, 'reputation': 30}, {'name': 'b', 'score': 90, 'reputation': 40}, {'name': 'a', 'score': 100, 'reputation': 20}]\n"
          ]
        }
      ]
    },
    {
      "cell_type": "markdown",
      "source": [
        "3. Create a function that, given a phrase and a number of letters guessed, returns a string with hyphens - for every letter of the phrase not guessed, and each letter guessed in place.\n",
        "\n",
        "Examples\n",
        "\n",
        "hangman(\"helicopter\", [\"o\", \"e\", \"s\"]) ➞ \"-e---o--e-\"\n",
        "\n",
        "hangman(\"tree\", [\"r\", \"t\", \"e\"]) ➞ \"tree\"\n",
        "\n",
        "hangman(\"Python rules\", [\"a\", \"n\", \"p\", \"r\", \"z\"]) ➞ \"P----n r----\"\n",
        "\n",
        "hangman(\"He\"s a very naughty boy!\", [\"e\", \"a\", \"y\"]) ➞ \"-e\"- a -e-y -a----y –y!\""
      ],
      "metadata": {
        "id": "dTMsYFh36qnf"
      }
    },
    {
      "cell_type": "code",
      "source": [
        "def hangman(s,l):\n",
        "    for le in s:\n",
        "        if le.lower() not in l and le != '\"':\n",
        "            s = s.replace(le,'-')            \n",
        "    return s\n",
        "print(hangman(\"helicopter\", [\"o\", \"e\", \"s\"]))\n",
        "print(hangman(\"tree\", [\"r\", \"t\", \"e\"]) )\n",
        "print(hangman(\"Python rules\", [\"a\", \"n\", \"p\", \"r\", \"z\"]) )\n",
        "print(hangman('He\"s a very naughty boy!', [\"e\", \"a\", \"y\"]))"
      ],
      "metadata": {
        "colab": {
          "base_uri": "https://localhost:8080/"
        },
        "id": "-qHAMnn24Vaf",
        "outputId": "c4a4577b-36da-4217-f7f5-016457c45696"
      },
      "execution_count": 4,
      "outputs": [
        {
          "output_type": "stream",
          "name": "stdout",
          "text": [
            "-e---o--e-\n",
            "tree\n",
            "P----n-r----\n",
            "-e\"--a--e-y--a----y---y-\n"
          ]
        }
      ]
    },
    {
      "cell_type": "markdown",
      "source": [
        "4. The Collatz sequence is as follows:\n",
        "Start with some given integer n.\n",
        "If it is even, the next number will be n divided by 2.\n",
        "If it is odd, multiply it by 3 and add 1 to make the next number.\n",
        "The sequence stops when it reaches 1.\n",
        "According to the Collatz conjecture, it will always reach 1. If that's true, you can construct a finite sequence following the aforementioned method for any given integer.\n",
        "\n",
        "Write a function that takes in an integer n and returns the highest integer in the corresponding Collatz sequence.\n",
        "\n",
        "Examples\n",
        "\n",
        "max_collatz(10) ➞ 16\n",
        "\n",
        "Collatz sequence: 10, 5, 16, 8, 4, 2, 1\n",
        "max_collatz(32) ➞ 32\n",
        "\n",
        "Collatz sequence: 32, 16, 8, 4, 2, 1\n",
        "max_collatz(85) ➞ 256\n",
        "\n",
        "Collatz sequence: 85, 256, 128, 64, 32, 16, 8, 4, 2, 1"
      ],
      "metadata": {
        "id": "jyBMTGYUIBdw"
      }
    },
    {
      "cell_type": "code",
      "source": [
        "def max_collatz(n):\n",
        "    l = [n]\n",
        "    i = 0\n",
        "    while l[-1] != 1:\n",
        "        if l[i] % 2 ==0:\n",
        "            l.append(l[i] / 2)\n",
        "        else:\n",
        "            l.append(l[i] * 3 + 1)\n",
        "        i += 1    \n",
        "    return list(map(int,l))\n",
        "print(\"max_collatz(10) ➞\",max_collatz(10))\n",
        "print(\"max_collatz(32) ➞\",max_collatz(32))\n",
        "print(\"max_collatz(85) ➞\",max_collatz(85))"
      ],
      "metadata": {
        "colab": {
          "base_uri": "https://localhost:8080/"
        },
        "id": "CNlBKXsjH8Be",
        "outputId": "5a5b1992-5994-4ac3-acbf-deb7ba9bb163"
      },
      "execution_count": 5,
      "outputs": [
        {
          "output_type": "stream",
          "name": "stdout",
          "text": [
            "max_collatz(10) ➞ [10, 5, 16, 8, 4, 2, 1]\n",
            "max_collatz(32) ➞ [32, 16, 8, 4, 2, 1]\n",
            "max_collatz(85) ➞ [85, 256, 128, 64, 32, 16, 8, 4, 2, 1]\n"
          ]
        }
      ]
    },
    {
      "cell_type": "markdown",
      "source": [
        "5. Write a function that sorts a list of integers by their digit length in descending order, then settles ties by sorting numbers with the same digit length in ascending order.\n",
        "\n",
        "Examples\n",
        "\n",
        "digit_sort([77, 23, 5, 7, 101]) ➞ [101, 23, 77, 5, 7]\n",
        "\n",
        "digit_sort([1, 5, 9, 2, 789, 563, 444]) ➞ [444, 563, 789, 1, 2, 5, 9]\n",
        "\n",
        "digit_sort([53219, 3772, 564, 32, 1]) ➞ [53219, 3772, 564, 32, 1]"
      ],
      "metadata": {
        "id": "4sWZjkNoIfQT"
      }
    },
    {
      "cell_type": "code",
      "source": [
        "def digit_sort(l):\n",
        "    l = list(map(str,l))  \n",
        "    l = sorted(l, key = len, reverse=True) \n",
        "    for i in range(len(l)):\n",
        "        for j in range(i,len(l)):\n",
        "            if len(l[i]) == len(l[j]):\n",
        "                if l[j] < l[i]:\n",
        "                    temp = l[i]\n",
        "                    l[i] = l[j]\n",
        "                    l[j] = temp\n",
        "    return list(map(int,l))\n",
        "\n",
        "print(\"digit_sort([77, 23, 5, 7, 101]) ➞\",digit_sort([77,23,5,7,101]))\n",
        "print(\"digit_sort([1, 5, 9, 2, 789, 563, 444]) ➞\",digit_sort([1, 5, 9, 2, 789, 563, 444]))\n",
        "print(\"digit_sort([53219, 3772, 564, 32, 1]) ➞\",digit_sort([53219, 3772, 564, 32, 1]))"
      ],
      "metadata": {
        "colab": {
          "base_uri": "https://localhost:8080/"
        },
        "id": "IkY8XQoaIaDS",
        "outputId": "8df0d86d-9bc8-4e5f-f80c-13eb5e57f52c"
      },
      "execution_count": 6,
      "outputs": [
        {
          "output_type": "stream",
          "name": "stdout",
          "text": [
            "digit_sort([77, 23, 5, 7, 101]) ➞ [101, 23, 77, 5, 7]\n",
            "digit_sort([1, 5, 9, 2, 789, 563, 444]) ➞ [444, 563, 789, 1, 2, 5, 9]\n",
            "digit_sort([53219, 3772, 564, 32, 1]) ➞ [53219, 3772, 564, 32, 1]\n"
          ]
        }
      ]
    },
    {
      "cell_type": "code",
      "source": [
        ""
      ],
      "metadata": {
        "id": "6nNcnUM4I3f8"
      },
      "execution_count": null,
      "outputs": []
    }
  ]
}