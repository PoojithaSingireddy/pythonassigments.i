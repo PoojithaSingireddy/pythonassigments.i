{
  "nbformat": 4,
  "nbformat_minor": 0,
  "metadata": {
    "colab": {
      "name": "Advance Assignment5.ipynb",
      "provenance": [],
      "collapsed_sections": []
    },
    "kernelspec": {
      "name": "python3",
      "display_name": "Python 3"
    },
    "language_info": {
      "name": "python"
    }
  },
  "cells": [
    {
      "cell_type": "markdown",
      "source": [
        "1. Create a function that takes a number n (integer greater than zero) as an\n",
        "argument, and returns 2 if n is odd and 8 if n is even.\n",
        "You can only use the following arithmetic operators: addition of numbers +,\n",
        "subtraction of numbers -, multiplication of number *, division of number /, and\n",
        "exponentiation **.\n",
        "You are not allowed to use any other methods in this challenge (i.e. no if\n",
        "statements, comparison operators, etc).\n",
        "\n",
        "Examples\n",
        "\n",
        "f(1) ➞ 2\n",
        "\n",
        "f(2) ➞ 8\n",
        "\n",
        "f(3) ➞ 2"
      ],
      "metadata": {
        "id": "5bZn6XmXhJlG"
      }
    },
    {
      "cell_type": "code",
      "execution_count": null,
      "metadata": {
        "colab": {
          "base_uri": "https://localhost:8080/"
        },
        "id": "kRl3DixphF5g",
        "outputId": "92595562-81e0-4a0f-ab03-5fe142c008e5"
      },
      "outputs": [
        {
          "output_type": "stream",
          "name": "stdout",
          "text": [
            "2\n",
            "8\n",
            "2\n"
          ]
        }
      ],
      "source": [
        "def f(n):\n",
        "    n = n/2\n",
        "    b = n - int(n)\n",
        "    d = {0.5:2, 0.0:8}\n",
        "    return (d[b])\n",
        "print(f(1))\n",
        "print(f(2))\n",
        "print(f(3))\n"
      ]
    },
    {
      "cell_type": "markdown",
      "source": [
        "2. Create a function that returns the majority vote in a list. A majority vote is an element that occurs > N/2 times in a list (where N is the length of the list).\n",
        "\n",
        "Examples\n",
        "\n",
        "majority_vote([\"A\", \"A\", \"B\"]) ➞ \"A\"\n",
        "\n",
        "majority_vote([\"A\", \"A\", \"A\", \"B\", \"C\", \"A\"]) ➞ \"A\"\n",
        "\n",
        "majority_vote([\"A\", \"B\", \"B\", \"A\", \"C\", \"C\"]) ➞ None"
      ],
      "metadata": {
        "id": "QbZtxgVCj0y_"
      }
    },
    {
      "cell_type": "code",
      "source": [
        "def majority_vote(l):   \n",
        "    n = len(l)\n",
        "    for item in l:\n",
        "        if l.count(item) > (n/2):\n",
        "            return item\n",
        "        else:\n",
        "            return 'None'\n",
        "print(majority_vote([\"A\", \"A\", \"B\"]))  \n",
        "print(majority_vote([\"A\", \"A\", \"A\", \"B\", \"C\", \"A\"]))\n",
        "print(majority_vote([\"A\", \"B\", \"B\", \"A\", \"C\", \"C\"]))"
      ],
      "metadata": {
        "colab": {
          "base_uri": "https://localhost:8080/"
        },
        "id": "K2vTSyf9jru1",
        "outputId": "928fd576-1512-4cd1-f06c-f71ac78a4752"
      },
      "execution_count": null,
      "outputs": [
        {
          "output_type": "stream",
          "name": "stdout",
          "text": [
            "A\n",
            "A\n",
            "None\n"
          ]
        }
      ]
    },
    {
      "cell_type": "markdown",
      "source": [
        "3. Create a function that takes a string txt and censors any word from a given list lst. The text removed must be replaced by the given character char.\n",
        "\n",
        "Examples\n",
        "\n",
        "censor_string(\"Today is a Wednesday!\", [\"Today\", \"a\"], \"-\") ➞ \"----- is - Wednesday!\"\n",
        "\n",
        "censor_string(\"The cow jumped over the moon.\", [\"cow\", \"over\"], \"\"), \"The ** jumped ** the moon.\")\n",
        "\n",
        "censor_string(\"Why did the chicken cross the road?\", [\"Did\", \"chicken\", \"road\"], \"\") ➞ \"Why ** the *** cross the **?\""
      ],
      "metadata": {
        "id": "sXBYJ1d3oIhV"
      }
    },
    {
      "cell_type": "code",
      "source": [
        "def censor_string(s,l,s1):\n",
        "    l = [i.lower() for i in l]\n",
        "    s = s.lower().rstrip('?')\n",
        "    for word in s.split(' '):\n",
        "        if word in l:\n",
        "            s = s.replace(word,s1 * len(word),1)\n",
        "    return s    \n",
        "\n",
        "print(censor_string(\"Today is a Wednesday!\", [\"Today\", \"a\"], \"-\"))\n",
        "print(censor_string(\"The cow jumped over the moon.\", [\"cow\", \"over\"], \"*\"))\n",
        "print(censor_string(\"Why did the chicken cross the road?\", [\"Did\", \"chicken\", \"road\"], \"*\"))"
      ],
      "metadata": {
        "colab": {
          "base_uri": "https://localhost:8080/"
        },
        "id": "gVfK9BzQkBNX",
        "outputId": "fb38a128-8de6-4bf4-b60e-8733fbd9f044"
      },
      "execution_count": null,
      "outputs": [
        {
          "output_type": "stream",
          "name": "stdout",
          "text": [
            "----- is - wednesday!\n",
            "the *** jumped **** the moon.\n",
            "why *** the ******* cross the ****\n"
          ]
        }
      ]
    },
    {
      "cell_type": "markdown",
      "source": [
        "4. In mathematics a Polydivisible Number (or magic number) is a number in a given number base with digits abcde... that has the following properties:\n",
        "Its first digit a is not 0.\n",
        "The number formed by its first two digits ab is a multiple of 2.\n",
        "The number formed by its first three digits abc is a multiple of 3.\n",
        "The number formed by its first four digits abcd is a multiple of 4.\n",
        "Create a function which takes an integer n and returns True if the given number is a Polydivisible Number and False otherwise.\n",
        "\n",
        "Examples\n",
        "\n",
        "is_polydivisible(1232) ➞ True\n",
        "\n",
        "1 / 1 = 1\n",
        "\n",
        "12 / 2 = 6\n",
        "\n",
        "123 / 3 = 41\n",
        "\n",
        "1232 / 4 = 308\n",
        "\n",
        "is_polydivisible(123220 ) ➞ False 1 / 1 = 1\n",
        "\n",
        "12 / 2 = 6\n",
        "\n",
        "123 / 3 = 41\n",
        "\n",
        "1232 / 4 = 308\n",
        "\n",
        "12322 / 5 = 2464.4 # Not a Whole Number\n",
        "\n",
        "123220 /6 = 220536.333... # Not a Whole Number"
      ],
      "metadata": {
        "id": "RDfV7qDYpLba"
      }
    },
    {
      "cell_type": "code",
      "source": [
        "def is_polydivisible(n):\n",
        "    l = str(n)\n",
        "    if n % len(l) == 0:\n",
        "        return True\n",
        "    else:\n",
        "        return False\n",
        "print(is_polydivisible(1))    \n",
        "print(is_polydivisible(12))    \n",
        "print(is_polydivisible(123))    \n",
        "print(is_polydivisible(1232))    \n",
        "print(is_polydivisible(12322))\n",
        "print(is_polydivisible(123220))"
      ],
      "metadata": {
        "colab": {
          "base_uri": "https://localhost:8080/"
        },
        "id": "yHXLApmroRPL",
        "outputId": "89e867d0-9f8a-47ec-ca22-d4da90423d5b"
      },
      "execution_count": null,
      "outputs": [
        {
          "output_type": "stream",
          "name": "stdout",
          "text": [
            "True\n",
            "True\n",
            "True\n",
            "True\n",
            "False\n",
            "False\n"
          ]
        }
      ]
    },
    {
      "cell_type": "markdown",
      "source": [
        "5. Create a function that takes a list of numbers and returns the sum of all prime numbers in the list.\n",
        "\n",
        "Examples\n",
        "\n",
        "sum_primes([1, 2, 3, 4, 5, 6, 7, 8, 9, 10]) ➞ 17\n",
        "\n",
        "sum_primes([2, 3, 4, 11, 20, 50, 71]) ➞ 87\n",
        "\n",
        "sum_primes([]) ➞ None\n",
        "\n"
      ],
      "metadata": {
        "id": "0Ypu229erfxv"
      }
    },
    {
      "cell_type": "code",
      "source": [
        "def sum_primes(l):\n",
        "    sum = 0 \n",
        "    flag = 0\n",
        "    if l:\n",
        "        for n in l:\n",
        "            if n == 2:\n",
        "                sum += n\n",
        "            elif n > 2:            \n",
        "                for i in range(2,n):\n",
        "                    if n % i == 0:\n",
        "                        break\n",
        "                else:\n",
        "                    sum += n\n",
        "        return sum\n",
        "    else:\n",
        "        return None\n",
        "print(sum_primes([1, 2, 3, 4, 5, 6, 7, 8, 9, 10]))\n",
        "print(sum_primes([2, 3, 4, 11, 20, 50, 71]))\n",
        "print(sum_primes([]))"
      ],
      "metadata": {
        "id": "EvLG2mq2reHa",
        "colab": {
          "base_uri": "https://localhost:8080/"
        },
        "outputId": "4b105dda-4f02-49d7-ac7e-17b8c84b8f8d"
      },
      "execution_count": 1,
      "outputs": [
        {
          "output_type": "stream",
          "name": "stdout",
          "text": [
            "17\n",
            "87\n",
            "None\n"
          ]
        }
      ]
    },
    {
      "cell_type": "code",
      "source": [
        ""
      ],
      "metadata": {
        "id": "EyYzPN9gU3f0"
      },
      "execution_count": null,
      "outputs": []
    }
  ]
}