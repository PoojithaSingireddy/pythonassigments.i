{
  "nbformat": 4,
  "nbformat_minor": 0,
  "metadata": {
    "colab": {
      "name": "Assignment_16.ipynb",
      "provenance": []
    },
    "kernelspec": {
      "name": "python3",
      "display_name": "Python 3"
    },
    "language_info": {
      "name": "python"
    }
  },
  "cells": [
    {
      "cell_type": "markdown",
      "metadata": {
        "id": "x32tTnVuWBpv"
      },
      "source": [
        "1.Create a list called years_list, starting with the year of your birth, and each year thereafter until the year of your fifth birthday. For example, if you were born in 1980. the list would be years_list = [1980, 1981, 1982, 1983, 1984, 1985]."
      ]
    },
    {
      "cell_type": "code",
      "metadata": {
        "id": "_QmtdXjwWAiQ"
      },
      "source": [
        "years_list=[2000,2001,2002,2003,2004,2005]"
      ],
      "execution_count": null,
      "outputs": []
    },
    {
      "cell_type": "markdown",
      "metadata": {
        "id": "isPaTNpgWVR9"
      },
      "source": [
        "2. In which year in years_list was your third birthday? Remember, you were 0 years of age for your first year."
      ]
    },
    {
      "cell_type": "code",
      "metadata": {
        "colab": {
          "base_uri": "https://localhost:8080/"
        },
        "id": "0LmJ09JyWdrK",
        "outputId": "2c65710b-6f07-4f1e-856e-3f412fa12e27"
      },
      "source": [
        "years_list[2]"
      ],
      "execution_count": null,
      "outputs": [
        {
          "output_type": "execute_result",
          "data": {
            "text/plain": [
              "2002"
            ]
          },
          "metadata": {},
          "execution_count": 3
        }
      ]
    },
    {
      "cell_type": "markdown",
      "metadata": {
        "id": "bvC1C2XFWqkO"
      },
      "source": [
        "3.In the years list, which year were you the oldest?"
      ]
    },
    {
      "cell_type": "code",
      "metadata": {
        "colab": {
          "base_uri": "https://localhost:8080/"
        },
        "id": "PNPhho8MW1Q4",
        "outputId": "f44b0278-4747-48ea-d49b-b76ed40be581"
      },
      "source": [
        "years_list[-1]"
      ],
      "execution_count": null,
      "outputs": [
        {
          "output_type": "execute_result",
          "data": {
            "text/plain": [
              "2005"
            ]
          },
          "metadata": {},
          "execution_count": 4
        }
      ]
    },
    {
      "cell_type": "markdown",
      "metadata": {
        "id": "B_QzKYvWW9Jm"
      },
      "source": [
        "4.Make a list called things with these three strings as elements: \"mozzarella\", \"cinderella\", \"salmonella\"."
      ]
    },
    {
      "cell_type": "code",
      "metadata": {
        "id": "DusPABH-XWHu"
      },
      "source": [
        "things=[\"mozzarella\", \"cinderella\", \"salmonella\"]"
      ],
      "execution_count": null,
      "outputs": []
    },
    {
      "cell_type": "markdown",
      "metadata": {
        "id": "yzaVdft2XNAB"
      },
      "source": [
        "5. Capitalize the element in things that refers to a person and then print the list. Did it change the element in the list?"
      ]
    },
    {
      "cell_type": "code",
      "metadata": {
        "colab": {
          "base_uri": "https://localhost:8080/"
        },
        "id": "F6x1_gxTXJaq",
        "outputId": "d583fab9-4d02-4758-e37c-db54abfb2af6"
      },
      "source": [
        "#things=[\"mozzarella\", \"cinderella\", \"salmonella\"]\n",
        "for i in range(len(things)):\n",
        "    if things[i] == 'cinderella': \n",
        "        things[i] = things[i].capitalize()\n",
        "\n",
        "things"
      ],
      "execution_count": null,
      "outputs": [
        {
          "output_type": "execute_result",
          "data": {
            "text/plain": [
              "['mozzarella', 'Cinderella', 'salmonella']"
            ]
          },
          "metadata": {},
          "execution_count": 14
        }
      ]
    },
    {
      "cell_type": "markdown",
      "metadata": {
        "id": "5tCY6XtncyoM"
      },
      "source": [
        "6.Make a surprise list with the elements \"Groucho,\" \"Chico,\" and \"Harpo.\""
      ]
    },
    {
      "cell_type": "code",
      "metadata": {
        "id": "R7bs0sQvcCpr"
      },
      "source": [
        "surprise=[\"Groucho\",\"Chico\",\"Harpo\"]"
      ],
      "execution_count": null,
      "outputs": []
    },
    {
      "cell_type": "markdown",
      "metadata": {
        "id": "Pb7-BKaMdD7q"
      },
      "source": [
        "7.Lowercase the last element of the surprise list, reverse it, and then capitalize it."
      ]
    },
    {
      "cell_type": "code",
      "metadata": {
        "colab": {
          "base_uri": "https://localhost:8080/"
        },
        "id": "UIFqcL-kdCmb",
        "outputId": "59a9112b-461d-400e-fce1-8c0c853d0475"
      },
      "source": [
        "def reverse(s):\n",
        "  str = \"\"\n",
        "  for i in s:\n",
        "    str = i + str\n",
        "  return str\n",
        "last=surprise[-1]\n",
        "last=last.lower()\n",
        "#print(last)\n",
        "last1=reverse(last)\n",
        "#print(last1)\n",
        "last1=last1.capitalize()\n",
        "surprise[-1]=last1\n",
        "print(surprise)\n"
      ],
      "execution_count": null,
      "outputs": [
        {
          "output_type": "stream",
          "name": "stdout",
          "text": [
            "['Groucho', 'Chico', 'Oprah']\n"
          ]
        }
      ]
    },
    {
      "cell_type": "markdown",
      "metadata": {
        "id": "dHCkjlfEnOP2"
      },
      "source": [
        "8.Make an English-to-French dictionary called e2f and print it. Here are your starter words: dog is chien, cat is chat, and walrus is morse."
      ]
    },
    {
      "cell_type": "code",
      "metadata": {
        "colab": {
          "base_uri": "https://localhost:8080/"
        },
        "id": "LSHUBtEUmxoF",
        "outputId": "b35886fc-85b9-4384-f77b-056a7d71d217"
      },
      "source": [
        "e2f={'dog':'chien','cat':'chat','walrus':'morse'}\n",
        "e2f"
      ],
      "execution_count": null,
      "outputs": [
        {
          "output_type": "execute_result",
          "data": {
            "text/plain": [
              "{'cat': 'chat', 'dog': 'chien', 'walrus': 'morse'}"
            ]
          },
          "metadata": {},
          "execution_count": 34
        }
      ]
    },
    {
      "cell_type": "markdown",
      "metadata": {
        "id": "VEnKTUZZrD55"
      },
      "source": [
        "9. Write the French word for walrus in your three-word dictionary e2f."
      ]
    },
    {
      "cell_type": "code",
      "metadata": {
        "colab": {
          "base_uri": "https://localhost:8080/",
          "height": 35
        },
        "id": "IyzhBX06qJNG",
        "outputId": "3ebf7c4f-9df4-4637-ea5d-1d0bda44e92c"
      },
      "source": [
        "e2f['walrus']"
      ],
      "execution_count": null,
      "outputs": [
        {
          "output_type": "execute_result",
          "data": {
            "application/vnd.google.colaboratory.intrinsic+json": {
              "type": "string"
            },
            "text/plain": [
              "'morse'"
            ]
          },
          "metadata": {},
          "execution_count": 35
        }
      ]
    },
    {
      "cell_type": "markdown",
      "metadata": {
        "id": "fhRakl4hrUBg"
      },
      "source": [
        "10. Make a French-to-English dictionary called f2e from e2f. Use the items method."
      ]
    },
    {
      "cell_type": "code",
      "metadata": {
        "colab": {
          "base_uri": "https://localhost:8080/"
        },
        "id": "-FHb7fsLrK2r",
        "outputId": "1e7789a5-7049-4a6c-f7c3-e35b11f5a1f8"
      },
      "source": [
        "f2e= dict([(value, key) for key, value in e2f.items()])\n",
        "print(f2e)"
      ],
      "execution_count": null,
      "outputs": [
        {
          "output_type": "stream",
          "name": "stdout",
          "text": [
            "{'chien': 'dog', 'chat': 'cat', 'morse': 'walrus'}\n"
          ]
        }
      ]
    },
    {
      "cell_type": "markdown",
      "metadata": {
        "id": "hl8nbzeus6y6"
      },
      "source": [
        "11.Print the English version of the French word chien using f2e."
      ]
    },
    {
      "cell_type": "code",
      "metadata": {
        "colab": {
          "base_uri": "https://localhost:8080/",
          "height": 35
        },
        "id": "SUbKC1mes2HC",
        "outputId": "7a6709dc-9712-41c9-a7b6-2f1f24bb408a"
      },
      "source": [
        "f2e['chien']"
      ],
      "execution_count": null,
      "outputs": [
        {
          "output_type": "execute_result",
          "data": {
            "application/vnd.google.colaboratory.intrinsic+json": {
              "type": "string"
            },
            "text/plain": [
              "'dog'"
            ]
          },
          "metadata": {},
          "execution_count": 37
        }
      ]
    },
    {
      "cell_type": "markdown",
      "metadata": {
        "id": "8zXW51GntNJq"
      },
      "source": [
        "12.Make and print a set of English words from the keys in e2f."
      ]
    },
    {
      "cell_type": "code",
      "metadata": {
        "colab": {
          "base_uri": "https://localhost:8080/"
        },
        "id": "jVr5f-QntKrz",
        "outputId": "33e06d57-0400-4c8e-c70c-80babe18ff0c"
      },
      "source": [
        "li=e2f.keys()\n",
        "print(list(li))"
      ],
      "execution_count": null,
      "outputs": [
        {
          "output_type": "stream",
          "name": "stdout",
          "text": [
            "['dog', 'cat', 'walrus']\n"
          ]
        }
      ]
    },
    {
      "cell_type": "markdown",
      "metadata": {
        "id": "5Dl90D6ZuUA2"
      },
      "source": [
        "13.Make a multilevel dictionary called life. Use these strings for the topmost keys: 'animals', 'plants', and 'other'. Make the 'animals' key refer to another dictionary with the keys 'cats', 'octopi', and 'emus'. Make the 'cats' key refer to a list of strings with the values 'Henri', 'Grumpy', and 'Lucy'. Make all the other keys refer to empty dictionaries."
      ]
    },
    {
      "cell_type": "code",
      "metadata": {
        "id": "OBljW1hRtpDG"
      },
      "source": [
        "life={\n",
        "    'animals':{\n",
        "        'cats':[\n",
        "                'Henri','Grumpy','Lucy'\n",
        "        ],\n",
        "        'octopi':{},\n",
        "        'emus':{}\n",
        "    },\n",
        "    'plants':{},\n",
        "    'other':{}\n",
        "}"
      ],
      "execution_count": null,
      "outputs": []
    },
    {
      "cell_type": "markdown",
      "metadata": {
        "id": "e06n0uOIviRJ"
      },
      "source": [
        "14. Print the top-level keys of life."
      ]
    },
    {
      "cell_type": "code",
      "metadata": {
        "colab": {
          "base_uri": "https://localhost:8080/"
        },
        "id": "n-jZ4dgNvZbp",
        "outputId": "7656fb90-e30d-4870-e51b-d4df8c066666"
      },
      "source": [
        "print(list(life.keys()))"
      ],
      "execution_count": null,
      "outputs": [
        {
          "output_type": "stream",
          "name": "stdout",
          "text": [
            "['animals', 'plants', 'other']\n"
          ]
        }
      ]
    },
    {
      "cell_type": "markdown",
      "metadata": {
        "id": "pwl337Qav2YN"
      },
      "source": [
        "15. Print the keys for life['animals']."
      ]
    },
    {
      "cell_type": "code",
      "metadata": {
        "colab": {
          "base_uri": "https://localhost:8080/"
        },
        "id": "op2Eg9ixvorP",
        "outputId": "2d89d8fe-9bb2-45d7-ecb0-657ff260f08b"
      },
      "source": [
        "print(list(life['animals'].keys()))"
      ],
      "execution_count": null,
      "outputs": [
        {
          "output_type": "stream",
          "name": "stdout",
          "text": [
            "['cats', 'octopi', 'emus']\n"
          ]
        }
      ]
    },
    {
      "cell_type": "markdown",
      "metadata": {
        "id": "PWHhH7sawDBO"
      },
      "source": [
        "16. Print the values for life['animals']['cats']"
      ]
    },
    {
      "cell_type": "code",
      "metadata": {
        "colab": {
          "base_uri": "https://localhost:8080/"
        },
        "id": "mUDUtyTGv_HW",
        "outputId": "270ca511-8f74-4852-ab65-021eaf7b4494"
      },
      "source": [
        "print(life['animals']['cats'])"
      ],
      "execution_count": null,
      "outputs": [
        {
          "output_type": "stream",
          "name": "stdout",
          "text": [
            "['Henri', 'Grumpy', 'Lucy']\n"
          ]
        }
      ]
    },
    {
      "cell_type": "code",
      "metadata": {
        "id": "uaL9HNILwQ8l"
      },
      "source": [
        ""
      ],
      "execution_count": null,
      "outputs": []
    }
  ]
}