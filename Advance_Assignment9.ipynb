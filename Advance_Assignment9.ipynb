{
  "nbformat": 4,
  "nbformat_minor": 0,
  "metadata": {
    "colab": {
      "name": "Advance Assignment9.ipynb",
      "provenance": [],
      "collapsed_sections": []
    },
    "kernelspec": {
      "name": "python3",
      "display_name": "Python 3"
    },
    "language_info": {
      "name": "python"
    }
  },
  "cells": [
    {
      "cell_type": "markdown",
      "source": [
        "1. YouTube offers different playback speed options for users. This allows users to increase or decrease the speed of the video content. Given the actual duration and playback speed of the video, calculate the playback duration of the video.\n",
        "\n",
        "Examples\n",
        "\n",
        "playback_duration(\"00:30:00\", 2) ➞ \"00:15:00\"\n",
        "\n",
        "playback_duration(\"01:20:00\", 1.5) ➞ \"00:53:20\"\n",
        "\n",
        "playback_duration(\"51:20:09\", 0.5) ➞ \"102:40:18\""
      ],
      "metadata": {
        "id": "TZi0IAfgBRxD"
      }
    },
    {
      "cell_type": "code",
      "execution_count": 1,
      "metadata": {
        "colab": {
          "base_uri": "https://localhost:8080/"
        },
        "id": "O5NUsB7aBPg4",
        "outputId": "5c2eb011-da30-4d09-8e49-6c0dd4138b58"
      },
      "outputs": [
        {
          "output_type": "stream",
          "name": "stdout",
          "text": [
            "00:15:00\n",
            "00:53:20\n",
            "102:40:18\n"
          ]
        }
      ],
      "source": [
        "import math\n",
        "import datetime\n",
        "def conversion(time):\n",
        "    day = time // (24 * 3600)\n",
        "    time = time % (24 * 3600)\n",
        "    hour = time // 3600\n",
        "    if day > 1:\n",
        "        hour = (day * 24) +hour\n",
        "    time %= 3600\n",
        "    minutes = time // 60\n",
        "    time %= 60\n",
        "    seconds = time\n",
        "    return \"%02d:%02d:%02d\" % ( hour, minutes, seconds)\n",
        "def playback_duration(time, speed):\n",
        "    time = time.split(':')\n",
        "    hours = int(time[0])\n",
        "    minutes = int(time[1])\n",
        "    seconds = int(time[2])\n",
        "    total_seconds = hours * 3600 + minutes * 60 + seconds\n",
        "    total_seconds = total_seconds/ speed\n",
        "    return conversion(total_seconds)\n",
        "print(playback_duration(\"00:30:00\", 2))\n",
        "print(playback_duration(\"01:20:00\", 1.5))\n",
        "print(playback_duration(\"51:20:09\", 0.5))"
      ]
    },
    {
      "cell_type": "markdown",
      "source": [
        "2. We needs your help to construct a building which will be a pile of n cubes. The cube at the bottom will have a volume of n^3, the cube above will have volume of (n-1)^3 and so on until the top which will have a volume of 1^3.\n",
        "Given the total volume m of the building, can you find the number of cubes n required for the building?\n",
        "\n",
        "In other words, you have to return an integer n such that:\n",
        "\n",
        "n^3 + (n-1)^3 + ... + 1^3 == m\n",
        "\n",
        "Return None if there is no such number.\n",
        "\n",
        "Examples\n",
        "\n",
        "pile_of_cubes(1071225) ➞ 45\n",
        "\n",
        "pile_of_cubes(4183059834009) ➞ 2022\n",
        "\n",
        "pile_of_cubes(16) ➞ None"
      ],
      "metadata": {
        "id": "sviC-_2HCBwo"
      }
    },
    {
      "cell_type": "code",
      "source": [
        "def pile_of_cubes(m):\n",
        "    i = 0\n",
        "    sum = 0   \n",
        "    while True:\n",
        "        sum = sum + (i)**3\n",
        "        if sum == m:\n",
        "            break\n",
        "        elif sum > m:\n",
        "            return \"None\"\n",
        "        i += 1        \n",
        "    return i\n",
        "print(pile_of_cubes(1071225))\n",
        "print(pile_of_cubes(4183059834009))\n",
        "print(pile_of_cubes(16))"
      ],
      "metadata": {
        "colab": {
          "base_uri": "https://localhost:8080/"
        },
        "id": "WKiAtm-eBqha",
        "outputId": "42fd8cfc-da81-4012-8fb7-2d93ab2690b9"
      },
      "execution_count": 2,
      "outputs": [
        {
          "output_type": "stream",
          "name": "stdout",
          "text": [
            "45\n",
            "2022\n",
            "None\n"
          ]
        }
      ]
    },
    {
      "cell_type": "markdown",
      "source": [
        "3. A fulcrum of a list is an integer such that all elements to the left of it and all elements to the right of it sum to the same value. Write a function that finds the fulcrum of a list.\n",
        "To illustrate:\n",
        "\n",
        "find_fulcrum([3, 1, 5, 2, 4, 6, -1]) ➞ 2 // Since [3, 1, 5] and [4, 6, -1] both sum to 9\n",
        "\n",
        "Examples\n",
        "\n",
        "find_fulcrum([1, 2, 4, 9, 10, -10, -9, 3]) ➞ 4\n",
        "\n",
        "find_fulcrum([9, 1, 9]) ➞ 1\n",
        "\n",
        "find_fulcrum([7, -1, 0, -1, 1, 1, 2, 3]) ➞ 0\n",
        "\n",
        "find_fulcrum([8, 8, 8, 8]) ➞ -1"
      ],
      "metadata": {
        "id": "9T1sRTodCjZL"
      }
    },
    {
      "cell_type": "code",
      "source": [
        "def find_fulcrum(l):\n",
        "    for i in range(1,len(l)):\n",
        "        if sum(l[:i]) == sum(l[i+1:]):\n",
        "            return l[i]      \n",
        "print(find_fulcrum([1, 2, 4, 9, 10, -10, -9, 3]))        \n",
        "print(find_fulcrum([9,1,9]))\n",
        "print(find_fulcrum([7, -1, 0, -1, 1, 1, 2, 3]))\n",
        "print(find_fulcrum([8, 8, 8, 8]))"
      ],
      "metadata": {
        "colab": {
          "base_uri": "https://localhost:8080/"
        },
        "id": "zpZgTdR-ChIC",
        "outputId": "66d05a78-ca1e-4323-c45a-b4b921e7945e"
      },
      "execution_count": 3,
      "outputs": [
        {
          "output_type": "stream",
          "name": "stdout",
          "text": [
            "4\n",
            "1\n",
            "0\n",
            "None\n"
          ]
        }
      ]
    },
    {
      "cell_type": "markdown",
      "source": [
        "4. Given a list of integers representing the color of each sock, determine how many pairs of socks with matching colors there are. For example, there are 7 socks with colors [1, 2, 1, 2, 1, 3, 2]. There is one pair of color 1 and one of color 2. There are three odd socks left, one of each color. The number of pairs is 2.\n",
        "Create a function that returns an integer representing the number of matching pairs of socks that are available.\n",
        "\n",
        "Examples\n",
        "\n",
        "sock_merchant([10, 20, 20, 10, 10, 30, 50, 10, 20]) ➞ 3\n",
        "\n",
        "sock_merchant([50, 20, 30, 90, 30, 20, 50, 20, 90]) ➞ 4\n",
        "\n",
        "sock_merchant([]) ➞ 0\n"
      ],
      "metadata": {
        "id": "P-tCaS6kCz27"
      }
    },
    {
      "cell_type": "code",
      "source": [
        "def sock_merchant(l):\n",
        "    c = 0\n",
        "    l1 = list(set(l))\n",
        "    for i in l1:\n",
        "        c += (l.count(i) // 2)\n",
        "    return c     \n",
        "print(sock_merchant([10, 20, 20, 10, 10, 30, 50, 10, 20]))\n",
        "print(sock_merchant([50, 20, 30, 90, 30, 20, 50, 20, 90]))\n",
        "print(sock_merchant([]))"
      ],
      "metadata": {
        "colab": {
          "base_uri": "https://localhost:8080/"
        },
        "id": "Go4oYgDWCw_c",
        "outputId": "d930aaa2-a6bd-4379-a1c8-96a62398a020"
      },
      "execution_count": 5,
      "outputs": [
        {
          "output_type": "stream",
          "name": "stdout",
          "text": [
            "3\n",
            "4\n",
            "0\n"
          ]
        }
      ]
    },
    {
      "cell_type": "markdown",
      "source": [
        "5. Create a function that takes a string containing integers as well as other characters and return the sum of the negative integers only.\n",
        "Examples\n",
        "\n",
        "negative_sum(\"-12 13%14&-11\") ➞ -23\n",
        "\n",
        "-12 + -11 = -23\n",
        "negative_sum(\"22 13%14&-11-22 13 12\") ➞ -33\n",
        "\n",
        "-11 + -22 = -33\n"
      ],
      "metadata": {
        "id": "YHLOX-gDDJhP"
      }
    },
    {
      "cell_type": "code",
      "source": [
        "def negative_sum(s):\n",
        "    l = s.split('-')\n",
        "    res = 0\n",
        "    for i in range(1,len(l)):\n",
        "        l[i] = l[i].split()\n",
        "        res += int(l[i][0])\n",
        "    return -res\n",
        "print(negative_sum(\"-12 13%14&-11\"))\n",
        "print(negative_sum(\"22 13%14&-11-22 13 12\"))"
      ],
      "metadata": {
        "colab": {
          "base_uri": "https://localhost:8080/"
        },
        "id": "ixPpyIqTDCpb",
        "outputId": "3e4f34fe-adbd-4ea5-e4f2-04bed4ad04a8"
      },
      "execution_count": 6,
      "outputs": [
        {
          "output_type": "stream",
          "name": "stdout",
          "text": [
            "-23\n",
            "-33\n"
          ]
        }
      ]
    },
    {
      "cell_type": "code",
      "source": [
        ""
      ],
      "metadata": {
        "id": "FyoksDbgDWRh"
      },
      "execution_count": null,
      "outputs": []
    }
  ]
}