{
  "nbformat": 4,
  "nbformat_minor": 0,
  "metadata": {
    "colab": {
      "name": "Advance Assignment1.ipynb",
      "provenance": [],
      "collapsed_sections": []
    },
    "kernelspec": {
      "name": "python3",
      "display_name": "Python 3"
    },
    "language_info": {
      "name": "python"
    }
  },
  "cells": [
    {
      "cell_type": "markdown",
      "source": [
        "1. Write a function that takes a list of lists and returns the value of all of the symbols in it, where each symbol adds or takes something from the total score. Symbol values:\n",
        "# = 5\n",
        "O = 3\n",
        "\n",
        "X = 1\n",
        "\n",
        "! = -1\n",
        "\n",
        "!! = -3\n",
        "\n",
        "!!! = -5\n",
        "\n",
        "A list of lists containing 2 #s, a O, and a !!! would equal (0 + 5 + 5 + 3 - 5) 8.\n",
        "\n",
        "If the final score is negative, return 0 (e.g. 3 #s, 3 !!s, 2 !!!s and a X would be (0 + 5 + 5 + 5 - 3 - 3 - 3 - 5 - 5 + 1) -3, so return 0"
      ],
      "metadata": {
        "id": "P-iJlYrXtH1X"
      }
    },
    {
      "cell_type": "code",
      "execution_count": 2,
      "metadata": {
        "colab": {
          "base_uri": "https://localhost:8080/"
        },
        "id": "Oyb90bwNtBcp",
        "outputId": "b2e230c6-177f-461d-b487-1ac8749fa4f5"
      },
      "outputs": [
        {
          "output_type": "stream",
          "name": "stdout",
          "text": [
            "2\n",
            "0\n",
            "0\n"
          ]
        }
      ],
      "source": [
        "def check_score(l):\n",
        "    d = {'#': 5, 'O' : 3, 'X' : 1, '!' : -1 , '!!' : -3 , '!!!' : -5}\n",
        "    score = 0\n",
        "    for sub_list in l:\n",
        "        for i in sub_list:\n",
        "            score += d[i]     \n",
        "    if score < 0:\n",
        "        return 0\n",
        "    else:\n",
        "        return score   \n",
        "print(check_score([[\"#\", \"!\"], [\"!!\", \"X\"]]))\n",
        "print(check_score([ [\"!!!\", \"O\", \"!\"], [\"X\", \"#\", \"!!!\"], [\"!!\", \"X\", \"O\"] ]))\n",
        "print(check_score([[\"#\",\"#\",\"#\"],[\"!!\",\"!!\",\"!!\"],[\"!!!\",\"!!!\"],[\"X\"]]))"
      ]
    },
    {
      "cell_type": "markdown",
      "source": [
        "2. Create a function that takes a variable number of arguments, each argument representing the number of items in a group, and returns the number of permutations (combinations) of items that you could get by taking one item from each group."
      ],
      "metadata": {
        "id": "UclirmqIuL0h"
      }
    },
    {
      "cell_type": "code",
      "source": [
        "def var(*args):\n",
        "    n = 1\n",
        "    \n",
        "    for i in args:\n",
        "        n *= i\n",
        "        \n",
        "    return n\n",
        "print(var(2, 3))\n",
        "print(var(3, 7, 4))\n",
        "print(var(2, 3, 4, 5))"
      ],
      "metadata": {
        "colab": {
          "base_uri": "https://localhost:8080/"
        },
        "id": "Dh2wQ31htf6P",
        "outputId": "d5f8fc6d-08e2-4d35-d2fd-6fc3d5b1a031"
      },
      "execution_count": 3,
      "outputs": [
        {
          "output_type": "stream",
          "name": "stdout",
          "text": [
            "6\n",
            "84\n",
            "120\n"
          ]
        }
      ]
    },
    {
      "cell_type": "markdown",
      "source": [
        "3. Create a function that takes a string as an argument and returns the Morse code equivalent."
      ],
      "metadata": {
        "id": "CZw_p_SNux_m"
      }
    },
    {
      "cell_type": "code",
      "source": [
        "def encode_morse(s):\n",
        "    char_to_dots = { 'A': '.-', 'B': '-...', 'C': '-.-.', 'D': '-..', 'E': '.', 'F': '..-.', 'G': '--.', 'H': '....', 'I': '..', 'J': '.---', 'K': '-.-', 'L': '.-..', 'M': '--', 'N': '-.', 'O': '---', 'P': '.--.', 'Q': '--.-', 'R': '.-.', 'S': '...', 'T': '-', 'U': '..-', 'V': '...-', 'W': '.--', 'X': '-..-', 'Y': '-.--', 'Z': '--..', ' ': ' ', '0': '-----', '1': '.----', '2': '..---', '3': '...--', '4': '....-', '5': '.....', '6': '-....', '7': '--...', '8': '---..', '9': '----.', '&': '.-...', \"'\": '.----.', '@': '.--.-.', ')': '-.--.-', '(': '-.--.', ':': '---...', ',': '--..--', '=': '-...-', '!': '-.-.--', '.': '.-.-.-', '-': '-....-', '+': '.-.-.', '\"': '.-..-.', '?': '..--..', '/': '-..-.' }\n",
        "    result = \"\"  \n",
        "    for letter in s:\n",
        "        if letter != ' ':\n",
        "            result += ' ' + char_to_dots[letter]   \n",
        "    return result    \n",
        "print(encode_morse(\"EDABBIT CHALLENGE\"))\n",
        "print(encode_morse(\"HELP ME !\"))"
      ],
      "metadata": {
        "colab": {
          "base_uri": "https://localhost:8080/"
        },
        "id": "fzDi4FlHusbc",
        "outputId": "c90b534b-d2fc-4175-a4db-dfb403b61f9f"
      },
      "execution_count": 4,
      "outputs": [
        {
          "output_type": "stream",
          "name": "stdout",
          "text": [
            " . -.. .- -... -... .. - -.-. .... .- .-.. .-.. . -. --. .\n",
            " .... . .-.. .--. -- . -.-.--\n"
          ]
        }
      ]
    },
    {
      "cell_type": "markdown",
      "source": [
        "4. Write a function that takes a number and returns True if it's a prime; False otherwise. The number can be 2^64-1 (2 to the power of 63, not XOR). With the standard technique it would be O(2^64-1), which is much too large for the 10 second time limit."
      ],
      "metadata": {
        "id": "0E2-z1eAzh0T"
      }
    },
    {
      "cell_type": "code",
      "source": [
        "def prime(n):\n",
        "    if n == 1:\n",
        "        return False\n",
        "    if n == 2:\n",
        "        return True\n",
        "    else:\n",
        "        for i in range(2,n):\n",
        "            if n % i == 0:\n",
        "                return False\n",
        "            return True\n",
        "print(prime(7))\n",
        "print(prime(56963))\n",
        "print(prime(5151512515524))"
      ],
      "metadata": {
        "colab": {
          "base_uri": "https://localhost:8080/"
        },
        "id": "A1ZXH09ZxBGW",
        "outputId": "a3d57ab7-228f-4b2a-b64c-68a576469ba6"
      },
      "execution_count": 7,
      "outputs": [
        {
          "output_type": "stream",
          "name": "stdout",
          "text": [
            "True\n",
            "True\n",
            "False\n"
          ]
        }
      ]
    },
    {
      "cell_type": "markdown",
      "source": [
        "5. Create a function that converts a word to a bitstring and then to a boolean list based on the following criteria:\n",
        "1. Locate the position of the letter in the English alphabet (from 1 to 26).\n",
        "\n",
        "2. Odd positions will be represented as 1 and 0 otherwise.\n",
        "\n",
        "3. Convert the represented positions to boolean values, 1 for True and 0 for False.\n",
        "\n",
        "4. Store the conversions into an array."
      ],
      "metadata": {
        "id": "FeC0hVDk1ahY"
      }
    },
    {
      "cell_type": "code",
      "source": [
        "def to_boolean(s):\n",
        "    clist = list(map(chr,range(97,123)))\n",
        "    blist = []   \n",
        "    for l in s.lower():\n",
        "        if (clist.index(l) + 1) % 2 == 0:\n",
        "            blist.append(False)\n",
        "        else:\n",
        "            blist.append(True)          \n",
        "    return blist\n",
        "print(to_boolean(\"loves\"))\n",
        "print(to_boolean(\"tesh\"))\n",
        "print(to_boolean(\"deep\"))"
      ],
      "metadata": {
        "colab": {
          "base_uri": "https://localhost:8080/"
        },
        "id": "xsw-AS_ozmiq",
        "outputId": "434f63ce-a087-4512-cca8-d6d910233874"
      },
      "execution_count": 8,
      "outputs": [
        {
          "output_type": "stream",
          "name": "stdout",
          "text": [
            "[False, True, False, True, True]\n",
            "[False, True, True, False]\n",
            "[False, True, True, False]\n"
          ]
        }
      ]
    }
  ]
}