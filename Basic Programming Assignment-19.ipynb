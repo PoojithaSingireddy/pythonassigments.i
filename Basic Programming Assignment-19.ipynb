{
  "nbformat": 4,
  "nbformat_minor": 0,
  "metadata": {
    "colab": {
      "name": "Basic Programming Assignment-19.ipynb",
      "provenance": [],
      "collapsed_sections": []
    },
    "kernelspec": {
      "name": "python3",
      "display_name": "Python 3"
    },
    "language_info": {
      "name": "python"
    }
  },
  "cells": [
    {
      "cell_type": "markdown",
      "source": [
        "Question1\n",
        "Create a function that takes a string and returns a string in which each character is repeated\n",
        "once."
      ],
      "metadata": {
        "id": "eGvRNZasC1zd"
      }
    },
    {
      "cell_type": "code",
      "execution_count": 1,
      "metadata": {
        "colab": {
          "base_uri": "https://localhost:8080/"
        },
        "id": "t_-wp0uLCzS1",
        "outputId": "00f1fa5a-3487-4829-e00e-66119259fcff"
      },
      "outputs": [
        {
          "output_type": "stream",
          "name": "stdout",
          "text": [
            "Enter string:string\n",
            "ssttrriinngg\n"
          ]
        }
      ],
      "source": [
        "def dou(str):\n",
        "    return ''.join([i+i for i in str])\n",
        "s=input(\"Enter string:\")\n",
        "print(dou(s))"
      ]
    },
    {
      "cell_type": "markdown",
      "source": [
        "Question2\n",
        "Create a function that reverses a boolean value and returns the string 'boolean expected'\n",
        "if another variable type is given."
      ],
      "metadata": {
        "id": "rj6qyjJUDQrj"
      }
    },
    {
      "cell_type": "code",
      "source": [
        "def rev(arg=None):\n",
        "    return not arg if type(arg) == bool else \"boolean expected\"\n",
        "print(rev(True))\n",
        "print(rev(False))\n",
        "print(rev(0))\n",
        "print(rev(None))"
      ],
      "metadata": {
        "colab": {
          "base_uri": "https://localhost:8080/"
        },
        "id": "MPp5fDSqDLzR",
        "outputId": "d28f6798-0b5e-4309-d13f-6b6ea3b04e7b"
      },
      "execution_count": 3,
      "outputs": [
        {
          "output_type": "stream",
          "name": "stdout",
          "text": [
            "False\n",
            "True\n",
            "boolean expected\n",
            "boolean expected\n"
          ]
        }
      ]
    },
    {
      "cell_type": "markdown",
      "source": [
        "Question3\n",
        "Create a function that returns the thickness (in meters) of a piece of paper after folding it n\n",
        "number of times. The paper starts off with a thickness of 0.5mm."
      ],
      "metadata": {
        "id": "BK1vqmLjDoqP"
      }
    },
    {
      "cell_type": "code",
      "source": [
        "def numl(n):\n",
        "    thick = 0.5\n",
        "    for _ in range(n):\n",
        "        thick *= 2   \n",
        "    return str(thick / 1000)+'m'\n",
        "a=int(input(\"Enter layers:\"))\n",
        "print(numl(a))"
      ],
      "metadata": {
        "colab": {
          "base_uri": "https://localhost:8080/"
        },
        "id": "0m8zYkFGDk83",
        "outputId": "946a9f00-945b-40b9-f073-594076e1c980"
      },
      "execution_count": 4,
      "outputs": [
        {
          "output_type": "stream",
          "name": "stdout",
          "text": [
            "Enter layers:4\n",
            "0.008m\n"
          ]
        }
      ]
    },
    {
      "cell_type": "markdown",
      "source": [
        "Question4\n",
        "\n",
        "Create a function that takes a single string as argument and returns an ordered list containing\n",
        "the indices of all capital letters in the string."
      ],
      "metadata": {
        "id": "Qgy20b8REGuo"
      }
    },
    {
      "cell_type": "code",
      "source": [
        "def icaps(word):\n",
        "    ind = []\n",
        "    for i in range(len(word)):\n",
        "        if word[i].isupper():\n",
        "             ind.append(i)\n",
        "    return ind\n",
        "st=input(\"Enter string:\")\n",
        "print(icaps(st))"
      ],
      "metadata": {
        "colab": {
          "base_uri": "https://localhost:8080/"
        },
        "id": "yaxdIYF_ED3s",
        "outputId": "f3cca064-b871-4375-f137-bd003b10c8fc"
      },
      "execution_count": 7,
      "outputs": [
        {
          "output_type": "stream",
          "name": "stdout",
          "text": [
            "Enter string:SuN\n",
            "[0, 2]\n"
          ]
        }
      ]
    },
    {
      "cell_type": "markdown",
      "source": [
        "Question5\n",
        "Using list comprehensions, create a function that finds all even numbers from 1 to the given\n",
        "number."
      ],
      "metadata": {
        "id": "WWkxa9RoEovS"
      }
    },
    {
      "cell_type": "code",
      "source": [
        "def enums(n):\n",
        "    e =[i for i in range(2,n+1) if i % 2 == 0]\n",
        "    return e\n",
        "n = int(input(\"Enter number:\"))\n",
        "enums(n)"
      ],
      "metadata": {
        "colab": {
          "base_uri": "https://localhost:8080/"
        },
        "id": "vsXqPogCEedz",
        "outputId": "5649227c-73b5-4390-94dd-670d8140027b"
      },
      "execution_count": 8,
      "outputs": [
        {
          "name": "stdout",
          "output_type": "stream",
          "text": [
            "Enter number:12\n"
          ]
        },
        {
          "output_type": "execute_result",
          "data": {
            "text/plain": [
              "[2, 4, 6, 8, 10, 12]"
            ]
          },
          "metadata": {},
          "execution_count": 8
        }
      ]
    }
  ]
}