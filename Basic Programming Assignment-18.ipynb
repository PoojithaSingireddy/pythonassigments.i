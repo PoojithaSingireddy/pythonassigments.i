{
  "nbformat": 4,
  "nbformat_minor": 0,
  "metadata": {
    "colab": {
      "name": "Basic Programming Assignment-18.ipynb",
      "provenance": [],
      "collapsed_sections": []
    },
    "kernelspec": {
      "name": "python3",
      "display_name": "Python 3"
    },
    "language_info": {
      "name": "python"
    }
  },
  "cells": [
    {
      "cell_type": "markdown",
      "source": [
        "Question 1\n",
        "Create a function that takes a list of non-negative integers and strings and return a new list\n",
        "without the strings."
      ],
      "metadata": {
        "id": "k31qJefd6mmq"
      }
    },
    {
      "cell_type": "code",
      "execution_count": 1,
      "metadata": {
        "colab": {
          "base_uri": "https://localhost:8080/"
        },
        "id": "PJQ_CjIa6dBe",
        "outputId": "2ca9a61a-5c95-4b95-b595-8a35172fa7e7"
      },
      "outputs": [
        {
          "output_type": "stream",
          "name": "stdout",
          "text": [
            "[1, 2]\n"
          ]
        }
      ],
      "source": [
        "l = [1, 2, 'a', 'b']\n",
        "def flist(l):\n",
        "    nlist = []\n",
        "    for x in l:\n",
        "        if type(x) == int:\n",
        "            nlist.append(x)\n",
        "    return nlist\n",
        "print(flist(l))"
      ]
    },
    {
      "cell_type": "markdown",
      "source": [
        "Question 2\n",
        "The 'Reverser' takes a string as input and returns that string in reverse order, with the\n",
        "opposite case."
      ],
      "metadata": {
        "id": "xCwpwYbh7fGK"
      }
    },
    {
      "cell_type": "code",
      "source": [
        "def rev(str):\n",
        "    str = str[::-1]\n",
        "    return str.swapcase()\n",
        "print(rev('Hello World'))"
      ],
      "metadata": {
        "colab": {
          "base_uri": "https://localhost:8080/"
        },
        "id": "QiXMJ-fF7T67",
        "outputId": "dd3a8b71-f5fc-443f-e8cb-e4581f06fd16"
      },
      "execution_count": 2,
      "outputs": [
        {
          "output_type": "stream",
          "name": "stdout",
          "text": [
            "DLROw OLLEh\n"
          ]
        }
      ]
    },
    {
      "cell_type": "markdown",
      "source": [
        "Question 3\n",
        "You can assign variables from lists like this:\n",
        "lst = [1, 2, 3, 4, 5, 6]\n",
        "first = lst[0]\n",
        "middle = lst[1:-1]\n",
        "last = lst[-1]\n",
        "print(first) ➞ outputs 1\n",
        "print(middle) ➞ outputs [2, 3, 4, 5]\n",
        "print(last) ➞ outputs 6\n",
        "With Python 3, you can assign variables from lists in a much more succinct way. Create\n",
        "variables first, middle and last from the given list using destructuring assignment\n",
        "(check the Resources tab for some examples), where:\n",
        "first ➞ 1\n",
        "middle ➞ [2, 3, 4, 5]\n",
        "last ➞ 6\n",
        "Your task is to unpack the list writeyourcodehere into three variables, being first,\n",
        "middle, and last, with middle being everything in between the first and last element. Then\n",
        "print all three variables."
      ],
      "metadata": {
        "id": "zXdel7ce7wmq"
      }
    },
    {
      "cell_type": "code",
      "source": [
        "lst = [1, 2, 3, 4, 5, 6]\n",
        "first ,*middle,last = lst\n",
        "print(first)\n",
        "print(middle)\n",
        "print(last)"
      ],
      "metadata": {
        "colab": {
          "base_uri": "https://localhost:8080/"
        },
        "id": "kII8ZtQK7s7H",
        "outputId": "acee7856-5859-4d1a-8658-bca4550c9dd6"
      },
      "execution_count": 4,
      "outputs": [
        {
          "output_type": "stream",
          "name": "stdout",
          "text": [
            "1\n",
            "[2, 3, 4, 5]\n",
            "6\n"
          ]
        }
      ]
    },
    {
      "cell_type": "markdown",
      "source": [
        "Question 4\n",
        "Write a function that calculates the factorial of a number recursively."
      ],
      "metadata": {
        "id": "ijemUFZO8KWh"
      }
    },
    {
      "cell_type": "code",
      "source": [
        "def fact(n):     \n",
        "    if n == 0:\n",
        "        return 1    \n",
        "    return n * fact(n-1)\n",
        "num = int(input('Enter number:'))\n",
        "print(\"Factorial of\", num, \"is\", fact(num))"
      ],
      "metadata": {
        "colab": {
          "base_uri": "https://localhost:8080/"
        },
        "id": "xiCAnO6e8BhE",
        "outputId": "f7c62cbf-1e72-414b-82df-78fd2a4c7a25"
      },
      "execution_count": 5,
      "outputs": [
        {
          "output_type": "stream",
          "name": "stdout",
          "text": [
            "Enter number:4\n",
            "Factorial of 4 is 24\n"
          ]
        }
      ]
    },
    {
      "cell_type": "markdown",
      "source": [
        "Question 5\n",
        "Write a function that moves all elements of one type to the end of the list."
      ],
      "metadata": {
        "id": "xt5bVomP8bua"
      }
    },
    {
      "cell_type": "code",
      "source": [
        "def mend(array, toMove):\n",
        "    i = 0\n",
        "    j = len(array) - 1\n",
        "    while (i < j):\n",
        "  \n",
        "        while (i < j and array[j] == toMove):\n",
        "            j-=1\n",
        "        if (array[i] == toMove):\n",
        "            array[i], array[j] = array[j] , array[i]\n",
        "        i += 1\n",
        "    return array\n",
        "arr = [7, 8, 9, 1, 2, 3, 4]\n",
        "k = 9\n",
        "ans = mend(arr, k)\n",
        "for i in range(len(arr)):\n",
        "    print(ans[i] ,end= \" \")\n",
        "print(\"\\n\")\n",
        "arr = ['a', 'a', 'a', 'b']\n",
        "k1 = 'a'\n",
        "ans = mend(arr, k1)\n",
        "for i in range(len(arr)):\n",
        "    print(ans[i] ,end= \" \")"
      ],
      "metadata": {
        "colab": {
          "base_uri": "https://localhost:8080/"
        },
        "id": "HlcSBzG28Z47",
        "outputId": "07aff077-ea89-4e75-9f3c-8c4679a7670c"
      },
      "execution_count": 9,
      "outputs": [
        {
          "output_type": "stream",
          "name": "stdout",
          "text": [
            "7 8 4 1 2 3 9 \n",
            "\n",
            "b a a a "
          ]
        }
      ]
    },
    {
      "cell_type": "code",
      "source": [
        ""
      ],
      "metadata": {
        "id": "j8fjwSX4844Q"
      },
      "execution_count": null,
      "outputs": []
    }
  ]
}