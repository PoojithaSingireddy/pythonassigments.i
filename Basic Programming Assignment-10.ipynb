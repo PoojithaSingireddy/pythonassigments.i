{
  "nbformat": 4,
  "nbformat_minor": 0,
  "metadata": {
    "colab": {
      "name": "Basic Programming Assignment-10.ipynb",
      "provenance": []
    },
    "kernelspec": {
      "name": "python3",
      "display_name": "Python 3"
    },
    "language_info": {
      "name": "python"
    }
  },
  "cells": [
    {
      "cell_type": "markdown",
      "source": [
        "1. Write a Python program to find sum of elements in list?"
      ],
      "metadata": {
        "id": "-d6pPI140Oq-"
      }
    },
    {
      "cell_type": "code",
      "execution_count": 2,
      "metadata": {
        "colab": {
          "base_uri": "https://localhost:8080/"
        },
        "id": "FcAI7SfL0JmY",
        "outputId": "a7bbfc12-cf5e-47c5-921d-ffe610e27303"
      },
      "outputs": [
        {
          "output_type": "stream",
          "name": "stdout",
          "text": [
            "Enter list length: 3\n",
            "Enter elements:\n",
            "1\n",
            "2\n",
            "3\n",
            "List= [1, 2, 3]\n",
            "Sum= 6\n"
          ]
        }
      ],
      "source": [
        "n = int(input(\"Enter list length: \"))\n",
        "print(\"Enter elements:\")\n",
        "lst = []\n",
        "for i in range(n):\n",
        "    lst.append(int(input()))\n",
        "print(\"List=\",lst)\n",
        "print(\"Sum=\",sum(lst))"
      ]
    },
    {
      "cell_type": "markdown",
      "source": [
        "2. Write a Python program to Multiply all numbers in the list?"
      ],
      "metadata": {
        "id": "hF_Flw_u1HJ-"
      }
    },
    {
      "cell_type": "code",
      "source": [
        "n = int(input(\"Enter list length:\"))\n",
        "lst = []\n",
        "print(\"Enter elements:\")\n",
        "for i in range(n):\n",
        "    lst.append(int(input()))\n",
        "print(\"List=\",lst)\n",
        "pro = 1\n",
        "for el in lst:\n",
        "    pro = pro*el\n",
        "print(\"Product=:\",pro)"
      ],
      "metadata": {
        "colab": {
          "base_uri": "https://localhost:8080/"
        },
        "id": "X4ODAYos00yt",
        "outputId": "31afd5c9-0dc4-4618-d704-20ab17587eb9"
      },
      "execution_count": 3,
      "outputs": [
        {
          "output_type": "stream",
          "name": "stdout",
          "text": [
            "Enter list length:3\n",
            "Enter elements:\n",
            "1\n",
            "2\n",
            "3\n",
            "List= [1, 2, 3]\n",
            "Product=: 6\n"
          ]
        }
      ]
    },
    {
      "cell_type": "markdown",
      "source": [
        "3. Write a Python program to find smallest number in a list?"
      ],
      "metadata": {
        "id": "zej0cAeU1mn7"
      }
    },
    {
      "cell_type": "code",
      "source": [
        "n = int(input(\"Enter list length: \"))\n",
        "lst = []\n",
        "print(\"Enter elements:\")\n",
        "for i in range(n):\n",
        "    lst.append(int(input()))\n",
        "print(\"List=\",lst)\n",
        "print(\"Smallest element=:\",min(lst))"
      ],
      "metadata": {
        "colab": {
          "base_uri": "https://localhost:8080/"
        },
        "id": "lgK7SLAR1imC",
        "outputId": "b7187efa-0803-4b12-ede4-19fdf8c854e1"
      },
      "execution_count": 4,
      "outputs": [
        {
          "output_type": "stream",
          "name": "stdout",
          "text": [
            "Enter list length: 3\n",
            "Enter elements:\n",
            "1\n",
            "2\n",
            "3\n",
            "List= [1, 2, 3]\n",
            "Smallest element=: 1\n"
          ]
        }
      ]
    },
    {
      "cell_type": "markdown",
      "source": [
        "4. Write a Python program to find largest number in a list?"
      ],
      "metadata": {
        "id": "B2esygtu2DzS"
      }
    },
    {
      "cell_type": "code",
      "source": [
        "n = int(input(\"Enter list length: \"))\n",
        "lst = []\n",
        "print(\"Enter elements:\")\n",
        "for i in range(n):\n",
        "    lst.append(int(input()))\n",
        "print(\"List=\",lst)\n",
        "print(\"Largest element=\",max(lst))"
      ],
      "metadata": {
        "colab": {
          "base_uri": "https://localhost:8080/"
        },
        "id": "uM6PAk121_94",
        "outputId": "a34ed7c3-04ae-4b3a-871b-8b439df1e69a"
      },
      "execution_count": 5,
      "outputs": [
        {
          "output_type": "stream",
          "name": "stdout",
          "text": [
            "Enter list length: 3\n",
            "Enter elements:\n",
            "1\n",
            "2\n",
            "3\n",
            "List= [1, 2, 3]\n",
            "Largest element= 3\n"
          ]
        }
      ]
    },
    {
      "cell_type": "markdown",
      "source": [
        "5. Write a Python program to find second largest number in a list?"
      ],
      "metadata": {
        "id": "P0Ke4XgG2e4E"
      }
    },
    {
      "cell_type": "code",
      "source": [
        "n = int(input(\"Enter list length: \"))\n",
        "lst = []\n",
        "print(\"Enter elements:\")\n",
        "for i in range(n):\n",
        "    lst.append(int(input()))\n",
        "print(\"List=\",lst)\n",
        "lst.sort()\n",
        "print(\"sorted list=\",lst)\n",
        "print(\"second largest element=\",lst[-2])"
      ],
      "metadata": {
        "colab": {
          "base_uri": "https://localhost:8080/"
        },
        "id": "B1srtaN_2WNd",
        "outputId": "6dc8486a-e8c5-48c6-994c-cb383f0eb29b"
      },
      "execution_count": 6,
      "outputs": [
        {
          "output_type": "stream",
          "name": "stdout",
          "text": [
            "Enter list length: 3\n",
            "Enter elements:\n",
            "1\n",
            "3\n",
            "2\n",
            "List= [1, 3, 2]\n",
            "sorted list= [1, 2, 3]\n",
            "second largest element= 2\n"
          ]
        }
      ]
    },
    {
      "cell_type": "markdown",
      "source": [
        "6. Write a Python program to find N largest elements from a list?"
      ],
      "metadata": {
        "id": "4Tw7nh7T25C2"
      }
    },
    {
      "cell_type": "code",
      "source": [
        "n = int(input(\"Enter list length: \"))\n",
        "lst = []\n",
        "print(\"Enter elements:\")\n",
        "for i in range(n):\n",
        "    lst.append(int(input()))\n",
        "print(\"List=\",lst)\n",
        "lst.sort()\n",
        "print(\"sorted list=\",lst)\n",
        "nlargest = int(input(\"Enter no. of largest numbers:\"))\n",
        "if n < nlargest:\n",
        "   print(nlargest,\"greater then that list length\")\n",
        "else:\n",
        "   print(nlargest,\"largest elements:\",lst[(n-nlargest):])"
      ],
      "metadata": {
        "colab": {
          "base_uri": "https://localhost:8080/"
        },
        "id": "GH2vv-pA206d",
        "outputId": "fa14ac49-a429-4ba4-9ef6-da6c1f4b6ee6"
      },
      "execution_count": 9,
      "outputs": [
        {
          "output_type": "stream",
          "name": "stdout",
          "text": [
            "Enter list length: 5\n",
            "Enter elements:\n",
            "1\n",
            "4\n",
            "8\n",
            "12\n",
            "3\n",
            "List= [1, 4, 8, 12, 3]\n",
            "sorted list= [1, 3, 4, 8, 12]\n",
            "Enter no. of largest numbers:2\n",
            "2 largest elements: [8, 12]\n"
          ]
        }
      ]
    },
    {
      "cell_type": "markdown",
      "source": [
        "7. Write a Python program to print even numbers in a list?"
      ],
      "metadata": {
        "id": "k5FQoA844C7k"
      }
    },
    {
      "cell_type": "code",
      "source": [
        "n = int(input(\"Enter list length: \"))\n",
        "lst = []\n",
        "print(\"Enter elements:\")\n",
        "for i in range(n):\n",
        "    lst.append(int(input()))\n",
        "print(\"List=\",lst)\n",
        "evenlist =[]\n",
        "for i in lst:\n",
        "    if i % 2 == 0:\n",
        "        evenlist.append(i)\n",
        "print(\"Even numbers:\",evenlist)"
      ],
      "metadata": {
        "colab": {
          "base_uri": "https://localhost:8080/"
        },
        "id": "c2CecEFD3ip-",
        "outputId": "f43ee98e-e228-4c2c-db5e-f1c05be096e1"
      },
      "execution_count": 11,
      "outputs": [
        {
          "output_type": "stream",
          "name": "stdout",
          "text": [
            "Enter list length: 4\n",
            "Enter elements:\n",
            "1\n",
            "5\n",
            "8\n",
            "4\n",
            "List= [1, 5, 8, 4]\n",
            "Even numbers: [8, 4]\n"
          ]
        }
      ]
    },
    {
      "cell_type": "markdown",
      "source": [
        "8. Write a Python program to print odd numbers in a List?"
      ],
      "metadata": {
        "id": "bn7YnUrv4mKP"
      }
    },
    {
      "cell_type": "code",
      "source": [
        "n = int(input(\"Enter list length: \"))\n",
        "lst = []\n",
        "print(\"Enter elements:\")\n",
        "for i in range(n):\n",
        "    lst.append(int(input()))\n",
        "print(\"List=\",lst)\n",
        "oddlist =[]\n",
        "for i in lst:\n",
        "    if i % 2 != 0:\n",
        "        oddlist.append(i)\n",
        "print(\"Odd numbers:\",oddlist)"
      ],
      "metadata": {
        "colab": {
          "base_uri": "https://localhost:8080/"
        },
        "id": "IsojmsSx4dBt",
        "outputId": "3b0b0f89-188d-4bec-f929-e576eaf617b2"
      },
      "execution_count": 12,
      "outputs": [
        {
          "output_type": "stream",
          "name": "stdout",
          "text": [
            "Enter list length: 4\n",
            "Enter elements:\n",
            "1\n",
            "3\n",
            "8\n",
            "7\n",
            "List= [1, 3, 8, 7]\n",
            "Odd numbers: [1, 3, 7]\n"
          ]
        }
      ]
    },
    {
      "cell_type": "markdown",
      "source": [
        "9. Write a Python program to Remove empty List from List?"
      ],
      "metadata": {
        "id": "edh_mv8R45eq"
      }
    },
    {
      "cell_type": "code",
      "source": [
        "lst = [4,[],3,[],5,[],6,[],8]\n",
        "print(\"List=\",lst)\n",
        "rlist = [ele for ele in lst if ele != []]\n",
        "print(\"The list after removing empty lists:\")\n",
        "print(rlist)"
      ],
      "metadata": {
        "colab": {
          "base_uri": "https://localhost:8080/"
        },
        "id": "Tip9sx_g42CY",
        "outputId": "370363ad-2aea-433b-f2f9-277b4d7730cf"
      },
      "execution_count": 13,
      "outputs": [
        {
          "output_type": "stream",
          "name": "stdout",
          "text": [
            "List= [4, [], 3, [], 5, [], 6, [], 8]\n",
            "The list after removing empty lists:\n",
            "[4, 3, 5, 6, 8]\n"
          ]
        }
      ]
    },
    {
      "cell_type": "markdown",
      "source": [
        "10. Write a Python program to Cloning or Copying a list?"
      ],
      "metadata": {
        "id": "3_MmMACf5TTp"
      }
    },
    {
      "cell_type": "code",
      "source": [
        "n = int(input(\"Enter list length: \"))\n",
        "lst = []\n",
        "print(\"Enter elements:\")\n",
        "for i in range(n):\n",
        "    lst.append(int(input()))\n",
        "print(\"List=\",lst)\n",
        "print(\"The cloned or copied list:\")\n",
        "lst2 = lst.copy()\n",
        "print(lst2)"
      ],
      "metadata": {
        "colab": {
          "base_uri": "https://localhost:8080/"
        },
        "id": "omfs5Fra5RLe",
        "outputId": "f77a5ea4-24bc-4b2b-a7d6-24b3e9251b65"
      },
      "execution_count": 14,
      "outputs": [
        {
          "output_type": "stream",
          "name": "stdout",
          "text": [
            "Enter list length: 3\n",
            "Enter elements:\n",
            "1\n",
            "5\n",
            "3\n",
            "List= [1, 5, 3]\n",
            "The cloned or copied list:\n",
            "[1, 5, 3]\n"
          ]
        }
      ]
    },
    {
      "cell_type": "markdown",
      "source": [
        "11. Write a Python program to Count occurrences of an element in a list?"
      ],
      "metadata": {
        "id": "AGhYnqHa506_"
      }
    },
    {
      "cell_type": "code",
      "source": [
        "n = int(input(\"Enter list length: \"))\n",
        "lst = []\n",
        "print(\"Enter elements:\")\n",
        "for i in range(n):\n",
        "    lst.append(int(input()))\n",
        "print(\"List=\",lst)\n",
        "el= int(input(\"Enter element to find \"))\n",
        "print(el,\"has occured {} times in the list \".format(lst.count(el)))"
      ],
      "metadata": {
        "colab": {
          "base_uri": "https://localhost:8080/"
        },
        "id": "ma323Fz15u7-",
        "outputId": "f90d41de-4252-4892-f4f7-b18e516a8911"
      },
      "execution_count": 15,
      "outputs": [
        {
          "output_type": "stream",
          "name": "stdout",
          "text": [
            "Enter list length: 4\n",
            "Enter elements:\n",
            "1\n",
            "3\n",
            "8\n",
            "3\n",
            "List= [1, 3, 8, 3]\n",
            "Enter element to find 3\n",
            "3 has occured 2 times in the list \n"
          ]
        }
      ]
    },
    {
      "cell_type": "code",
      "source": [
        ""
      ],
      "metadata": {
        "id": "KY9-4e3K6JSp"
      },
      "execution_count": null,
      "outputs": []
    }
  ]
}