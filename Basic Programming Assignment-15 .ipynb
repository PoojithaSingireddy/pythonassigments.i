{
  "nbformat": 4,
  "nbformat_minor": 0,
  "metadata": {
    "colab": {
      "name": "Basic Programming Assignment-15.ipynb.ipynb",
      "provenance": []
    },
    "kernelspec": {
      "name": "python3",
      "display_name": "Python 3"
    },
    "language_info": {
      "name": "python"
    }
  },
  "cells": [
    {
      "cell_type": "markdown",
      "source": [
        "Question 1:\n",
        "Please write a program using generator to print the numbers which can be divisible by 5 and\n",
        "7 between 0 and n in comma separated form while n is input by console."
      ],
      "metadata": {
        "id": "OqzD9OaMe5YW"
      }
    },
    {
      "cell_type": "code",
      "execution_count": 6,
      "metadata": {
        "colab": {
          "base_uri": "https://localhost:8080/"
        },
        "id": "Qxzq6rltenJb",
        "outputId": "75eba344-6650-4c72-cc48-3205273cec36"
      },
      "outputs": [
        {
          "output_type": "stream",
          "name": "stdout",
          "text": [
            "Enter n value: 50\n",
            "0,35\n"
          ]
        }
      ],
      "source": [
        "def putNums(n): \n",
        "    a = 0 \n",
        "    while a < n:\n",
        "        b = a\n",
        "        a += 1 \n",
        "        if b % 7 == 0 and b % 5 == 0:\n",
        "            yield b\n",
        "n = int(input('Enter n value: '))\n",
        "num =[]\n",
        "for i in putNums(n): \n",
        "    num.append(str(i))\n",
        "    \n",
        "print(','.join(num))"
      ]
    },
    {
      "cell_type": "markdown",
      "source": [
        "Question 2:\n",
        "Please write a program using generator to print the even numbers between 0 and n in comma\n",
        "separated form while n is input by console."
      ],
      "metadata": {
        "id": "JNBJxjx0fxrD"
      }
    },
    {
      "cell_type": "code",
      "source": [
        "def putNums(n): \n",
        "    a = 0 \n",
        "    while a < n:\n",
        "        b = a\n",
        "        a += 1 \n",
        "        if b % 2 == 0 :\n",
        "            yield b\n",
        "n = int(input('Enter n value: '))\n",
        "num =[]\n",
        "for i in putNums(n): \n",
        "    num.append(str(i))\n",
        "print(','.join(num))"
      ],
      "metadata": {
        "colab": {
          "base_uri": "https://localhost:8080/"
        },
        "id": "x1u-6rf0fP6c",
        "outputId": "6da9da4d-699a-4dfa-cfac-c4b04bf76ab0"
      },
      "execution_count": 8,
      "outputs": [
        {
          "output_type": "stream",
          "name": "stdout",
          "text": [
            "Enter n value: 19\n",
            "0,2,4,6,8,10,12,14,16,18\n"
          ]
        }
      ]
    },
    {
      "cell_type": "markdown",
      "source": [
        "Question 3:\n",
        "The Fibonacci Sequence is computed based on the following formula:\n",
        "f(n)=0 if n=0\n",
        "f(n)=1 if n=1\n",
        "f(n)=f(n-1)+f(n-2) if n>1\n",
        "Please write a program using list comprehension to print the Fibonacci Sequence in comma\n",
        "separated form with a given n input by console."
      ],
      "metadata": {
        "id": "u6kXPnvXgH6n"
      }
    },
    {
      "cell_type": "code",
      "source": [
        "def fib(n):    \n",
        "    if n == 0: \n",
        "            return 0    \n",
        "    elif n == 1: \n",
        "            return 1    \n",
        "    else: \n",
        "            return fib(n-1)+fib(n-2)\n",
        "n=int(input('Enter number :')) \n",
        "values = [str(fib(x)) for x in range(0, n+1)] \n",
        "print(\",\".join(values))"
      ],
      "metadata": {
        "colab": {
          "base_uri": "https://localhost:8080/"
        },
        "id": "CAxp1Z4HgEPu",
        "outputId": "00f5a07b-191b-4f48-ef9f-fabed232195e"
      },
      "execution_count": 9,
      "outputs": [
        {
          "output_type": "stream",
          "name": "stdout",
          "text": [
            "Enter number :5\n",
            "0,1,1,2,3,5\n"
          ]
        }
      ]
    },
    {
      "cell_type": "markdown",
      "source": [
        "Question 4:\n",
        "Assuming that we have some email addresses in the 'username@companyname.com' format,\n",
        "please write program to print the user name of a given email address. Both user names and\n",
        "company names are composed of letters only.\n"
      ],
      "metadata": {
        "id": "vzByzRqAgnqV"
      }
    },
    {
      "cell_type": "code",
      "source": [
        "em = input(\"Enter email: \").split('@')\n",
        "com = str(em[1]).split('.')\n",
        "print(\"User name : \",em[0])\n",
        "print(\"Company name : \",com[0])"
      ],
      "metadata": {
        "colab": {
          "base_uri": "https://localhost:8080/"
        },
        "id": "EGeGoVSGggsr",
        "outputId": "f340470d-8333-4352-f9ac-7d9d964d171c"
      },
      "execution_count": 10,
      "outputs": [
        {
          "output_type": "stream",
          "name": "stdout",
          "text": [
            "Enter email: jsjhgu@google.com\n",
            "User name :  jsjhgu\n",
            "Company name :  google\n"
          ]
        }
      ]
    },
    {
      "cell_type": "markdown",
      "source": [
        "Question 5:\n",
        "Define a class named Shape and its subclass Square. The Square class has an init function\n",
        "which takes a length as argument. Both classes have a area function which can print the area\n",
        "of the shape where Shape&#39;s area is 0 by default."
      ],
      "metadata": {
        "id": "fmfRgVs1hMKA"
      }
    },
    {
      "cell_type": "code",
      "source": [
        "class Shape(object):\n",
        "    def __init__(self):\n",
        "        pass\n",
        "\n",
        "    def area(self):\n",
        "        return 0\n",
        "class Square(Shape):\n",
        "    def __init__(self, l):\n",
        "        Shape.__init__(self)\n",
        "        self.length = l\n",
        "\n",
        "    def area(self):\n",
        "        return self.length*self.length\n",
        "obj= Square(5)\n",
        "print(obj.area())"
      ],
      "metadata": {
        "colab": {
          "base_uri": "https://localhost:8080/"
        },
        "id": "cAD3Z1Blg-2x",
        "outputId": "f91223fe-95b8-4a89-d5c4-a0ffcfb459bc"
      },
      "execution_count": 11,
      "outputs": [
        {
          "output_type": "stream",
          "name": "stdout",
          "text": [
            "25\n"
          ]
        }
      ]
    },
    {
      "cell_type": "code",
      "source": [
        ""
      ],
      "metadata": {
        "id": "ixinnZzIhw8r"
      },
      "execution_count": null,
      "outputs": []
    }
  ]
}