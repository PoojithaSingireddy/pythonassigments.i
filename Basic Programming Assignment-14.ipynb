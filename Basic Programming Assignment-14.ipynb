{
  "nbformat": 4,
  "nbformat_minor": 0,
  "metadata": {
    "colab": {
      "name": "Basic Programming Assignment-14.ipynb",
      "provenance": [],
      "collapsed_sections": []
    },
    "kernelspec": {
      "name": "python3",
      "display_name": "Python 3"
    },
    "language_info": {
      "name": "python"
    }
  },
  "cells": [
    {
      "cell_type": "markdown",
      "source": [
        "Question 1:\n",
        "Define a class with a generator which can iterate the numbers, which are divisible by\n",
        "7, between a given range 0 and n."
      ],
      "metadata": {
        "id": "MO9z3a9qeaBL"
      }
    },
    {
      "cell_type": "code",
      "execution_count": 1,
      "metadata": {
        "id": "odvAKNlHdmsN",
        "colab": {
          "base_uri": "https://localhost:8080/"
        },
        "outputId": "8006f57e-a736-4253-d185-f61c4d8fbe2a"
      },
      "outputs": [
        {
          "output_type": "stream",
          "name": "stdout",
          "text": [
            "Enter n:40\n",
            "0\n",
            "7\n",
            "14\n",
            "21\n",
            "28\n",
            "35\n"
          ]
        }
      ],
      "source": [
        "def putNums(n): \n",
        "    i = 0 \n",
        "    while i < n:\n",
        "        j = i\n",
        "        i += 1 \n",
        "        if j % 7 == 0:\n",
        "            yield j\n",
        "n = int(input('Enter n:'))\n",
        "for i in putNums(n): \n",
        "    print(i)"
      ]
    },
    {
      "cell_type": "markdown",
      "source": [
        "Question 2:\n",
        "Write a program to compute the frequency of the words from the input. The output\n",
        "should output after sorting the key alphanumerically."
      ],
      "metadata": {
        "id": "vSms5yJpcAmm"
      }
    },
    {
      "cell_type": "code",
      "source": [
        "st = input('Enter string:').split()\n",
        "wr = sorted(set(st))\n",
        "\n",
        "for i in wr:\n",
        "    print(\"{0}:{1}\".format(i,st.count(i)))"
      ],
      "metadata": {
        "colab": {
          "base_uri": "https://localhost:8080/"
        },
        "id": "QvrDyXItb8FJ",
        "outputId": "cf4994ee-3f79-46ce-aa8d-5bb93a1077d2"
      },
      "execution_count": 3,
      "outputs": [
        {
          "output_type": "stream",
          "name": "stdout",
          "text": [
            "Enter string:New to Python or choosing between Python 2 and Python 3? Read Python 2 or Python 3.\n",
            "2:2\n",
            "3.:1\n",
            "3?:1\n",
            "New:1\n",
            "Python:5\n",
            "Read:1\n",
            "and:1\n",
            "between:1\n",
            "choosing:1\n",
            "or:2\n",
            "to:1\n"
          ]
        }
      ]
    },
    {
      "cell_type": "markdown",
      "source": [
        "Question 3:\n",
        "\n",
        "Define a class Person and its two child classes: Male and Female. All classes have a\n",
        "method 'getGender' which can print 'Male' for Male class and 'Female' for Female\n",
        "class."
      ],
      "metadata": {
        "id": "WdDxwbObcZI1"
      }
    },
    {
      "cell_type": "code",
      "source": [
        "class Person(object):\n",
        "    def getGender( self ):\n",
        "        return \"Unknown\"\n",
        "\n",
        "class Male( Person ):\n",
        "    def getGender( self ):\n",
        "        return \"Male\"\n",
        "\n",
        "class Female( Person ):\n",
        "    def getGender( self ):\n",
        "        return \"Female\"\n",
        "\n",
        "objMale = Male()\n",
        "objFemale= Female()\n",
        "print(objMale.getGender())\n",
        "print(objFemale.getGender())\n"
      ],
      "metadata": {
        "colab": {
          "base_uri": "https://localhost:8080/"
        },
        "id": "VcLyv-lzcTxB",
        "outputId": "de449e2c-7087-4c91-806b-cc0ab1d4ae22"
      },
      "execution_count": 4,
      "outputs": [
        {
          "output_type": "stream",
          "name": "stdout",
          "text": [
            "Male\n",
            "Female\n"
          ]
        }
      ]
    },
    {
      "cell_type": "markdown",
      "source": [
        "Question 4:\n",
        "Please write a program to generate all sentences where subject is in [\"I\", \"You\"] and verb is in ['Play', \"Love\"] and the object is in [\"Hockey\",\"Football\"]"
      ],
      "metadata": {
        "id": "8_DgNDOEc035"
      }
    },
    {
      "cell_type": "code",
      "source": [
        "subject=[\"I\", \"You\"]\n",
        "verb=[\"Play\", \"Love\"]\n",
        "obj=[\"Hockey\",\"Football\"]\n",
        "sen_list = [(sub+\" \"+ vb + \" \" + ob) for sub in subject for vb in verb for ob in obj]\n",
        "for sen in sen_list:\n",
        "    print(sen)"
      ],
      "metadata": {
        "colab": {
          "base_uri": "https://localhost:8080/"
        },
        "id": "FK-T4Iwlcx3M",
        "outputId": "8fe5af90-6787-4244-af7b-d27f84dc4e0d"
      },
      "execution_count": 5,
      "outputs": [
        {
          "output_type": "stream",
          "name": "stdout",
          "text": [
            "I Play Hockey\n",
            "I Play Football\n",
            "I Love Hockey\n",
            "I Love Football\n",
            "You Play Hockey\n",
            "You Play Football\n",
            "You Love Hockey\n",
            "You Love Football\n"
          ]
        }
      ]
    },
    {
      "cell_type": "markdown",
      "source": [
        "Question 5: Please write a program to compress and decompress the string \"hello world!hello\n",
        "world!hello world!hello world!\""
      ],
      "metadata": {
        "id": "0IE603kNdEkP"
      }
    },
    {
      "cell_type": "code",
      "source": [
        "import zlib\n",
        "\n",
        "s = 'hello world!hello world!hello world!hello world!'\n",
        "y = bytes(s, 'utf-8')\n",
        "x = zlib.compress(y)\n",
        "print(x)\n",
        "print(zlib.decompress(x))"
      ],
      "metadata": {
        "colab": {
          "base_uri": "https://localhost:8080/"
        },
        "id": "Ap7GZlWDc_1I",
        "outputId": "6dda4f6e-a6e1-45b4-dd01-b36550d9bc33"
      },
      "execution_count": 6,
      "outputs": [
        {
          "output_type": "stream",
          "name": "stdout",
          "text": [
            "b'x\\x9c\\xcbH\\xcd\\xc9\\xc9W(\\xcf/\\xcaIQ\\xcc \\x82\\r\\x00\\xbd[\\x11\\xf5'\n",
            "b'hello world!hello world!hello world!hello world!'\n"
          ]
        }
      ]
    },
    {
      "cell_type": "markdown",
      "source": [
        "Question 6:\n",
        "Please write a binary search function which searches an item in a sorted list. The\n",
        "function should return the index of element to be searched in the list.\n"
      ],
      "metadata": {
        "id": "z3wnBFvFdWzD"
      }
    },
    {
      "cell_type": "code",
      "source": [
        "from bisect import bisect_left\n",
        "  \n",
        "def BSearch(a, x):\n",
        "    i = bisect_left(a, x)\n",
        "    if i != len(a) and a[i] == x:\n",
        "        return i\n",
        "    else:\n",
        "        return -1 \n",
        "\n",
        "a = [8, 8, 11, 12, 14, 14, 18, 28, 38, 44]\n",
        "x = int(14)\n",
        "res = BSearch(a, x)\n",
        "if res == -1:\n",
        "    print(x, \"is not present\")\n",
        "else:\n",
        "    print(\"First occurrence of\", x, \"is at\", res)\n"
      ],
      "metadata": {
        "colab": {
          "base_uri": "https://localhost:8080/"
        },
        "id": "GV1wO_JLdSVY",
        "outputId": "3171ccc4-c8b9-48f4-d73f-db67126c3cc1"
      },
      "execution_count": 14,
      "outputs": [
        {
          "output_type": "stream",
          "name": "stdout",
          "text": [
            "First occurrence of 14 is at 4\n"
          ]
        }
      ]
    },
    {
      "cell_type": "code",
      "source": [
        ""
      ],
      "metadata": {
        "id": "dznHgvYEdzdK"
      },
      "execution_count": null,
      "outputs": []
    }
  ]
}