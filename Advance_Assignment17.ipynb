{
  "nbformat": 4,
  "nbformat_minor": 0,
  "metadata": {
    "colab": {
      "name": "Advance Assignment17.ipynb",
      "provenance": [],
      "collapsed_sections": []
    },
    "kernelspec": {
      "name": "python3",
      "display_name": "Python 3"
    },
    "language_info": {
      "name": "python"
    }
  },
  "cells": [
    {
      "cell_type": "markdown",
      "source": [
        "1. Create a function that transposes a 2D matrix.\n",
        "\n",
        "Examples\n",
        "\n",
        "transpose_matrix([ [1, 1, 1], [2, 2, 2], [3, 3, 3] ]) ➞ [ [1, 2, 3], [1, 2, 3], [1, 2, 3] ]\n",
        "\n",
        "transpose_matrix([ [5, 5], [6, 7], [9, 1] ]) ➞ [ [5, 6, 9], [5, 7, 1] ]\n"
      ],
      "metadata": {
        "id": "FTnEyLl4P7c1"
      }
    },
    {
      "cell_type": "code",
      "execution_count": 2,
      "metadata": {
        "colab": {
          "base_uri": "https://localhost:8080/"
        },
        "id": "LV9-ElSwPCSV",
        "outputId": "90f6bf58-1632-427a-9f88-830043966d75"
      },
      "outputs": [
        {
          "output_type": "stream",
          "name": "stdout",
          "text": [
            "transpose_matrix([ [1, 1, 1], [2, 2, 2], [3, 3, 3] ]) ➞ [[1, 2, 3], [1, 2, 3], [1, 2, 3]]\n",
            "transpose_matrix([ [5, 5], [6, 7], [9, 1] ]) ➞ [[5, 6, 9], [5, 7, 1]]\n"
          ]
        }
      ],
      "source": [
        "def transpose_matrix(l):\n",
        "    l2 = []\n",
        "    for i in range(len(l[0])):\n",
        "        l1 = []\n",
        "        for j in range(len(l)):\n",
        "            l1.append(l[j][i])\n",
        "        l2.append(l1)\n",
        "    return l2          \n",
        "print(\"transpose_matrix([ [1, 1, 1], [2, 2, 2], [3, 3, 3] ]) ➞\",transpose_matrix([ [1, 1, 1], [2, 2, 2], [3, 3, 3]]))\n",
        "print(\"transpose_matrix([ [5, 5], [6, 7], [9, 1] ]) ➞\",transpose_matrix([ [5, 5], [6, 7], [9, 1] ]))"
      ]
    },
    {
      "cell_type": "markdown",
      "source": [
        "2. Create a function that determines whether a string is a valid hex code.\n",
        "A hex code must begin with a pound key # and is exactly 6 characters in length. Each character must be a digit from 0-9 or an alphabetic character from A-F. All alphabetic characters may be uppercase or lowercase.\n",
        "\n",
        "Examples\n",
        "\n",
        "is_valid_hex_code(\"#CD5C5C\") ➞ True\n",
        "\n",
        "is_valid_hex_code(\"#EAECEE\") ➞ True\n",
        "\n",
        "is_valid_hex_code(\"#eaecee\") ➞ True\n",
        "\n",
        "is_valid_hex_code(\"#CD5C58C\") ➞ False\n",
        "\n",
        "Length exceeds 6\n",
        "is_valid_hex_code(\"#CD5C5Z\") ➞ False\n",
        "\n",
        "Not all alphabetic characters in A-F\n",
        "is_valid_hex_code(\"#CD5C&C\") ➞ False\n",
        "\n",
        "Contains unacceptable character\n",
        "is_valid_hex_code(\"CD5C5C\") ➞ False\n",
        "\n",
        "Missing"
      ],
      "metadata": {
        "id": "KkkFHJ5DQRYI"
      }
    },
    {
      "cell_type": "code",
      "source": [
        "def is_valid_hex_code(s):\n",
        "    if len(s) == 7 and s[0] == '#':\n",
        "        for le in s[1:]:\n",
        "            if le.lower() not in 'abcdef' and not le.isdigit() :\n",
        "                return False\n",
        "        return True\n",
        "    else:\n",
        "        return False       \n",
        "print(is_valid_hex_code(\"#CD5C5C\"))\n",
        "print(is_valid_hex_code(\"#EAECEE\"))\n",
        "print(is_valid_hex_code(\"#eaecee\"))                \n",
        "print(is_valid_hex_code(\"#CD5C58C\"))\n",
        "print(is_valid_hex_code(\"#CD5C5Z\"))\n",
        "print(is_valid_hex_code(\"#CD5C&C\"))\n",
        "print(is_valid_hex_code(\"CD5C5C\"))"
      ],
      "metadata": {
        "colab": {
          "base_uri": "https://localhost:8080/"
        },
        "id": "Pnt8Bc-uQNHX",
        "outputId": "12f92d8b-98a0-4599-9d55-84ec8264ceb0"
      },
      "execution_count": 3,
      "outputs": [
        {
          "output_type": "stream",
          "name": "stdout",
          "text": [
            "True\n",
            "True\n",
            "True\n",
            "False\n",
            "False\n",
            "False\n",
            "False\n"
          ]
        }
      ]
    },
    {
      "cell_type": "markdown",
      "source": [
        "3. Given a list of math equations (given as strings), return the percentage of correct answers as a string. Round to the nearest whole number.\n",
        "\n",
        "Examples\n",
        "\n",
        "mark_maths([\"2+2=4\", \"3+2=5\", \"10-3=3\", \"5+5=10\"]) ➞ \"75%\"\n",
        "\n",
        "mark_maths([\"1-2=-2\"]), \"0%\"\n",
        "\n",
        "mark_maths([\"2+3=5\", \"4+4=9\", \"3-1=2\"]) ➞ \"67%\"\n"
      ],
      "metadata": {
        "id": "Dvh6JjRCQ0sb"
      }
    },
    {
      "cell_type": "code",
      "source": [
        "def mark_maths(l):\n",
        "    count = 0\n",
        "    for item in l:\n",
        "        item1 = item.split('=')\n",
        "        if eval(item1[0]) == int(item1[1]):\n",
        "            count += 1\n",
        "    return str(round((count/len(l)) * 100)) +'%'     \n",
        "print(mark_maths([\"2+2=4\", \"3+2=5\", \"10-3=3\", \"5+5=10\"])) \n",
        "print(mark_maths([\"1-2=-2\"]))\n",
        "print(mark_maths([\"2+3=5\", \"4+4=9\", \"3-1=2\"]))"
      ],
      "metadata": {
        "colab": {
          "base_uri": "https://localhost:8080/"
        },
        "id": "AXAz6cDuQw9u",
        "outputId": "fecd3822-89fb-4367-d8d6-f338b094706e"
      },
      "execution_count": 4,
      "outputs": [
        {
          "output_type": "stream",
          "name": "stdout",
          "text": [
            "75%\n",
            "0%\n",
            "67%\n"
          ]
        }
      ]
    },
    {
      "cell_type": "markdown",
      "source": [
        "4. There are two players, Alice and Bob, each with a 3-by-3 grid. A referee tells Alice to fill out one particular row in the grid (say the second row) by putting either a 1 or a 0 in each box, such that the sum of the numbers in that row is odd. The referee tells Bob to fill out one column in the grid (say the first column) by putting either a 1 or a 0 in each box, such that the sum of the numbers in that column is even.\n",
        "Alice and Bob win the game if Alice’s numbers give an odd sum, Bob’s give an even sum, and (most important) they’ve each written down the same number in the one square where their row and column intersect.\n",
        "\n",
        "Examples\n",
        "\n",
        "magic_square_game([2, \"100\"], [1, \"101\"]) ➞ False\n",
        "\n",
        "magic_square_game([2, \"001\"], [1, \"101\"]) ➞ True\n",
        "\n",
        "magic_square_game([3, \"111\"], [2, \"011\"]) ➞ True\n",
        "\n",
        "magic_square_game([1, \"010\"], [3, \"101\"]) ➞ False\n",
        "\n",
        "Two lists, Alice [row, \"her choice\"], Bob [column, \"his choice\"]\n"
      ],
      "metadata": {
        "id": "saTyN1NMRJF9"
      }
    },
    {
      "cell_type": "code",
      "source": [
        "def magic_square_game(l1,l2):\n",
        "    if (sum(list(map(int,l1[1]))) % 2 != 0) and (sum(list(map(int,l2[1]))) % 2 == 0):\n",
        "        if l1[1][l2[0] - 1] == l2[1][l1[0] - 1]:\n",
        "            return True\n",
        "    return False\n",
        "print(magic_square_game([2, \"100\"], [1, \"101\"]))\n",
        "print(magic_square_game([2, \"001\"], [1, \"101\"]))\n",
        "print(magic_square_game([3, \"111\"], [2, \"011\"]) )\n",
        "print(magic_square_game([1, \"010\"], [3, \"101\"]))"
      ],
      "metadata": {
        "colab": {
          "base_uri": "https://localhost:8080/"
        },
        "id": "s87qd3agQ_ly",
        "outputId": "2e8ed4b7-2d7d-4734-c186-32dffa6950e4"
      },
      "execution_count": 5,
      "outputs": [
        {
          "output_type": "stream",
          "name": "stdout",
          "text": [
            "False\n",
            "True\n",
            "True\n",
            "False\n"
          ]
        }
      ]
    },
    {
      "cell_type": "markdown",
      "source": [
        "5. From point A, an object is moving towards point B at constant velocity va (in km/hr). From point B, another object is moving towards point A at constant velocity vb (in km/hr). Knowing this and the distance between point A and B (in km), write a function that returns how much time passes until both objects meet.\n",
        "Format the output like this:\n",
        "\"2h 23min 34s\"\n",
        "\n",
        "Examples\n",
        "\n",
        "lets_meet(100, 10, 30) ➞ \"2h 30min 0s\"\n",
        "\n",
        "lets_meet(280, 70, 80) ➞ \"1h 52min 0s\"\n",
        "\n",
        "lets_meet(90, 75, 65) ➞ \"0h 38min 34s\""
      ],
      "metadata": {
        "id": "Knlt2q8XRPjT"
      }
    },
    {
      "cell_type": "code",
      "source": [
        "def lets_meet(d,v1,v2):\n",
        "    res =  d / (v1+v2)\n",
        "    time = res * 60\n",
        "    hours, seconds = divmod(time * 60, 3600)  # split to hours and seconds\n",
        "    minutes, seconds = divmod(seconds, 60)\n",
        "    return str(round(hours))+\"h \"+ str(round(minutes)) +\"min \"+ str(round(seconds)) +\"s\"\n",
        "print(lets_meet(100, 10, 30))\n",
        "print(lets_meet(280, 70, 80))\n",
        "print(lets_meet(90, 75, 65))"
      ],
      "metadata": {
        "colab": {
          "base_uri": "https://localhost:8080/"
        },
        "id": "4tSbZU0BRNdQ",
        "outputId": "36fcf67c-1c9f-4de2-c9fc-b9bcec48fb16"
      },
      "execution_count": 7,
      "outputs": [
        {
          "output_type": "stream",
          "name": "stdout",
          "text": [
            "2h 30min 0s\n",
            "1h 52min 0s\n",
            "0h 38min 34s\n"
          ]
        }
      ]
    },
    {
      "cell_type": "code",
      "source": [
        ""
      ],
      "metadata": {
        "id": "XFASalSPRa2Z"
      },
      "execution_count": null,
      "outputs": []
    }
  ]
}