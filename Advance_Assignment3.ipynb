{
  "nbformat": 4,
  "nbformat_minor": 0,
  "metadata": {
    "colab": {
      "name": "Advance Assignment3.ipynb",
      "provenance": [],
      "collapsed_sections": []
    },
    "kernelspec": {
      "name": "python3",
      "display_name": "Python 3"
    },
    "language_info": {
      "name": "python"
    }
  },
  "cells": [
    {
      "cell_type": "markdown",
      "source": [
        "1. Create a function to perform basic arithmetic operations that includes addition, subtraction, multiplication and division on a string number (e.g. \"12 + 24\" or \"23 - 21\" or \"12 // 12\" or \"12 * 21\").\n",
        "Here, we have 1 followed by a space, operator followed by another space and 2. For the challenge, we are going to have only two numbers between 1 valid operator. The return value should be a number. eval() is not allowed. In case of division, whenever the second number equals \"0\" return -1.\n",
        "For example:\n",
        "\"15 // 0\" ➞ -1"
      ],
      "metadata": {
        "id": "-5Dr2ZaHFHw7"
      }
    },
    {
      "cell_type": "code",
      "execution_count": 2,
      "metadata": {
        "colab": {
          "base_uri": "https://localhost:8080/"
        },
        "id": "O_Jef1905NYU",
        "outputId": "7ac437eb-818d-456d-8e35-81978d46d8ee"
      },
      "outputs": [
        {
          "output_type": "stream",
          "name": "stdout",
          "text": [
            "24\n",
            "0\n",
            "144\n",
            "1.0\n"
          ]
        }
      ],
      "source": [
        "def arithmetic_operation(s):\n",
        "    l = s.split()\n",
        "    l1 = list(map(int,l[0:3:2]))\n",
        "    if l[1] == '+':\n",
        "         return l1[0] + l1[1]\n",
        "    elif l[1] == '-':\n",
        "         return l1[0] - l1[1]\n",
        "    elif l[1] == '*':\n",
        "         return l1[0] * l1[1]\n",
        "    else:\n",
        "        if l1[1] == 0:\n",
        "            return -1\n",
        "        else:\n",
        "            return l1[0] / l1[1]\n",
        "print(arithmetic_operation(\"12 + 12\"))\n",
        "print(arithmetic_operation(\"12 - 12\"))\n",
        "print(arithmetic_operation(\"12 * 12\"))\n",
        "print(arithmetic_operation(\"12 / 12\"))"
      ]
    },
    {
      "cell_type": "markdown",
      "source": [
        "2. Write a function that takes the coordinates of three points in the form of a 2d array and returns the perimeter of the triangle. The given points are the vertices of a triangle on a two-dimensional plane."
      ],
      "metadata": {
        "id": "HqZ5NR-NFihx"
      }
    },
    {
      "cell_type": "code",
      "source": [
        "import math\n",
        "def distance(xA,yA,xB,yB):\n",
        "    return math.sqrt((xA-xB)*(xA-xB)+(yA-yB)*(yA-yB))\n",
        "def perimeter(l):\n",
        "    return round(distance(l[0][0],l[0][1],l[1][0],l[1][1])+distance(l[0][0],l[0][1],l[2][0],l[2][1])+distance(l[2][0],l[2][1],l[1][0],l[1][1]),2)\n",
        "print(perimeter( [ [15, 7], [5, 22], [11, 1] ] ))\n",
        "print(perimeter(  [ [0, 0], [0, 1], [1, 0] ] ))\n",
        "print(perimeter([[-10, -10],[10, 10 ],[-10, 10]]))"
      ],
      "metadata": {
        "colab": {
          "base_uri": "https://localhost:8080/"
        },
        "id": "--xVZ7W3FbBr",
        "outputId": "f67b5c05-83cf-47e7-ac9e-a92161e474eb"
      },
      "execution_count": 3,
      "outputs": [
        {
          "output_type": "stream",
          "name": "stdout",
          "text": [
            "47.08\n",
            "3.41\n",
            "68.28\n"
          ]
        }
      ]
    },
    {
      "cell_type": "markdown",
      "source": [
        "3. A city skyline can be represented as a 2-D list with 1s representing buildings. In the example below, the height of the tallest building is 4 (second-most right column).\n",
        "[[0, 0, 0, 0, 0, 0], [0, 0, 0, 0, 1, 0], [0, 0, 1, 0, 1, 0], [0, 1, 1, 1, 1, 0], [1, 1, 1, 1, 1, 1]]\n",
        "Create a function that takes a skyline (2-D list of 0's and 1's) and returns the height of the tallest skyscraper."
      ],
      "metadata": {
        "id": "TVTRjhAkJ508"
      }
    },
    {
      "cell_type": "code",
      "source": [
        "import numpy as np\n",
        "\n",
        "def tallest_skyscraper(l):\n",
        "    arr = np.array(l)\n",
        "    height =[]\n",
        "    for i in range(len(arr)):\n",
        "        height.append((arr[:,i] == 1).sum())   \n",
        "    return max(height)\n",
        "print(tallest_skyscraper([ [0, 0, 0, 0], [0, 1, 0, 0], [0, 1, 1, 0], [1, 1, 1, 1] ]))\n",
        "print(tallest_skyscraper([ [0, 1, 0, 0], [0, 1, 0, 0], [0, 1, 1, 0], [1, 1, 1, 1] ]))\n",
        "print(tallest_skyscraper([\n",
        "  [0, 0, 0, 0],\n",
        "  [0, 0, 0, 0],\n",
        "  [1, 1, 1, 0],\n",
        "  [1, 1, 1, 1]\n",
        "]))"
      ],
      "metadata": {
        "colab": {
          "base_uri": "https://localhost:8080/"
        },
        "id": "0R8vjxYaJMeT",
        "outputId": "3edd1a70-45f2-40c2-cc9b-6dbd310e1f09"
      },
      "execution_count": 4,
      "outputs": [
        {
          "output_type": "stream",
          "name": "stdout",
          "text": [
            "3\n",
            "4\n",
            "2\n"
          ]
        }
      ]
    },
    {
      "cell_type": "markdown",
      "source": [
        "4. A financial institution provides professional services to banks and claims charges from the customers based on the number of man-days provided. Internally, it has set a scheme to motivate and reward staff to meet and exceed targeted billable utilization and revenues by paying a bonus for each day claimed from customers in excess of a threshold target.\n",
        "This quarterly scheme is calculated with a threshold target of 32 days per quarter, and the incentive payment for each billable day in excess of such threshold target is shown as follows:\n",
        "Days Bonus\n",
        "0 to 32 days Zero\n",
        "33 to 40 days SGD$325 per billable day\n",
        "41 to 48 days SGD$550 per billable day\n",
        "Greater than 48 days SGD$600 per billable day\n",
        "Please note that incentive payment is calculated progressively. As an example, if an employee reached total billable days of 45 in a quarter, his/her incentive payment is computed as follows:\n",
        "32 0 + 8 325 + 5 * 550 = 5350\n",
        "Write a function to read the billable days of an employee and return the bonus he/she has obtained in that quarter."
      ],
      "metadata": {
        "id": "Z3DxleSmK2HX"
      }
    },
    {
      "cell_type": "code",
      "source": [
        "def bonus(days):\n",
        "    if days < 32:\n",
        "        return 0    \n",
        "    elif days > 32 and days < 41:\n",
        "        return (days-32) * 325 \n",
        "    elif days > 40 and days < 49:\n",
        "        return 8 * 325 + (days - 40) * 550   \n",
        "    elif days > 48:\n",
        "        return 8 * 325 + 8 * 550 + (days - 48) * 600    \n",
        "print(bonus(15))\n",
        "print(bonus(37))\n",
        "print(bonus(50))"
      ],
      "metadata": {
        "colab": {
          "base_uri": "https://localhost:8080/"
        },
        "id": "03QD8nP3KCHA",
        "outputId": "b8d74985-c794-45a2-9f67-8f165c589bd0"
      },
      "execution_count": 5,
      "outputs": [
        {
          "output_type": "stream",
          "name": "stdout",
          "text": [
            "0\n",
            "1625\n",
            "8200\n"
          ]
        }
      ]
    },
    {
      "cell_type": "markdown",
      "source": [
        "5. A number is said to be Disarium if the sum of its digits raised to their respective positions is the number itself.\n",
        "Create a function that determines whether a number is a Disarium or not."
      ],
      "metadata": {
        "id": "qcNkIp7SLNMS"
      }
    },
    {
      "cell_type": "code",
      "source": [
        "def is_disarium(n):\n",
        "    s = 0 \n",
        "    l = list(map(int,str(n)))\n",
        "    for i in range(0,len(l)):\n",
        "        s+= l[i]**(i+1)\n",
        "    if s == n:\n",
        "        return True\n",
        "    else:\n",
        "        return False  \n",
        "print(is_disarium(75))\n",
        "print(is_disarium(135))\n",
        "print(is_disarium(544))"
      ],
      "metadata": {
        "colab": {
          "base_uri": "https://localhost:8080/"
        },
        "id": "TY-URJyXLHxs",
        "outputId": "652310ce-cc62-4ce1-87f8-adea8cc74a3a"
      },
      "execution_count": 6,
      "outputs": [
        {
          "output_type": "stream",
          "name": "stdout",
          "text": [
            "False\n",
            "True\n",
            "False\n"
          ]
        }
      ]
    },
    {
      "cell_type": "code",
      "source": [
        ""
      ],
      "metadata": {
        "id": "0NYHqvEBO_Y9"
      },
      "execution_count": null,
      "outputs": []
    }
  ]
}