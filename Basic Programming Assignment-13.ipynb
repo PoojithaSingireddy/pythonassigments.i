{
  "nbformat": 4,
  "nbformat_minor": 0,
  "metadata": {
    "colab": {
      "name": "Basic Programming Assignment-13.ipynb",
      "provenance": [],
      "collapsed_sections": []
    },
    "kernelspec": {
      "name": "python3",
      "display_name": "Python 3"
    },
    "language_info": {
      "name": "python"
    }
  },
  "cells": [
    {
      "cell_type": "markdown",
      "source": [
        "Question 1:\n",
        "Write a program that calculates and prints the value according to the given formula:\n",
        "Q = Square root of [(2 * C * D)/H]\n",
        "Following are the fixed values of C and H:\n",
        "C is 50. H is 30.\n",
        "D is the variable whose values should be input to your program in a comma-separated\n",
        "sequence."
      ],
      "metadata": {
        "id": "-P5cYi85VTeo"
      }
    },
    {
      "cell_type": "code",
      "execution_count": 2,
      "metadata": {
        "colab": {
          "base_uri": "https://localhost:8080/"
        },
        "id": "YzxkBdAcqxok",
        "outputId": "d2c73056-1ea0-411d-d15d-428192e6ea91"
      },
      "outputs": [
        {
          "output_type": "stream",
          "name": "stdout",
          "text": [
            "Enter D values:21,14,12\n",
            "8,7,6\n"
          ]
        }
      ],
      "source": [
        "import math\n",
        "nums = input(\"Enter D values:\")\n",
        "nums = nums.split(',')\n",
        "reslist = []\n",
        "resstring = ''\n",
        "for D in nums:\n",
        "    Q = round(math.sqrt(2 * 50 * int(D) / 30))\n",
        "    reslist.append(str(Q))\n",
        "print(','.join(reslist))"
      ]
    },
    {
      "cell_type": "markdown",
      "source": [
        "Question 2:\n",
        "Write a program which takes 2 digits, X,Y as input and generates a 2-dimensional array. The\n",
        "element value in the i-th row and j-th column of the array should be i*j.\n",
        "Note: i=0,1.., X-1; j=0,1,¡Y-1."
      ],
      "metadata": {
        "id": "Hptkx6JKWZ9f"
      }
    },
    {
      "cell_type": "code",
      "source": [
        "def Matrix(n,m):\n",
        "    M=[]             \n",
        "    print(\"Enter element :\")\n",
        "    for i in range(n):\n",
        "        row =[]\n",
        "        for j in range(m):\n",
        "            row.append(i*j)\n",
        "        M.append(row)\n",
        "    return(M)\n",
        "x = int(input(\"Enter x value: \"))\n",
        "y = int(input(\"Enter y value: \"))\n",
        "Matrix(x,y)"
      ],
      "metadata": {
        "colab": {
          "base_uri": "https://localhost:8080/"
        },
        "id": "Kx1OMfyRWMWI",
        "outputId": "6a400888-a0e8-4ef9-e678-93afd67e238c"
      },
      "execution_count": 3,
      "outputs": [
        {
          "output_type": "stream",
          "name": "stdout",
          "text": [
            "Enter x value: 3\n",
            "Enter y value: 4\n",
            "Enter element :\n"
          ]
        },
        {
          "output_type": "execute_result",
          "data": {
            "text/plain": [
              "[[0, 0, 0, 0], [0, 1, 2, 3], [0, 2, 4, 6]]"
            ]
          },
          "metadata": {},
          "execution_count": 3
        }
      ]
    },
    {
      "cell_type": "markdown",
      "source": [
        "Question 3:\n",
        "Write a program that accepts a comma separated sequence of words as input and prints the\n",
        "words in a comma-separated sequence after sorting them alphabetically."
      ],
      "metadata": {
        "id": "7BBHClxIW2Jl"
      }
    },
    {
      "cell_type": "code",
      "source": [
        "words=[x for x in input('Enter words:').split(',')]\n",
        "words.sort()    \n",
        "print(','.join(words))"
      ],
      "metadata": {
        "colab": {
          "base_uri": "https://localhost:8080/"
        },
        "id": "wCZuXgo3Wxuh",
        "outputId": "512bc4fd-fb8a-46b2-fb3b-f9bf5c75a4e4"
      },
      "execution_count": 4,
      "outputs": [
        {
          "output_type": "stream",
          "name": "stdout",
          "text": [
            "Enter words:python,programs,language\n",
            "language,programs,python\n"
          ]
        }
      ]
    },
    {
      "cell_type": "markdown",
      "source": [
        "Question 4:\n",
        "Write a program that accepts a sequence of whitespace separated words as input and prints\n",
        "the words after removing all duplicate words and sorting them alphanumerically."
      ],
      "metadata": {
        "id": "7Qa5Dm4DXOr6"
      }
    },
    {
      "cell_type": "code",
      "source": [
        "words=[x for x in input('Enter words:').split(' ')]\n",
        "print(' '.join(sorted(list(set(words)))))"
      ],
      "metadata": {
        "colab": {
          "base_uri": "https://localhost:8080/"
        },
        "id": "HuT5WNOTXKfM",
        "outputId": "d92d95ba-3196-4cdf-c9f0-a16ec61f2da7"
      },
      "execution_count": 5,
      "outputs": [
        {
          "output_type": "stream",
          "name": "stdout",
          "text": [
            "Enter words:hello world and who is this\n",
            "and hello is this who world\n"
          ]
        }
      ]
    },
    {
      "cell_type": "markdown",
      "source": [
        "Question 5:\n",
        "Write a program that accepts a sentence and calculate the number of letters and digits."
      ],
      "metadata": {
        "id": "B_fqaqUgXiu6"
      }
    },
    {
      "cell_type": "code",
      "source": [
        "s = input(\"Enter string : \")\n",
        "di=le=0\n",
        "for c in s:\n",
        "    if c.isdigit():\n",
        "        di += 1\n",
        "    elif c.isalpha():\n",
        "        le += 1\n",
        "    else:\n",
        "        pass\n",
        "print(\"Letters=\", le)\n",
        "print(\"Digits=\", di)"
      ],
      "metadata": {
        "colab": {
          "base_uri": "https://localhost:8080/"
        },
        "id": "ZuHb1E-HXc4f",
        "outputId": "5804929f-f1d8-43bd-81a6-bc2ea9603310"
      },
      "execution_count": 8,
      "outputs": [
        {
          "output_type": "stream",
          "name": "stdout",
          "text": [
            "Enter string : hello world 123\n",
            "Letters= 10\n",
            "Digits= 3\n"
          ]
        }
      ]
    },
    {
      "cell_type": "markdown",
      "source": [
        "Question 6:\n",
        "A website requires the users to input username and password to register. Write a program to\n",
        "check the validity of password input by users.\n",
        "Following are the criteria for checking the password:\n",
        "1. At least 1 letter between [a-z]\n",
        "2. At least 1 number between [0-9]\n",
        "1. At least 1 letter between [A-Z]\n",
        "3. At least 1 character from [$#@]\n",
        "4. Minimum length of transaction password: 6\n",
        "5. Maximum length of transaction password: 12\n",
        "Your program should accept a sequence of comma separated passwords and will check them\n",
        "according to the above criteria. Passwords that match the criteria are to be printed, each\n",
        "separated by a comma."
      ],
      "metadata": {
        "id": "V2BBxr0hYMEp"
      }
    },
    {
      "cell_type": "code",
      "source": [
        "import re\n",
        "passw= input(\"Enter password : \")\n",
        "a = True\n",
        "while a:  \n",
        "    if (len(passw) < 6 or len(passw) > 12):\n",
        "        break\n",
        "    elif not re.search(\"[a-z]\",passw):\n",
        "        break\n",
        "    elif not re.search(\"[0-9]\",passw):\n",
        "        break\n",
        "    elif not re.search(\"[A-Z]\",passw):\n",
        "        break\n",
        "    elif not re.search(\"[$#@]\",passw):\n",
        "        break\n",
        "    elif re.search(\"\\s\",passw):\n",
        "        break\n",
        "    else:\n",
        "        print(\"Valid Password\")\n",
        "        a=False\n",
        "        break\n",
        "if a:\n",
        "    print(\"Invalid Password\")"
      ],
      "metadata": {
        "colab": {
          "base_uri": "https://localhost:8080/"
        },
        "id": "9ik0SYagYJRW",
        "outputId": "8f7589e8-8271-482d-b3ec-72250b05b4a7"
      },
      "execution_count": 9,
      "outputs": [
        {
          "output_type": "stream",
          "name": "stdout",
          "text": [
            "Enter password : 345&wsk\n",
            "Invalid Password\n"
          ]
        }
      ]
    },
    {
      "cell_type": "code",
      "source": [
        ""
      ],
      "metadata": {
        "id": "GskMl0m4Ym07"
      },
      "execution_count": null,
      "outputs": []
    }
  ]
}