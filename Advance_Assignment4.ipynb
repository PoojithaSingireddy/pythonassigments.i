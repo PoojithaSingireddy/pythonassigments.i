{
  "nbformat": 4,
  "nbformat_minor": 0,
  "metadata": {
    "colab": {
      "name": "Advance Assignment4.ipynb",
      "provenance": [],
      "collapsed_sections": []
    },
    "kernelspec": {
      "name": "python3",
      "display_name": "Python 3"
    },
    "language_info": {
      "name": "python"
    }
  },
  "cells": [
    {
      "cell_type": "markdown",
      "source": [
        "1. In mathematics, the Fibonacci numbers, commonly denoted Fn, form a\n",
        "sequence, called the Fibonacci sequence, such that each number is the sum\n",
        "of the two preceding ones, starting from 0 and 1:\n",
        "f0=0,f1=1\n",
        "and\n",
        "fn=fn-1+fn-2 for n>1\n",
        "The beginning of the sequence is this:\n",
        "0, 1, 1, 2, 3, 5, 8, 13, 21, 34, 55, 89, 144, ...\n",
        "The function fastFib(num) returns the fibonacci number Fn, of the given num\n",
        "as an argument."
      ],
      "metadata": {
        "id": "5vbgo-Kba7qN"
      }
    },
    {
      "cell_type": "code",
      "execution_count": 2,
      "metadata": {
        "colab": {
          "base_uri": "https://localhost:8080/"
        },
        "id": "XEyQTYbCaTMt",
        "outputId": "5d41ccb1-ea71-4a3b-bb84-10f7935445fb"
      },
      "outputs": [
        {
          "output_type": "stream",
          "name": "stdout",
          "text": [
            "5\n",
            "55\n",
            "6765\n"
          ]
        }
      ],
      "source": [
        "def fib_fast(n):\n",
        "    if n == 0:\n",
        "        return 0\n",
        "    if n == 1 or n == 2:\n",
        "        return 1\n",
        "    if n > 1:\n",
        "        return fib_fast(n-1) + fib_fast(n-2)    \n",
        "print(fib_fast(5))\n",
        "print(fib_fast(10))\n",
        "print(fib_fast(20))"
      ]
    },
    {
      "cell_type": "markdown",
      "source": [
        "2. Create a function that takes a strings characters as ASCII and returns each characters hexadecimal value as a string.\n",
        "Examples\n",
        "\n",
        "convert_to_hex(\"hello world\") ➞ \"68 65 6c 6c 6f 20 77 6f 72 6c 64\"\n",
        "\n",
        "convert_to_hex(\"Big Boi\") ➞ \"42 69 67 20 42 6f 69\"\n",
        "\n",
        "convert_to_hex(\"Marty Poppinson\") ➞ \"4d 61 72 74 79 20 50 6f 70 70 69 6e 73 6f 6e\""
      ],
      "metadata": {
        "id": "X8obsDhfbrhh"
      }
    },
    {
      "cell_type": "code",
      "source": [
        "def convert_to_hex(s):\n",
        "    s = s.encode('utf-8')\n",
        "    return s.hex( )\n",
        "print(convert_to_hex(\"hello world\"))\n",
        "print(convert_to_hex(\"Big Boi\"))\n",
        "print(convert_to_hex(\"Marty Poppinson\"))"
      ],
      "metadata": {
        "colab": {
          "base_uri": "https://localhost:8080/"
        },
        "id": "sRNce1vTbbbu",
        "outputId": "b15cae9d-9ebd-44ad-95af-8b1a4da839ef"
      },
      "execution_count": 10,
      "outputs": [
        {
          "output_type": "stream",
          "name": "stdout",
          "text": [
            "68656c6c6f20776f726c64\n",
            "42696720426f69\n",
            "4d6172747920506f7070696e736f6e\n"
          ]
        }
      ]
    },
    {
      "cell_type": "markdown",
      "source": [
        "3. Someone has attempted to censor my strings by replacing every vowel with a , lk ths. Luckily, I've been able to find the vowels that were removed.\n",
        "Given a censored string and a string of the censored vowels, return the original uncensored string.\n",
        "\n",
        "Example\n",
        "\n",
        "uncensor(\"Whr dd my vwls g?\", \"eeioeo\") ➞ \"Where did my vowels go?\"\n",
        "\n",
        "uncensor(\"abcd\", \"\") ➞ \"abcd\"\n",
        "\n",
        "uncensor(\"PPRCS\", \"UEAE\") ➞ \"UPPERCASE\""
      ],
      "metadata": {
        "id": "pwQdw_3Jc25d"
      }
    },
    {
      "cell_type": "code",
      "source": [
        "def uncensor(s,s1):\n",
        "    i = 0   \n",
        "    for letter in s:\n",
        "        if letter == '*':\n",
        "            s = s.replace('*', s1[i],1)\n",
        "            i += 1\n",
        "    return s\n",
        "print(uncensor(\"Wh*r* d*d my v*w*ls g*?\", \"eeioeo\"))\n",
        "print(uncensor(\"abcd\", \"\"))\n",
        "print(uncensor(\"*PP*RC*S*\", \"UEAE\"))"
      ],
      "metadata": {
        "colab": {
          "base_uri": "https://localhost:8080/"
        },
        "id": "b6sOGPEEb4eS",
        "outputId": "fc24c4bd-63e4-4582-b475-eaf240360be4"
      },
      "execution_count": 11,
      "outputs": [
        {
          "output_type": "stream",
          "name": "stdout",
          "text": [
            "Where did my vowels go?\n",
            "abcd\n",
            "UPPERCASE\n"
          ]
        }
      ]
    },
    {
      "cell_type": "markdown",
      "source": [
        "4. Write a function that takes an IP address and returns the domain name using PTR DNS records.\n",
        "Example\n",
        "get_domain(\"8.8.8.8\") ➞ \"dns.google\"\n",
        "get_domain(\"8.8.4.4\") ➞ \"dns.google\""
      ],
      "metadata": {
        "id": "XwXMgftgdMal"
      }
    },
    {
      "cell_type": "code",
      "source": [
        "import socket\n",
        "\n",
        "def get_domain(ip_address):\n",
        "    return socket.gethostbyaddr(ip_address)[0]\n",
        "print(get_domain(\"8.8.8.8\"))\n",
        "print(get_domain(\"8.8.4.4\"))"
      ],
      "metadata": {
        "colab": {
          "base_uri": "https://localhost:8080/"
        },
        "id": "bDtaUtJBdKw4",
        "outputId": "7a6ad44c-9ee6-44c5-9a1f-a738fa8a3866"
      },
      "execution_count": 13,
      "outputs": [
        {
          "output_type": "stream",
          "name": "stdout",
          "text": [
            "dns.google\n",
            "dns.google\n"
          ]
        }
      ]
    },
    {
      "cell_type": "markdown",
      "source": [
        "5. Create a function that takes an integer n and returns the factorial of factorials. See below examples for a better understanding:\n",
        "\n",
        "Examples\n",
        "\n",
        "fact_of_fact(4) ➞ 288\n",
        "4! 3! 2! * 1! = 288\n",
        "\n",
        "fact_of_fact(5) ➞ 34560\n",
        "\n",
        "fact_of_fact(6) ➞ 24883200"
      ],
      "metadata": {
        "id": "jeCyvKx9ddRQ"
      }
    },
    {
      "cell_type": "code",
      "source": [
        "def fact(n):\n",
        "    if n == 0 or n == 1:\n",
        "        return 1  \n",
        "    else:\n",
        "        return n * fact(n-1) \n",
        "def fact_of_fact(n):\n",
        "    result = 1\n",
        "    while n > 1:\n",
        "        result *= fact(n)\n",
        "        n -= 1\n",
        "    return result   \n",
        "print(fact_of_fact(4)) \n",
        "print(fact_of_fact(5))\n",
        "print(fact_of_fact(6))"
      ],
      "metadata": {
        "colab": {
          "base_uri": "https://localhost:8080/"
        },
        "id": "N3LLc4AxdZ6W",
        "outputId": "6f78683a-c831-4603-b6aa-26202c1776ac"
      },
      "execution_count": 14,
      "outputs": [
        {
          "output_type": "stream",
          "name": "stdout",
          "text": [
            "288\n",
            "34560\n",
            "24883200\n"
          ]
        }
      ]
    }
  ]
}