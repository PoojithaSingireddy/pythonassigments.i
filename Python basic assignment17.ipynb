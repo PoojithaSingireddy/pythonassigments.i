{
  "nbformat": 4,
  "nbformat_minor": 0,
  "metadata": {
    "colab": {
      "name": "Python basic assignment17.ipynb",
      "provenance": [],
      "collapsed_sections": []
    },
    "kernelspec": {
      "name": "python3",
      "display_name": "Python 3"
    },
    "language_info": {
      "name": "python"
    }
  },
  "cells": [
    {
      "cell_type": "markdown",
      "source": [
        "1. Assign the value 7 to the variable guess_me. Then, write the conditional tests (if, else, and elif) to\n",
        "print the string &#39;too low&#39; if guess_me is less than 7, &#39;too high&#39; if greater than 7, and &#39;just right&#39; if equal\n",
        "to 7."
      ],
      "metadata": {
        "id": "QnfLqjAKIRen"
      }
    },
    {
      "cell_type": "code",
      "execution_count": 1,
      "metadata": {
        "colab": {
          "base_uri": "https://localhost:8080/"
        },
        "id": "CweMtf8FIPJ_",
        "outputId": "acad2f55-c4ca-4717-e7af-7894b3618de9"
      },
      "outputs": [
        {
          "output_type": "stream",
          "name": "stdout",
          "text": [
            "just right\n"
          ]
        }
      ],
      "source": [
        "guess_me = 7\n",
        "if guess_me < 7:\n",
        "    print('too low')\n",
        "elif guess_me > 7:\n",
        "    print('too high')\n",
        "else:\n",
        "    print('just right')"
      ]
    },
    {
      "cell_type": "markdown",
      "source": [
        "2. Assign the value 7 to the variable guess_me and the value 1 to the variable start. Write a while loop that compares start with guess_me. Print too low if start is less than guess me. If start equals guess_me, print 'found it!' and exit the loop. If start is greater than guess_me, print 'oops' and exit the loop. Increment start at the end of the loop"
      ],
      "metadata": {
        "id": "oltj822mJXyF"
      }
    },
    {
      "cell_type": "code",
      "source": [
        "guess_me = 7\n",
        "start = 1\n",
        "while True:\n",
        "    if start < guess_me:\n",
        "        print('too low')\n",
        "    elif start == guess_me:\n",
        "        print('found it!')\n",
        "        break\n",
        "    elif start > guess_me:\n",
        "        print('oops')\n",
        "        break\n",
        "    start += 1"
      ],
      "metadata": {
        "colab": {
          "base_uri": "https://localhost:8080/"
        },
        "id": "FVb0UfINJSMy",
        "outputId": "b7801e78-cc2c-4352-fd51-a605b2110f07"
      },
      "execution_count": 2,
      "outputs": [
        {
          "output_type": "stream",
          "name": "stdout",
          "text": [
            "too low\n",
            "too low\n",
            "too low\n",
            "too low\n",
            "too low\n",
            "too low\n",
            "found it!\n"
          ]
        }
      ]
    },
    {
      "cell_type": "markdown",
      "source": [
        "3. Print the following values of the list [3, 2, 1, 0] using a for loop."
      ],
      "metadata": {
        "id": "LbIHiia0JnKg"
      }
    },
    {
      "cell_type": "code",
      "source": [
        "for i in [3, 2, 1, 0]:\n",
        "        print(i)"
      ],
      "metadata": {
        "colab": {
          "base_uri": "https://localhost:8080/"
        },
        "id": "KGtgOFIkJlzl",
        "outputId": "d8481b02-fe61-4d7f-f881-9bdfa5ab79bb"
      },
      "execution_count": 3,
      "outputs": [
        {
          "output_type": "stream",
          "name": "stdout",
          "text": [
            "3\n",
            "2\n",
            "1\n",
            "0\n"
          ]
        }
      ]
    },
    {
      "cell_type": "markdown",
      "source": [
        "4. Use a list comprehension to make a list of the even numbers in range(10)"
      ],
      "metadata": {
        "id": "KjWuPlhsJ3az"
      }
    },
    {
      "cell_type": "code",
      "source": [
        "even = [n for n in range(10) if n % 2 == 0]\n",
        "print(even)"
      ],
      "metadata": {
        "colab": {
          "base_uri": "https://localhost:8080/"
        },
        "id": "tgBRI_2-Juqe",
        "outputId": "31a762cc-4ee8-4b7b-ff7c-926577f0b375"
      },
      "execution_count": 4,
      "outputs": [
        {
          "output_type": "stream",
          "name": "stdout",
          "text": [
            "[0, 2, 4, 6, 8]\n"
          ]
        }
      ]
    },
    {
      "cell_type": "markdown",
      "source": [
        "5. Use a dictionary comprehension to create the dictionary squares. Use range(10) to return the\n",
        "keys, and use the square of each key as its value."
      ],
      "metadata": {
        "id": "mOc3iI8bKcTS"
      }
    },
    {
      "cell_type": "code",
      "source": [
        "squares = {key: key*key for key in range(10)}\n",
        "print(squares)"
      ],
      "metadata": {
        "colab": {
          "base_uri": "https://localhost:8080/"
        },
        "id": "M2c0XjcHKbSe",
        "outputId": "a01bdacc-dad7-461c-d27d-e55e18d1ded3"
      },
      "execution_count": 5,
      "outputs": [
        {
          "output_type": "stream",
          "name": "stdout",
          "text": [
            "{0: 0, 1: 1, 2: 4, 3: 9, 4: 16, 5: 25, 6: 36, 7: 49, 8: 64, 9: 81}\n"
          ]
        }
      ]
    },
    {
      "cell_type": "markdown",
      "source": [
        "6. Construct the set odd from the odd numbers in the range using a set comprehension (10).\n"
      ],
      "metadata": {
        "id": "XqPA1i68KrQH"
      }
    },
    {
      "cell_type": "code",
      "source": [
        "odd = {n for n in range(10) if n % 2 == 1}\n",
        "print(odd)"
      ],
      "metadata": {
        "colab": {
          "base_uri": "https://localhost:8080/"
        },
        "id": "-7gcBGotKpcj",
        "outputId": "79fc916c-75e3-4a7e-bcb9-30cd223156ca"
      },
      "execution_count": 6,
      "outputs": [
        {
          "output_type": "stream",
          "name": "stdout",
          "text": [
            "{1, 3, 5, 7, 9}\n"
          ]
        }
      ]
    },
    {
      "cell_type": "markdown",
      "source": [
        "7. Use a generator comprehension to return the string 'Got ' and a number for the numbers in range(10). Iterate through this by using a for loop."
      ],
      "metadata": {
        "id": "nqnR6w8jLSu_"
      }
    },
    {
      "cell_type": "code",
      "source": [
        "for i in ('Got %s' % num for num in range(10)):\n",
        "        print(i)"
      ],
      "metadata": {
        "colab": {
          "base_uri": "https://localhost:8080/"
        },
        "id": "eRH_e8_aLRB7",
        "outputId": "eda32edb-780d-410d-f6c0-cda2bb5f3511"
      },
      "execution_count": 7,
      "outputs": [
        {
          "output_type": "stream",
          "name": "stdout",
          "text": [
            "Got 0\n",
            "Got 1\n",
            "Got 2\n",
            "Got 3\n",
            "Got 4\n",
            "Got 5\n",
            "Got 6\n",
            "Got 7\n",
            "Got 8\n",
            "Got 9\n"
          ]
        }
      ]
    },
    {
      "cell_type": "markdown",
      "source": [
        "8. Define a function called good that returns the list ['Harry', 'Ron', 'Hermione']."
      ],
      "metadata": {
        "id": "yF0MlrpFLrle"
      }
    },
    {
      "cell_type": "code",
      "source": [
        "def fun():\n",
        "        return ['Harry', 'Ron', 'Hermione']\n",
        "fun()"
      ],
      "metadata": {
        "colab": {
          "base_uri": "https://localhost:8080/"
        },
        "id": "pKES3vcoLqBR",
        "outputId": "a8da2010-7eff-450c-a72b-b27bae40b80b"
      },
      "execution_count": 8,
      "outputs": [
        {
          "output_type": "execute_result",
          "data": {
            "text/plain": [
              "['Harry', 'Ron', 'Hermione']"
            ]
          },
          "metadata": {},
          "execution_count": 8
        }
      ]
    },
    {
      "cell_type": "markdown",
      "source": [
        "9. Define a generator function called get_odds that returns the odd numbers from range(10). Use a for loop to find and print the third value returned."
      ],
      "metadata": {
        "id": "BG6dZSTuMBTG"
      }
    },
    {
      "cell_type": "code",
      "source": [
        "def get_odds():\n",
        "        for num in range(1, 10, 2):\n",
        "            yield num\n",
        "cou = 1\n",
        "for num in get_odds():\n",
        "    if cou == 3:\n",
        "        print(\"Third odd number=\", num)\n",
        "        break\n",
        "    cou += 1"
      ],
      "metadata": {
        "colab": {
          "base_uri": "https://localhost:8080/"
        },
        "id": "kjd_3-ScL_Lf",
        "outputId": "52e667bf-e792-4b3a-a3ab-16bef16f595f"
      },
      "execution_count": 10,
      "outputs": [
        {
          "output_type": "stream",
          "name": "stdout",
          "text": [
            "Third odd number= 5\n"
          ]
        }
      ]
    },
    {
      "cell_type": "markdown",
      "source": [
        "10. Define an exception called OopsException. Raise this exception to see what happens. Then write the code to catch this exception and print 'Caught an oops'."
      ],
      "metadata": {
        "id": "QaYlDILoMaaL"
      }
    },
    {
      "cell_type": "code",
      "source": [
        "class OopsException(Exception):\n",
        "        pass"
      ],
      "metadata": {
        "id": "IYsXXUsOMTRy"
      },
      "execution_count": 11,
      "outputs": []
    },
    {
      "cell_type": "code",
      "source": [
        " raise OopsException()"
      ],
      "metadata": {
        "colab": {
          "base_uri": "https://localhost:8080/",
          "height": 165
        },
        "id": "QWni3NrsMl5s",
        "outputId": "8195b8fc-95ba-492c-8394-56db5b6d7c75"
      },
      "execution_count": 12,
      "outputs": [
        {
          "output_type": "error",
          "ename": "OopsException",
          "evalue": "ignored",
          "traceback": [
            "\u001b[0;31m---------------------------------------------------------------------------\u001b[0m",
            "\u001b[0;31mOopsException\u001b[0m                             Traceback (most recent call last)",
            "\u001b[0;32m<ipython-input-12-98de36d5bd4f>\u001b[0m in \u001b[0;36m<module>\u001b[0;34m()\u001b[0m\n\u001b[0;32m----> 1\u001b[0;31m \u001b[0;32mraise\u001b[0m \u001b[0mOopsException\u001b[0m\u001b[0;34m(\u001b[0m\u001b[0;34m)\u001b[0m\u001b[0;34m\u001b[0m\u001b[0;34m\u001b[0m\u001b[0m\n\u001b[0m",
            "\u001b[0;31mOopsException\u001b[0m: "
          ]
        }
      ]
    },
    {
      "cell_type": "code",
      "source": [
        "try:\n",
        "    raise OopsException\n",
        "except OopsException:\n",
        "    print('Caught an oops')"
      ],
      "metadata": {
        "colab": {
          "base_uri": "https://localhost:8080/"
        },
        "id": "hzdijlxFMpV7",
        "outputId": "f46f3e29-3935-4780-d099-39944df6fa57"
      },
      "execution_count": 13,
      "outputs": [
        {
          "output_type": "stream",
          "name": "stdout",
          "text": [
            "Caught an oops\n"
          ]
        }
      ]
    },
    {
      "cell_type": "markdown",
      "source": [
        "11. Use zip() to make a dictionary called movies that pairs these lists: titles = ['Creature of Habit', 'Crewel Fate'] and plots = ['A nun turns into a monster', 'A haunted yarn shop']."
      ],
      "metadata": {
        "id": "HVe21TBpMwyS"
      }
    },
    {
      "cell_type": "code",
      "source": [
        "titles = ['Creature of Habit', 'Crewel Fate']\n",
        "plots = ['A nun turns into a monster', 'A haunted yarn shop']\n",
        "movies = dict(zip(titles, plots))\n",
        "movies"
      ],
      "metadata": {
        "colab": {
          "base_uri": "https://localhost:8080/"
        },
        "id": "FkzdS2VUMuCE",
        "outputId": "263fcd8a-2b3e-47e0-d06d-7e1f68863725"
      },
      "execution_count": 14,
      "outputs": [
        {
          "output_type": "execute_result",
          "data": {
            "text/plain": [
              "{'Creature of Habit': 'A nun turns into a monster',\n",
              " 'Crewel Fate': 'A haunted yarn shop'}"
            ]
          },
          "metadata": {},
          "execution_count": 14
        }
      ]
    },
    {
      "cell_type": "code",
      "source": [
        ""
      ],
      "metadata": {
        "id": "swFvfHI5NDIc"
      },
      "execution_count": null,
      "outputs": []
    }
  ]
}