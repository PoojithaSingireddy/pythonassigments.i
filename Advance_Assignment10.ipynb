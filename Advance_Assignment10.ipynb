{
  "nbformat": 4,
  "nbformat_minor": 0,
  "metadata": {
    "colab": {
      "name": "Advance Assignment10.ipynb",
      "provenance": [],
      "collapsed_sections": []
    },
    "kernelspec": {
      "name": "python3",
      "display_name": "Python 3"
    },
    "language_info": {
      "name": "python"
    }
  },
  "cells": [
    {
      "cell_type": "markdown",
      "source": [
        "1. Create a function that takes the width, height and character and returns a picture frame as a 2D list.\n",
        "\n",
        "Examples\n",
        "\n",
        "get_frame(4, 5, \"#\") ➞ [ [\"####\"], [\"# #\"], [\"# #\"], [\"# #\"], [\"####\"] ]\n",
        "\n",
        "Frame is 4 characters wide and 5 characters tall.\n",
        "get_frame(10, 3, \"\") ➞ [ [\"**\"], [\" *\"], [\"**\"] ]\n",
        "\n",
        "Frame is 10 characters and wide and 3 characters tall.\n",
        "get_frame(2, 5, \"0\") ➞ \"invalid\"\n",
        "\n",
        "Frame's width is not more than 2."
      ],
      "metadata": {
        "id": "mVVBAbz1yHNs"
      }
    },
    {
      "cell_type": "code",
      "execution_count": 1,
      "metadata": {
        "colab": {
          "base_uri": "https://localhost:8080/"
        },
        "id": "2CT4-ULCyDCn",
        "outputId": "537ced49-c755-47d8-9641-71820808aa58"
      },
      "outputs": [
        {
          "output_type": "stream",
          "name": "stdout",
          "text": [
            "[['####'], ['#  #'], ['#  #'], ['#  #'], ['####']]\n",
            "[['**********'], ['*        *'], ['**********']]\n",
            "[['++++++'], ['+    +'], ['+    +'], ['+    +'], ['+    +'], ['+    +'], ['++++++']]\n",
            "Invalid\n"
          ]
        }
      ],
      "source": [
        "def get_frame(w,t,char):\n",
        "    l = []\n",
        "    if w > 2:\n",
        "        for i in range(t):\n",
        "            l1 = []\n",
        "            if i == 0 or i == t-1:\n",
        "                l1.append(char*w)\n",
        "            else:\n",
        "                pattern = char + ' ' * (w-2) + char\n",
        "                l1.append(pattern)\n",
        "            l.append(l1)                \n",
        "        return l\n",
        "    else:\n",
        "        return 'Invalid'          \n",
        "print(get_frame(4,5,'#')) \n",
        "print(get_frame(10,3,'*'))\n",
        "print(get_frame(6,7,'+'))\n",
        "print(get_frame(2,5,'0'))"
      ]
    },
    {
      "cell_type": "markdown",
      "source": [
        "2. Write three functions:\n",
        "boolean_and\n",
        "boolean_or\n",
        "boolean_xor These functions should evaluate a list of True and False values, starting from the leftmost element and evaluating pairwise.\n",
        "Examples\n",
        "\n",
        "boolean_and([True, True, False, True]) ➞ False\n",
        "\n",
        "[True, True, False, True] => [True, False, True] => [False, True] => False\n",
        "boolean_or([True, True, False, False]) ➞ True\n",
        "\n",
        "[True, True, False, True] => [True, False, False] => [True, False] => True\n",
        "boolean_xor([True, True, False, False]) ➞ False\n",
        "\n",
        "[True, True, False, False] => [False, False, False] => [False, False] => False"
      ],
      "metadata": {
        "id": "nKQ0R6Hh2bt7"
      }
    },
    {
      "cell_type": "code",
      "source": [
        "def boolean_and(l):\n",
        "    res = True\n",
        "    i = 0\n",
        "    while i < len(l):\n",
        "        res = res and l[i]\n",
        "        l.pop(i)\n",
        "        l[0] = res\n",
        "        length = len(l)\n",
        "        i += 1\n",
        "    return l[0] and l[1]\n",
        "def boolean_or(l):\n",
        "    res = False\n",
        "    i = 0\n",
        "    while i < len(l):\n",
        "        res = res or l[i]\n",
        "        l.pop(i)\n",
        "        l[0] = res\n",
        "        length = len(l)\n",
        "        i += 1\n",
        "    return l[0] or l[1]\n",
        "def boolean_xor(l):\n",
        "    res = True\n",
        "    i = 0\n",
        "    while i < len(l):\n",
        "        res = res ^ l[i]\n",
        "        l.pop(i)\n",
        "        l[0] = res\n",
        "        length = len(l)\n",
        "        i += 1\n",
        "    return l[0] ^ l[1]\n",
        "print(boolean_and([False, True, False, True]) )        \n",
        "print(boolean_or([True, True, False, False])) \n",
        "print(boolean_xor([True, True, False, False]))"
      ],
      "metadata": {
        "colab": {
          "base_uri": "https://localhost:8080/"
        },
        "id": "MgIJvT7FyVHz",
        "outputId": "3b511b18-16cb-46e9-f785-24b64d43d61f"
      },
      "execution_count": 2,
      "outputs": [
        {
          "output_type": "stream",
          "name": "stdout",
          "text": [
            "False\n",
            "True\n",
            "False\n"
          ]
        }
      ]
    },
    {
      "cell_type": "markdown",
      "source": [
        "3. Create a function that creates a box based on dimension n.\n",
        "\n",
        "Examples\n",
        "\n",
        "make_box(5) ➞ [ \"#####\", \"# #\", \"# #\", \"# #\", \"#####\" ]\n",
        "\n",
        "make_box(3) ➞ [ \"###\", \"# #\", \"###\" ]\n",
        "\n",
        "make_box(2) ➞ [ \"##\", \"##\" ]\n",
        "\n",
        "make_box(1) ➞ [ \"#\" ]"
      ],
      "metadata": {
        "id": "EFec3e0CAzEt"
      }
    },
    {
      "cell_type": "code",
      "source": [
        "def make_box(n):\n",
        "    l = []\n",
        "    for i in range(n):\n",
        "        pattern = ''\n",
        "        if i == 0 or i == n-1:\n",
        "            pattern += '#'*n\n",
        "        else:\n",
        "            pattern += '#' + ' ' * (n-2) + '#'\n",
        "        l.append(pattern)    \n",
        "    return l\n",
        "print(make_box(5))\n",
        "print(make_box(3))\n",
        "print(make_box(2))\n",
        "print(make_box(1))"
      ],
      "metadata": {
        "colab": {
          "base_uri": "https://localhost:8080/"
        },
        "id": "6qfRfxNG4_-A",
        "outputId": "633b89bd-2382-4b68-bd97-ad786bdd6d58"
      },
      "execution_count": 3,
      "outputs": [
        {
          "output_type": "stream",
          "name": "stdout",
          "text": [
            "['#####', '#   #', '#   #', '#   #', '#####']\n",
            "['###', '# #', '###']\n",
            "['##', '##']\n",
            "['#']\n"
          ]
        }
      ]
    },
    {
      "cell_type": "markdown",
      "source": [
        "4. Given a common phrase, return False if any individual word in the phrase contains duplicate letters. Return True otherwise.\n",
        "\n",
        "Examples\n",
        "\n",
        "no_duplicate_letters(\"Fortune favours the bold.\") ➞ True\n",
        "\n",
        "no_duplicate_letters(\"You can lead a horse to water, but you can't make him drink.\") ➞ True\n",
        "\n",
        "no_duplicate_letters(\"Look before you leap.\") ➞ False\n",
        "\n",
        "Duplicate letters in \"Look\" and \"before\".\n",
        "no_duplicate_letters(\"An apple a day keeps the doctor away.\") ➞ False\n",
        "\n",
        "Duplicate letters in \"apple\", \"keeps\", \"doctor\", and \"away\"."
      ],
      "metadata": {
        "id": "fK0LnsUqEmOv"
      }
    },
    {
      "cell_type": "code",
      "source": [
        "def no_duplicate_letters(s):\n",
        "    ws = s.split()\n",
        "    for w in ws:\n",
        "        for l in w:\n",
        "            if w.count(l) > 1:\n",
        "                return False\n",
        "    return True      \n",
        "print(no_duplicate_letters(\"Fortune favours the bold.\"))\n",
        "print(no_duplicate_letters(\"You can lead a horse to water, but you can't make him drink.\"))\n",
        "print(no_duplicate_letters(\"Look before you leap.\"))\n",
        "print(no_duplicate_letters(\"An apple a day keeps the doctor away.\"))"
      ],
      "metadata": {
        "colab": {
          "base_uri": "https://localhost:8080/"
        },
        "id": "sdEhjv_2EkNr",
        "outputId": "dd07b076-4f90-433c-c0de-79b72e9ae642"
      },
      "execution_count": 4,
      "outputs": [
        {
          "output_type": "stream",
          "name": "stdout",
          "text": [
            "True\n",
            "True\n",
            "False\n",
            "False\n"
          ]
        }
      ]
    },
    {
      "cell_type": "markdown",
      "source": [
        "5. Write a regular expression that will match the states that voted yes to President Trump's impeachment. You must use RegEx positive lookahead.\n",
        "\n",
        "Example\n",
        "\n",
        "txt = \"Texas = no, California = yes, Florida = yes, Michigan = no\" pattern = \"yourregularexpressionhere\"\n",
        "\n",
        "re.findall(pattern, txt) ➞ [\"California\", \"Florida\"]\n",
        "\n"
      ],
      "metadata": {
        "id": "TX4ZTvyXODEa"
      }
    },
    {
      "cell_type": "code",
      "source": [
        "import re\n",
        "\n",
        "t = \"Texas = no, California = yes, Florida = yes, Michigan = no\" \n",
        "pattern = r'[a-zA-Z]+(?= = yes)'\n",
        "res = re.findall(pattern, t)\n",
        "print(res)"
      ],
      "metadata": {
        "colab": {
          "base_uri": "https://localhost:8080/"
        },
        "id": "VOj1PZUTLLVr",
        "outputId": "be11d1f5-c6d4-4898-e737-bc6327b7a131"
      },
      "execution_count": 6,
      "outputs": [
        {
          "output_type": "stream",
          "name": "stdout",
          "text": [
            "['California', 'Florida']\n"
          ]
        }
      ]
    },
    {
      "cell_type": "code",
      "source": [
        ""
      ],
      "metadata": {
        "id": "xUvmzZ6DOJdA"
      },
      "execution_count": null,
      "outputs": []
    }
  ]
}