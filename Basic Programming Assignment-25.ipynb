{
  "nbformat": 4,
  "nbformat_minor": 0,
  "metadata": {
    "colab": {
      "name": "Basic Programming Assignment 25.ipynb",
      "provenance": [],
      "collapsed_sections": []
    },
    "kernelspec": {
      "name": "python3",
      "display_name": "Python 3"
    },
    "language_info": {
      "name": "python"
    }
  },
  "cells": [
    {
      "cell_type": "markdown",
      "source": [
        "Question1\n",
        "Create a function that takes three integer arguments (a, b, c) and returns the amount of\n",
        "integers which are of equal value.\n",
        "Examples\n",
        "equal(3, 4, 3) ➞ 2\n",
        "equal(1, 1, 1) ➞ 3\n",
        "equal(3, 4, 1) ➞ 0\n",
        "Notes\n",
        "Your function must return 0, 2 or 3."
      ],
      "metadata": {
        "id": "hU79otA59RDJ"
      }
    },
    {
      "cell_type": "code",
      "execution_count": 1,
      "metadata": {
        "colab": {
          "base_uri": "https://localhost:8080/"
        },
        "id": "zJnn9HRO9Iu9",
        "outputId": "9a00cff7-8f5b-4eda-f986-8bdbb4a776a1"
      },
      "outputs": [
        {
          "output_type": "stream",
          "name": "stdout",
          "text": [
            "2\n",
            "3\n",
            "0\n"
          ]
        }
      ],
      "source": [
        "def equal(a,b,c):\n",
        "    n = 0\n",
        "    if a == b and a == c :\n",
        "        n = 3\n",
        "    elif a == b or a == c :\n",
        "        n = 2\n",
        "    else:\n",
        "        n = 0\n",
        "    return n\n",
        "print(equal(3, 4, 3))\n",
        "print(equal(1, 1, 1))\n",
        "print(equal(3, 4, 1))"
      ]
    },
    {
      "cell_type": "markdown",
      "source": [
        "Question2\n",
        "Write a function that converts a dictionary into a list of keys-values tuples.\n",
        "Examples\n",
        "dict_to_list({\n",
        "'D': 1,\n",
        "'B': 2,\n",
        "'C': 3\n",
        "}) ➞ [('B', 2), ('C', 3), ('D', 1)]\n",
        "dict_to_list({\n",
        "'likes': 2,\n",
        "'dislikes': 3,\n",
        "'followers': 10\n",
        "}) ➞ [('dislikes', 3), ('followers', 10), ('likes', 2)]\n",
        "Notes\n",
        "Return the elements in the list in alphabetical order."
      ],
      "metadata": {
        "id": "akFKmIvA9sXH"
      }
    },
    {
      "cell_type": "code",
      "source": [
        "def dict_to_list(d):\n",
        "    return list(d.items())\n",
        "print(dict_to_list({\n",
        "    'D': 1,\n",
        "    'B': 2,\n",
        "    'C': 3\n",
        "    }))\n",
        "print(dict_to_list({\n",
        "    'likes': 2,\n",
        "    'dislikes': 3,\n",
        "    'followers': 10\n",
        "    }))"
      ],
      "metadata": {
        "colab": {
          "base_uri": "https://localhost:8080/"
        },
        "id": "OMi1HAE_9ntC",
        "outputId": "0ab217b4-5d6e-49b3-a73f-5b8d114bdb53"
      },
      "execution_count": 2,
      "outputs": [
        {
          "output_type": "stream",
          "name": "stdout",
          "text": [
            "[('D', 1), ('B', 2), ('C', 3)]\n",
            "[('likes', 2), ('dislikes', 3), ('followers', 10)]\n"
          ]
        }
      ]
    },
    {
      "cell_type": "markdown",
      "source": [
        "Question3\n",
        "Write a function that creates a dictionary with each (key, value) pair being the (lower case,\n",
        "upper case) versions of a letter, respectively.\n",
        "Examples\n",
        "mapping(['p', 's']) ➞ { 'p': 'P', 's': 'S' }\n",
        "\n",
        "mapping(['a', 'b', 'c']) ➞ { 'a': 'A', 'b': 'B', 'c': 'C' }\n",
        "mapping(['a', 'v', 'y', 'z']) ➞ { 'a': 'A', 'v': 'V', 'y': 'Y', 'z': 'Z' }\n",
        "Notes\n",
        "All of the letters in the input list will always be lowercase."
      ],
      "metadata": {
        "id": "P6E60W3X98EG"
      }
    },
    {
      "cell_type": "code",
      "source": [
        "def mapping(lst):\n",
        "    return {i.lower():i.upper() for i in lst}\n",
        "print(mapping(['p', 's']))\n",
        "print(mapping(['A', 'v', 'Y', 'z']))"
      ],
      "metadata": {
        "colab": {
          "base_uri": "https://localhost:8080/"
        },
        "id": "qKvdOph-96Yf",
        "outputId": "f44f0301-9cc5-4c37-d623-b67f5745c8e6"
      },
      "execution_count": 3,
      "outputs": [
        {
          "output_type": "stream",
          "name": "stdout",
          "text": [
            "{'p': 'P', 's': 'S'}\n",
            "{'a': 'A', 'v': 'V', 'y': 'Y', 'z': 'Z'}\n"
          ]
        }
      ]
    },
    {
      "cell_type": "markdown",
      "source": [
        "Question4\n",
        "Write a function, that replaces all vowels in a string with a specified vowel.\n",
        "Examples\n",
        "vow_replace('apples and bananas', 'u') ➞ 'upplus und bununus'\n",
        "vow_replace('cheese casserole', 'o') ➞ 'chooso cossorolo'\n",
        "vow_replace('stuffed jalapeno poppers', 'e') ➞ 'steffed jelepene peppers'\n",
        "Notes\n",
        "All words will be lowercase. Y is not considered a vowel."
      ],
      "metadata": {
        "id": "6nrESGFR-Pp-"
      }
    },
    {
      "cell_type": "code",
      "source": [
        "def vow_replace(s,ch):\n",
        "    vowel ='AEIOUaeiuo'\n",
        "    s1 = []\n",
        "    for i in range(len(s)):\n",
        "        if s[i] in vowel:\n",
        "            s1.append(ch)\n",
        "        else:\n",
        "            s1.append(s[i])\n",
        "    return ''.join((s1))\n",
        "print(vow_replace('apples and bananas', 'u'))\n",
        "print(vow_replace('stuffed jalapeno poppers', 'e'))"
      ],
      "metadata": {
        "colab": {
          "base_uri": "https://localhost:8080/"
        },
        "id": "zwwasvl7-OQb",
        "outputId": "9bd0f2dc-f091-4baf-f142-3a9badc70045"
      },
      "execution_count": 4,
      "outputs": [
        {
          "output_type": "stream",
          "name": "stdout",
          "text": [
            "upplus und bununus\n",
            "steffed jelepene peppers\n"
          ]
        }
      ]
    },
    {
      "cell_type": "markdown",
      "source": [
        "Question5\n",
        "Create a function that takes a string as input and capitalizes a letter if its ASCII code is even\n",
        "and returns its lower case version if its ASCII code is odd.\n",
        "Examples\n",
        "ascii_capitalize('to be or not to be!') ➞ 'To Be oR NoT To Be!'\n",
        "ascii_capitalize('THE LITTLE MERMAID') ➞ 'THe LiTTLe meRmaiD'\n",
        "ascii_capitalize('Oh what a beautiful morning.') ➞ 'oH wHaT a BeauTiFuL\n",
        "moRNiNg.'"
      ],
      "metadata": {
        "id": "RS3d7wBk-nnt"
      }
    },
    {
      "cell_type": "code",
      "source": [
        "def ascii_capitalize(s):\n",
        "    s1 = []\n",
        "    for i in range(len(s)):\n",
        "        if ord(s[i]) % 2 == 0:\n",
        "            s1.append(s[i].upper())\n",
        "        else:\n",
        "            s1.append(s[i].lower())\n",
        "    return \"\".join((s1))\n",
        "print(ascii_capitalize('to be or not to be!'))\n",
        "print(ascii_capitalize('Oh what a beautiful morning.'))"
      ],
      "metadata": {
        "colab": {
          "base_uri": "https://localhost:8080/"
        },
        "id": "m3WiHrOS-mmf",
        "outputId": "a3ed25fc-28f2-481e-87af-e85ab69cb99c"
      },
      "execution_count": 5,
      "outputs": [
        {
          "output_type": "stream",
          "name": "stdout",
          "text": [
            "To Be oR NoT To Be!\n",
            "oH wHaT a BeauTiFuL moRNiNg.\n"
          ]
        }
      ]
    },
    {
      "cell_type": "code",
      "source": [
        ""
      ],
      "metadata": {
        "id": "IMtWdWcE-3vW"
      },
      "execution_count": null,
      "outputs": []
    }
  ]
}