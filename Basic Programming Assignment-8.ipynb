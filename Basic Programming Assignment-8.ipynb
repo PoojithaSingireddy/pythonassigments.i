{
  "nbformat": 4,
  "nbformat_minor": 0,
  "metadata": {
    "colab": {
      "name": "Basic Programming Assignment-8.ipynb",
      "provenance": [],
      "collapsed_sections": []
    },
    "kernelspec": {
      "name": "python3",
      "display_name": "Python 3"
    },
    "language_info": {
      "name": "python"
    }
  },
  "cells": [
    {
      "cell_type": "markdown",
      "source": [
        "1. Write a Python Program to Add Two Matrices?"
      ],
      "metadata": {
        "id": "kRFYfiHjQ0T8"
      }
    },
    {
      "cell_type": "code",
      "execution_count": 1,
      "metadata": {
        "colab": {
          "base_uri": "https://localhost:8080/"
        },
        "id": "56Q3G6QgQthX",
        "outputId": "4c476a08-51c6-4381-86a5-0166504b6a16"
      },
      "outputs": [
        {
          "output_type": "stream",
          "name": "stdout",
          "text": [
            "The Sum of two matrix \n",
            "\n",
            "[[1 2 3]\n",
            " [4 5 6]\n",
            " [7 8 9]]  and \n",
            "\n",
            "[[2 4 6]\n",
            " [1 3 5]\n",
            " [8 4 1]]  is \n",
            "\n",
            "[[ 3  6  9]\n",
            " [ 5  8 11]\n",
            " [15 12 10]] \n"
          ]
        }
      ],
      "source": [
        "import numpy as np\n",
        "\n",
        "mat1 = np.array([[1,2,3],\n",
        "        [4,5,6],\n",
        "        [7,8,9]])\n",
        "mat2 = np.array([[2,4,6],\n",
        "        [1,3,5],\n",
        "        [8,4,1]])\n",
        "\n",
        "sumMat = np.add(mat1,mat2)\n",
        "print(\"The Sum of two matrix \\n\\n{}  and \\n\\n{}  is \\n\\n{} \".format(mat1,mat2,sumMat))"
      ]
    },
    {
      "cell_type": "markdown",
      "source": [
        "2. Write a Python Program to Multiply Two Matrices?"
      ],
      "metadata": {
        "id": "gTxvei45SFsj"
      }
    },
    {
      "cell_type": "code",
      "source": [
        "mat1 = np.array([[1,2,4],\n",
        "        [4,5,6],\n",
        "        [7,8,9]])\n",
        "mat2 = np.array([[2,3,4],\n",
        "        [5,6,7],\n",
        "        [8,9,1]])\n",
        "\n",
        "sumMat = np.dot(mat1,mat2)\n",
        "print(\"The product of two matrix \\n\\n{}  and \\n\\n{}  is \\n\\n{} \".format(mat1,mat2,sumMat))"
      ],
      "metadata": {
        "colab": {
          "base_uri": "https://localhost:8080/"
        },
        "id": "XTFYNJdQR_fQ",
        "outputId": "405feee4-b133-4d67-f98c-d374397d088d"
      },
      "execution_count": 2,
      "outputs": [
        {
          "output_type": "stream",
          "name": "stdout",
          "text": [
            "The product of two matrix \n",
            "\n",
            "[[1 2 4]\n",
            " [4 5 6]\n",
            " [7 8 9]]  and \n",
            "\n",
            "[[2 3 4]\n",
            " [5 6 7]\n",
            " [8 9 1]]  is \n",
            "\n",
            "[[ 44  51  22]\n",
            " [ 81  96  57]\n",
            " [126 150  93]] \n"
          ]
        }
      ]
    },
    {
      "cell_type": "markdown",
      "source": [
        "3. Write a Python Program to Transpose a Matrix?"
      ],
      "metadata": {
        "id": "7vbm27PeSX9m"
      }
    },
    {
      "cell_type": "code",
      "source": [
        "def initializeMatrix(n,v=0):\n",
        "    M=[]             \n",
        "    for i in range(n):\n",
        "        #stor row\n",
        "        row =[]\n",
        "        for j in range(n):\n",
        "            row.append(v)\n",
        "        M.append(row)\n",
        "    return(M)\n",
        "\n",
        "def createMatrix(n):\n",
        "    \n",
        "    M=[]             \n",
        "    print(\"Enter the element :\")\n",
        "    for i in range(n):\n",
        "        row =[]\n",
        "        for j in range(n):\n",
        "            row.append(int(input()))\n",
        "        M.append(row)\n",
        "    return(M)\n",
        "\n",
        "def printMatrix(M,n):\n",
        "    for i in range(n):\n",
        "        for j in range(n):\n",
        "            print(M[i][j], end=\" \")\n",
        "        print() \n",
        "        \n",
        "def transposeMatrix(M,n,result):\n",
        "    for i in range(n):\n",
        "        for j in range(n):\n",
        "            result[i][j]= M[j][i]\n",
        "    return result\n",
        "n=int(input(\"Enter N for N x N matrix: \"))       \n",
        "M1 = createMatrix(n)\n",
        "print(\"Display Array M1 In Matrix Form\")\n",
        "printMatrix(M1,n)\n",
        "result = initializeMatrix(n)\n",
        "result = transposeMatrix(M1,n,result)\n",
        "print(\"Transposed Matrix\")\n",
        "for r in result:\n",
        "    print(r)"
      ],
      "metadata": {
        "colab": {
          "base_uri": "https://localhost:8080/"
        },
        "id": "Bl3zG9SvSVh4",
        "outputId": "98763110-f216-4ac3-9327-96e5a0286c49"
      },
      "execution_count": 6,
      "outputs": [
        {
          "output_type": "stream",
          "name": "stdout",
          "text": [
            "Enter N for N x N matrix: 2\n",
            "Enter the element :\n",
            "1\n",
            "2\n",
            "3\n",
            "4\n",
            "Display Array M1 In Matrix Form\n",
            "1 2 \n",
            "3 4 \n",
            "Transposed Matrix\n",
            "[1, 3]\n",
            "[2, 4]\n"
          ]
        }
      ]
    },
    {
      "cell_type": "markdown",
      "source": [
        "4. Write a Python Program to Sort Words in Alphabetic Order?"
      ],
      "metadata": {
        "id": "1OvJvzGvTveT"
      }
    },
    {
      "cell_type": "code",
      "source": [
        "str = input(\"Enter string: \")\n",
        "words = str.split()\n",
        "words.sort()\n",
        "for word in words:\n",
        "    print(word)"
      ],
      "metadata": {
        "colab": {
          "base_uri": "https://localhost:8080/"
        },
        "id": "5TjQEXvMTtKc",
        "outputId": "17815ed3-03e6-444c-8a5c-e2f38f4eb47a"
      },
      "execution_count": 9,
      "outputs": [
        {
          "output_type": "stream",
          "name": "stdout",
          "text": [
            "Enter string: Python is a programming language\n",
            "Python\n",
            "a\n",
            "is\n",
            "language\n",
            "programming\n"
          ]
        }
      ]
    },
    {
      "cell_type": "markdown",
      "source": [
        "5. Write a Python Program to Remove Punctuation From a String?"
      ],
      "metadata": {
        "id": "J1QRp3FrUQEW"
      }
    },
    {
      "cell_type": "code",
      "source": [
        "punctuations = '''!()-[]{};:'\"\\,<>./?@#$%^&*_~'''\n",
        "\n",
        "str = input(\"Enter string\")\n",
        "no_punct = \"\"\n",
        "for char in str:\n",
        "    if char not in punctuations:\n",
        "        no_punct = no_punct + char\n",
        "print(no_punct)"
      ],
      "metadata": {
        "colab": {
          "base_uri": "https://localhost:8080/"
        },
        "id": "XBBrxqzBT3zt",
        "outputId": "d5f3ff5b-0569-4bb1-ab2c-2cf82abb41ef"
      },
      "execution_count": 10,
      "outputs": [
        {
          "output_type": "stream",
          "name": "stdout",
          "text": [
            "Enter string'my' name,\n",
            "my name\n"
          ]
        }
      ]
    },
    {
      "cell_type": "code",
      "source": [
        ""
      ],
      "metadata": {
        "id": "OOlM3wLJUbPr"
      },
      "execution_count": null,
      "outputs": []
    }
  ]
}