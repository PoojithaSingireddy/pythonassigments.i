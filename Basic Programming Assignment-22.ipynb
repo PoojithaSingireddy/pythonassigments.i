{
  "nbformat": 4,
  "nbformat_minor": 0,
  "metadata": {
    "colab": {
      "name": "Basic Programming Assignment 22.ipynb",
      "provenance": [],
      "collapsed_sections": []
    },
    "kernelspec": {
      "name": "python3",
      "display_name": "Python 3"
    },
    "language_info": {
      "name": "python"
    }
  },
  "cells": [
    {
      "cell_type": "markdown",
      "source": [
        "Question1\n",
        "Create a function that takes three parameters where:\n",
        "- x is the start of the range (inclusive).\n",
        "- y is the end of the range (inclusive).\n",
        "- n is the divisor to be checked against.\n",
        "Return an ordered list with numbers in the range that are divisible by the third parameter n.\n",
        "Return an empty list if there are no numbers that are divisible by n."
      ],
      "metadata": {
        "id": "ZoQeus0O0iTD"
      }
    },
    {
      "cell_type": "code",
      "execution_count": 1,
      "metadata": {
        "colab": {
          "base_uri": "https://localhost:8080/"
        },
        "id": "jPnxF1uR0ZbF",
        "outputId": "c9bbda7d-87b8-4b2b-95df-c4f1d107675c"
      },
      "outputs": [
        {
          "output_type": "execute_result",
          "data": {
            "text/plain": [
              "[3, 6, 9]"
            ]
          },
          "metadata": {},
          "execution_count": 1
        }
      ],
      "source": [
        "def list_operation(x,y,n):\n",
        "    div = []\n",
        "    for i in range(x,y+1):\n",
        "        if i % n == 0:\n",
        "            div.append(i)\n",
        "    return div \n",
        "list_operation(1, 10, 3)"
      ]
    },
    {
      "cell_type": "markdown",
      "source": [
        "Question2\n",
        "Create a function that takes in two lists and returns True if the second list follows the first list\n",
        "by one element, and False otherwise. In other words, determine if the second list is the first\n",
        "list shifted to the right by 1."
      ],
      "metadata": {
        "id": "VRi0J9C40_U8"
      }
    },
    {
      "cell_type": "code",
      "source": [
        "def simon_says(ls1,ls2):\n",
        "    if ls1[0:len(ls1)-1] == ls2[1:len(ls2)]:\n",
        "        return True\n",
        "    return False\n",
        "simon_says([1, 2], [5, 1])"
      ],
      "metadata": {
        "colab": {
          "base_uri": "https://localhost:8080/"
        },
        "id": "5UmQbUZU04ts",
        "outputId": "3c9687f7-e8a1-4000-b8a0-5dd1ea601546"
      },
      "execution_count": 2,
      "outputs": [
        {
          "output_type": "execute_result",
          "data": {
            "text/plain": [
              "True"
            ]
          },
          "metadata": {},
          "execution_count": 2
        }
      ]
    },
    {
      "cell_type": "markdown",
      "source": [
        "Question3\n",
        "A group of friends have decided to start a secret society. The name will be the first letter of\n",
        "each of their names, sorted in alphabetical order.\n",
        "Create a function that takes in a list of names and returns the name of the secret society."
      ],
      "metadata": {
        "id": "GOSc9rV51Lp7"
      }
    },
    {
      "cell_type": "code",
      "source": [
        "def society_name(ls):\n",
        "    return ''.join([a[0] for a in sorted(ls)])\n",
        "print(society_name(['Adam', 'Sarah', 'Malcolm']))\n",
        "print(society_name(['Harry', 'Newt', 'Luna', 'Cho']))"
      ],
      "metadata": {
        "colab": {
          "base_uri": "https://localhost:8080/"
        },
        "id": "PpLM-n0T1Jpb",
        "outputId": "dea254dc-7236-4c2f-8ebb-fce641be9c91"
      },
      "execution_count": 4,
      "outputs": [
        {
          "output_type": "stream",
          "name": "stdout",
          "text": [
            "AMS\n",
            "CHLN\n"
          ]
        }
      ]
    },
    {
      "cell_type": "markdown",
      "source": [
        "Question4\n",
        "An isogram is a word that has no duplicate letters. Create a function that takes a string and\n",
        "returns either True or False depending on whether or not it's an 'isogram'."
      ],
      "metadata": {
        "id": "YQm7G9Jc1ixN"
      }
    },
    {
      "cell_type": "code",
      "source": [
        "def is_isogram(s):\n",
        "    for i in range(len(s)):\n",
        "        if s.lower().count(s[i]) > 1:\n",
        "            return False\n",
        "    else:\n",
        "        return True\n",
        "print(is_isogram('Algorism'))\n",
        "print(is_isogram('PasSword'))"
      ],
      "metadata": {
        "colab": {
          "base_uri": "https://localhost:8080/"
        },
        "id": "PK4vDKxK1YZD",
        "outputId": "2dc17d58-0e0f-4c2f-a652-e56d9b98891c"
      },
      "execution_count": 5,
      "outputs": [
        {
          "output_type": "stream",
          "name": "stdout",
          "text": [
            "True\n",
            "False\n"
          ]
        }
      ]
    },
    {
      "cell_type": "markdown",
      "source": [
        "Question5\n",
        "Create a function that takes a string and returns True or False, depending on whether the\n",
        "characters are in order or not."
      ],
      "metadata": {
        "id": "vaURrPbR1zXK"
      }
    },
    {
      "cell_type": "code",
      "source": [
        "def is_in_order(s):\n",
        "    a = len(s)\n",
        "    b = [s[i] for i in range(len(s))]\n",
        "    b.sort()\n",
        "    for i in range(a):\n",
        "        if b[i] != s[i]:\n",
        "            return False\n",
        "    return True\n",
        "print(is_in_order('abc'))\n",
        "print(is_in_order('edabit'))"
      ],
      "metadata": {
        "colab": {
          "base_uri": "https://localhost:8080/"
        },
        "id": "SfxkzEpk1wc0",
        "outputId": "7d32a292-f9b9-42fc-8e9a-d50693971a63"
      },
      "execution_count": 7,
      "outputs": [
        {
          "output_type": "stream",
          "name": "stdout",
          "text": [
            "True\n",
            "False\n"
          ]
        }
      ]
    }
  ]
}