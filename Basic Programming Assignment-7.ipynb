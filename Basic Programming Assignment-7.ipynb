{
  "nbformat": 4,
  "nbformat_minor": 0,
  "metadata": {
    "colab": {
      "name": "Basic Programming Assignment-7.ipynb",
      "provenance": [],
      "collapsed_sections": []
    },
    "kernelspec": {
      "name": "python3",
      "display_name": "Python 3"
    },
    "language_info": {
      "name": "python"
    }
  },
  "cells": [
    {
      "cell_type": "markdown",
      "source": [
        "1. Write a Python Program to find sum of array?"
      ],
      "metadata": {
        "id": "hs4hhok-OShc"
      }
    },
    {
      "cell_type": "code",
      "execution_count": 2,
      "metadata": {
        "id": "rISJ5_H1N9MS",
        "colab": {
          "base_uri": "https://localhost:8080/"
        },
        "outputId": "16b3127d-d06f-4f3d-e0a6-009806cad181"
      },
      "outputs": [
        {
          "output_type": "stream",
          "name": "stdout",
          "text": [
            "Sum= 45\n"
          ]
        }
      ],
      "source": [
        "sum =0\n",
        "lst = [1,2,3,4,5,6,7,8,9]\n",
        "for i in range(0,len(lst)):\n",
        "    sum+=lst[i]\n",
        "print(\"Sum=\",sum)"
      ]
    },
    {
      "cell_type": "markdown",
      "source": [
        "2. Write a Python Program to find largest element in an array?"
      ],
      "metadata": {
        "id": "oTFntzwYOg6j"
      }
    },
    {
      "cell_type": "code",
      "source": [
        "lst = [100,200,300,400,500,600]\n",
        "big = 0\n",
        "for i in range(0,len(lst)):\n",
        "    if big < lst[i]:\n",
        "        big = lst[i]\n",
        "        \n",
        "print(\"Largest element in the array {} is {} \".format(lst,big))"
      ],
      "metadata": {
        "colab": {
          "base_uri": "https://localhost:8080/"
        },
        "id": "XTxnfqYaObTN",
        "outputId": "46a86e21-4f5f-408f-8072-01ae67c07fa7"
      },
      "execution_count": 5,
      "outputs": [
        {
          "output_type": "stream",
          "name": "stdout",
          "text": [
            "Largest element in the array [100, 200, 300, 400, 500, 600] is 600 \n"
          ]
        }
      ]
    },
    {
      "cell_type": "markdown",
      "source": [
        "3. Write a Python Program for array rotation?\n"
      ],
      "metadata": {
        "id": "5NNfW03HO25k"
      }
    },
    {
      "cell_type": "code",
      "source": [
        "n = int(input(\"Enter the lenth of your list : \"))\n",
        "lst = []\n",
        "for i in range(n):\n",
        "    lst.append(int(input()))\n",
        "print(\"The List is \",lst)\n",
        "rotation = input(\"Enter Rotation Right/Left : \")\n",
        "nele = int(input(\"Enter the number of elements to rotate < : \"))\n",
        "if nele > n:\n",
        "    print(\"can not rotate as elements to rotate is larger then list lengh\")\n",
        "else:\n",
        "    rlst = []\n",
        "    if rotation.upper() == \"RIGHT\":\n",
        "        rlst[:] = lst[-nele:] + lst[:(n-nele)]\n",
        "        print(\"After right rotation : \",rlst)\n",
        "    elif rotation.upper() == \"LEFT\":\n",
        "        rlst[:] = lst[nele:n] + lst[:nele] \n",
        "        print(\"After Left rotation : \",rlst)\n",
        "    else:\n",
        "        print(\"Invalid\")"
      ],
      "metadata": {
        "colab": {
          "base_uri": "https://localhost:8080/"
        },
        "id": "5QEfb1qrOoOU",
        "outputId": "42fecf9f-e649-44ff-a76f-dfa0c225598a"
      },
      "execution_count": 6,
      "outputs": [
        {
          "output_type": "stream",
          "name": "stdout",
          "text": [
            "Enter the lenth of your list : 5\n",
            "1\n",
            "2\n",
            "3\n",
            "4\n",
            "5\n",
            "The List is  [1, 2, 3, 4, 5]\n",
            "Enter Rotation Right/Left : left\n",
            "Enter the number of elements to rotate < : 2\n",
            "After Left rotation :  [3, 4, 5, 1, 2]\n"
          ]
        }
      ]
    },
    {
      "cell_type": "markdown",
      "source": [
        "4. Write a Python Program to Split the array and add the first part to the end?"
      ],
      "metadata": {
        "id": "mGjD1YLTPWpW"
      }
    },
    {
      "cell_type": "code",
      "source": [
        "n = int(input(\"Enter the lenth of your list : \"))\n",
        "lst = []\n",
        "\n",
        "for i in range(n):\n",
        "    lst.append(int(input()))\n",
        "print(\"The List is \",lst)\n",
        "\n",
        "nele = int(input(\"Enter the number of elements to split < : \"))\n",
        "if nele > n:\n",
        "    print(\"can not split as elements to split is larger then list lengh\")\n",
        "else:\n",
        "    print(\"The split list is :\",lst[:nele])\n",
        "    rlst[:] = lst[nele:n] + lst[:nele]\n",
        "    print(\"The List after split and add :\", rlst)"
      ],
      "metadata": {
        "colab": {
          "base_uri": "https://localhost:8080/"
        },
        "id": "oC3n_q5rPJZZ",
        "outputId": "2ba0b475-70aa-44e3-f812-abd046469ab7"
      },
      "execution_count": 7,
      "outputs": [
        {
          "output_type": "stream",
          "name": "stdout",
          "text": [
            "Enter the lenth of your list : 5\n",
            "1\n",
            "2\n",
            "3\n",
            "4\n",
            "5\n",
            "The List is  [1, 2, 3, 4, 5]\n",
            "Enter the number of elements to split < : 2\n",
            "The split list is : [1, 2]\n",
            "The List after split and add : [3, 4, 5, 1, 2]\n"
          ]
        }
      ]
    },
    {
      "cell_type": "markdown",
      "source": [
        "5. Write a Python Program to check if given array is Monotonic?"
      ],
      "metadata": {
        "id": "_sxwSbgLPlsl"
      }
    },
    {
      "cell_type": "code",
      "source": [
        "n = int(input(\"Enter the lenth of your list : \"))\n",
        "lst = []\n",
        "\n",
        "for i in range(n):\n",
        "    lst.append(int(input()))\n",
        "print(\"The List is \",lst)\n",
        "\n",
        "if all((lst[i] <= lst[i+1] for i in range(n-1)) or (lst[i] >= lst[i+1] for i in range(n-1))):\n",
        "    print(\"Monotonic\")\n",
        "else:\n",
        "    print(\"Not Monotonic\")"
      ],
      "metadata": {
        "colab": {
          "base_uri": "https://localhost:8080/"
        },
        "id": "pGPb8J2NPcOF",
        "outputId": "6d1aa75d-a892-4939-c949-717df45c5ef4"
      },
      "execution_count": 8,
      "outputs": [
        {
          "output_type": "stream",
          "name": "stdout",
          "text": [
            "Enter the lenth of your list : 4\n",
            "1\n",
            "2\n",
            "3\n",
            "4\n",
            "The List is  [1, 2, 3, 4]\n",
            "Monotonic\n"
          ]
        }
      ]
    },
    {
      "cell_type": "code",
      "source": [
        ""
      ],
      "metadata": {
        "id": "BLpxGsGOPsG8"
      },
      "execution_count": null,
      "outputs": []
    }
  ]
}