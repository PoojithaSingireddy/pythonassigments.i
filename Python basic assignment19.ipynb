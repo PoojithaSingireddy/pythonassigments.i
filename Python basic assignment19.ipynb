{
  "nbformat": 4,
  "nbformat_minor": 0,
  "metadata": {
    "colab": {
      "name": "Python basic assignment19.ipynb",
      "provenance": [],
      "collapsed_sections": []
    },
    "kernelspec": {
      "name": "python3",
      "display_name": "Python 3"
    },
    "language_info": {
      "name": "python"
    }
  },
  "cells": [
    {
      "cell_type": "markdown",
      "source": [
        "1. Make a class called Thing with no contents and print it. Then, create an object called example\n",
        "from this class and also print it. Are the printed values the same or different?"
      ],
      "metadata": {
        "id": "FXcfEpQvXjtK"
      }
    },
    {
      "cell_type": "code",
      "execution_count": 1,
      "metadata": {
        "colab": {
          "base_uri": "https://localhost:8080/"
        },
        "id": "ta7uOUcUXPB-",
        "outputId": "c5678c98-d609-4682-c79b-ce1c21e5d220"
      },
      "outputs": [
        {
          "output_type": "stream",
          "name": "stdout",
          "text": [
            "<class '__main__.Thing'>\n",
            "<__main__.Thing object at 0x7ff47e16c450>\n"
          ]
        }
      ],
      "source": [
        "class Thing:\n",
        "    pass\n",
        "print(Thing)\n",
        "example = Thing()\n",
        "print(example)"
      ]
    },
    {
      "cell_type": "markdown",
      "source": [
        "2. Create a new class called Thing2 and add the value &#39;abc&#39; to the letters class attribute. Letters\n",
        "should be printed."
      ],
      "metadata": {
        "id": "qwpTfoOzX49w"
      }
    },
    {
      "cell_type": "code",
      "source": [
        "class Thing2:\n",
        "        letters = 'abc'\n",
        "print(Thing2.letters)"
      ],
      "metadata": {
        "colab": {
          "base_uri": "https://localhost:8080/"
        },
        "id": "vuEsfgwZXyRG",
        "outputId": "fbef60be-f384-46ff-ff0c-926d479c2a0f"
      },
      "execution_count": 2,
      "outputs": [
        {
          "output_type": "stream",
          "name": "stdout",
          "text": [
            "abc\n"
          ]
        }
      ]
    },
    {
      "cell_type": "markdown",
      "source": [
        "3. Make yet another class called, of course, Thing3. This time, assign the value 'xyz' to an instance (object) attribute called letters. Print letters. Do you need to make an object from the class to do this"
      ],
      "metadata": {
        "id": "XbxGqeODYDgY"
      }
    },
    {
      "cell_type": "code",
      "source": [
        "class Thing3:\n",
        "        def __init__(self):\n",
        "            self.letters = 'xyz'"
      ],
      "metadata": {
        "id": "SfT97pDnYCIT"
      },
      "execution_count": 3,
      "outputs": []
    },
    {
      "cell_type": "code",
      "source": [
        "print(Thing3.letters)"
      ],
      "metadata": {
        "colab": {
          "base_uri": "https://localhost:8080/",
          "height": 165
        },
        "id": "zv3eVanCYN0O",
        "outputId": "bc7328a8-9a85-485d-fc6f-19523487226e"
      },
      "execution_count": 4,
      "outputs": [
        {
          "output_type": "error",
          "ename": "AttributeError",
          "evalue": "ignored",
          "traceback": [
            "\u001b[0;31m---------------------------------------------------------------------------\u001b[0m",
            "\u001b[0;31mAttributeError\u001b[0m                            Traceback (most recent call last)",
            "\u001b[0;32m<ipython-input-4-6f5d5916809a>\u001b[0m in \u001b[0;36m<module>\u001b[0;34m()\u001b[0m\n\u001b[0;32m----> 1\u001b[0;31m \u001b[0mprint\u001b[0m\u001b[0;34m(\u001b[0m\u001b[0mThing3\u001b[0m\u001b[0;34m.\u001b[0m\u001b[0mletters\u001b[0m\u001b[0;34m)\u001b[0m\u001b[0;34m\u001b[0m\u001b[0;34m\u001b[0m\u001b[0m\n\u001b[0m",
            "\u001b[0;31mAttributeError\u001b[0m: type object 'Thing3' has no attribute 'letters'"
          ]
        }
      ]
    },
    {
      "cell_type": "code",
      "source": [
        "s= Thing3()\n",
        "print(s.letters)"
      ],
      "metadata": {
        "colab": {
          "base_uri": "https://localhost:8080/"
        },
        "id": "_PJz8xW8YQB7",
        "outputId": "9456bcef-4f7d-4375-aadd-9a1fc71df001"
      },
      "execution_count": 5,
      "outputs": [
        {
          "output_type": "stream",
          "name": "stdout",
          "text": [
            "xyz\n"
          ]
        }
      ]
    },
    {
      "cell_type": "markdown",
      "source": [
        "4. Create an Element class with the instance attributes name, symbol, and number. Create a class object with the values 'Hydrogen,' 'H,' and 1."
      ],
      "metadata": {
        "id": "q4yo_ckfYae_"
      }
    },
    {
      "cell_type": "code",
      "source": [
        "class Element:\n",
        "        def __init__(self, name, symbol, number):\n",
        "            self.name = name\n",
        "            self.symbol = symbol\n",
        "            self.number = number\n",
        "obj=Element('Hydrogen', 'H', 1)"
      ],
      "metadata": {
        "id": "GdHUeligYW2U"
      },
      "execution_count": 6,
      "outputs": []
    },
    {
      "cell_type": "markdown",
      "source": [
        "5. Make a dictionary with these keys and values: 'name': 'Hydrogen', 'symbol': 'H', 'number': 1. Then, create an object called hydrogen from class Element using this dictionary."
      ],
      "metadata": {
        "id": "rd-lI3c1YuMi"
      }
    },
    {
      "cell_type": "code",
      "source": [
        "edict = {'name': 'Hydrogen', 'symbol': 'H', 'number': 1}\n",
        "h = Element(edict['name'], edict['symbol'], edict['number'])\n",
        "h.name"
      ],
      "metadata": {
        "colab": {
          "base_uri": "https://localhost:8080/",
          "height": 35
        },
        "id": "YI8pb1kJYqmX",
        "outputId": "57e5c168-c1df-4155-a375-73804ea4cc6d"
      },
      "execution_count": 7,
      "outputs": [
        {
          "output_type": "execute_result",
          "data": {
            "application/vnd.google.colaboratory.intrinsic+json": {
              "type": "string"
            },
            "text/plain": [
              "'Hydrogen'"
            ]
          },
          "metadata": {},
          "execution_count": 7
        }
      ]
    },
    {
      "cell_type": "code",
      "source": [
        "h=Element(**edict)"
      ],
      "metadata": {
        "id": "Nf9pDDvcZFE2"
      },
      "execution_count": 8,
      "outputs": []
    },
    {
      "cell_type": "code",
      "source": [
        "h.name"
      ],
      "metadata": {
        "colab": {
          "base_uri": "https://localhost:8080/",
          "height": 35
        },
        "id": "dGtjSBV9ZLrK",
        "outputId": "031470ae-4d4c-4f3d-e2eb-646c4ae483fb"
      },
      "execution_count": 9,
      "outputs": [
        {
          "output_type": "execute_result",
          "data": {
            "application/vnd.google.colaboratory.intrinsic+json": {
              "type": "string"
            },
            "text/plain": [
              "'Hydrogen'"
            ]
          },
          "metadata": {},
          "execution_count": 9
        }
      ]
    },
    {
      "cell_type": "markdown",
      "source": [
        "6. For the Element class, define a method called dump() that prints the values of the object’s attributes (name, symbol, and number). Create the hydrogen object from this new definition and use dump() to print its attributes."
      ],
      "metadata": {
        "id": "mLo4hYMPZPo4"
      }
    },
    {
      "cell_type": "code",
      "source": [
        "class Element:\n",
        "        def __init__(self, name, symbol, number):\n",
        "            self.name = name\n",
        "            self.symbol = symbol\n",
        "            self.number = number\n",
        "        def dump(self):\n",
        "            print('name=%s, symbol=%s, number=%s' %\n",
        "                (self.name, self.symbol, self.number))\n",
        "h=Element(**edict)"
      ],
      "metadata": {
        "id": "C9cIJvw5ZN_v"
      },
      "execution_count": 10,
      "outputs": []
    },
    {
      "cell_type": "code",
      "source": [
        "h.dump()"
      ],
      "metadata": {
        "colab": {
          "base_uri": "https://localhost:8080/"
        },
        "id": "iOJJrKRpZbWu",
        "outputId": "7dd483cf-383c-44f8-8f58-8430c9c7ba75"
      },
      "execution_count": 11,
      "outputs": [
        {
          "output_type": "stream",
          "name": "stdout",
          "text": [
            "name=Hydrogen, symbol=H, number=1\n"
          ]
        }
      ]
    },
    {
      "cell_type": "markdown",
      "source": [
        "7. Call print(hydrogen). In the definition of Element, change the name of method dump to __str__,\n",
        "create a new hydrogen object, and call print(hydrogen) again."
      ],
      "metadata": {
        "id": "rRRA6PL6ZeOD"
      }
    },
    {
      "cell_type": "code",
      "source": [
        "print(h)"
      ],
      "metadata": {
        "colab": {
          "base_uri": "https://localhost:8080/"
        },
        "id": "iEn8se6ADmrM",
        "outputId": "0913cdb7-f69b-4335-ed9d-b7235187be83"
      },
      "execution_count": 13,
      "outputs": [
        {
          "output_type": "stream",
          "name": "stdout",
          "text": [
            "<__main__.Element object at 0x7ff4798c2990>\n"
          ]
        }
      ]
    },
    {
      "cell_type": "code",
      "source": [
        "class Element:\n",
        "        def __init__(self, name, symbol, number):\n",
        "            self.name = name\n",
        "            self.symbol = symbol\n",
        "            self.number = number\n",
        "        def __str__(self):\n",
        "            return ('name=%s, symbol=%s, number=%s' %\n",
        "                (self.name, self.symbol, self.number))"
      ],
      "metadata": {
        "id": "qq6N7F0rFskv"
      },
      "execution_count": 14,
      "outputs": []
    },
    {
      "cell_type": "code",
      "source": [
        "h = Element(**edict)\n",
        "print(h)"
      ],
      "metadata": {
        "colab": {
          "base_uri": "https://localhost:8080/"
        },
        "id": "zHYxdZ1lFyok",
        "outputId": "2615e56b-02f3-406c-b663-9f914bf2b17c"
      },
      "execution_count": 16,
      "outputs": [
        {
          "output_type": "stream",
          "name": "stdout",
          "text": [
            "name=Hydrogen, symbol=H, number=1\n"
          ]
        }
      ]
    },
    {
      "cell_type": "markdown",
      "source": [
        "8. Modify Element to make the attributes name, symbol, and number private. Define a getter\n",
        "property for each to return its value."
      ],
      "metadata": {
        "id": "v_TM4fCQDfd7"
      }
    },
    {
      "cell_type": "code",
      "source": [
        "class Element:\n",
        "        def __init__(self, name, symbol, number):\n",
        "            self.__name = name\n",
        "            self.__symbol = symbol\n",
        "            self.__number = number\n",
        "        @property\n",
        "        def name(self):\n",
        "            return self.__name\n",
        "        @property\n",
        "        def symbol(self):\n",
        "            return self.__symbol\n",
        "        @property\n",
        "        def number(self):\n",
        "            return self.__number"
      ],
      "metadata": {
        "id": "Rz8cQzIWZdVi"
      },
      "execution_count": 17,
      "outputs": []
    },
    {
      "cell_type": "code",
      "source": [
        "h = Element('Hydrogen', 'H', 1)"
      ],
      "metadata": {
        "id": "208k485dGzA5"
      },
      "execution_count": 18,
      "outputs": []
    },
    {
      "cell_type": "code",
      "source": [
        "print(h.name)\n",
        "print(h.symbol)\n",
        "print(h.number)"
      ],
      "metadata": {
        "colab": {
          "base_uri": "https://localhost:8080/"
        },
        "id": "iYVk6f2kIv2Z",
        "outputId": "f6fceee9-2ffe-4fb9-b0d8-9f8f075050d8"
      },
      "execution_count": 20,
      "outputs": [
        {
          "output_type": "stream",
          "name": "stdout",
          "text": [
            "Hydrogen\n",
            "H\n",
            "1\n"
          ]
        }
      ]
    },
    {
      "cell_type": "markdown",
      "source": [
        "9. Define three classes: Bear, Rabbit, and Octothorpe. For each, define only one method: eats(). This should return 'berries' (Bear), 'clover' (Rabbit), or 'campers' (Octothorpe). Create one object from each and print what it eats."
      ],
      "metadata": {
        "id": "SOH7qpvYDtoA"
      }
    },
    {
      "cell_type": "code",
      "source": [
        "class Bear:\n",
        "        def eats(self):\n",
        "            return 'berries'\n",
        "class Rabbit:\n",
        "     def eats(self):\n",
        "        return 'clover'\n",
        "class Octothorpe:\n",
        "     def eats(self):\n",
        "            return 'campers'"
      ],
      "metadata": {
        "id": "lvPfywcOE7eS"
      },
      "execution_count": 21,
      "outputs": []
    },
    {
      "cell_type": "code",
      "source": [
        "b = Bear()\n",
        "r = Rabbit()\n",
        "o = Octothorpe()\n",
        "print(b.eats())\n",
        "print(r.eats())\n",
        "print(o.eats())"
      ],
      "metadata": {
        "colab": {
          "base_uri": "https://localhost:8080/"
        },
        "id": "iJfww6rWJrom",
        "outputId": "d15a9f07-a539-481e-8fa9-bd91a95669da"
      },
      "execution_count": 22,
      "outputs": [
        {
          "output_type": "stream",
          "name": "stdout",
          "text": [
            "berries\n",
            "clover\n",
            "campers\n"
          ]
        }
      ]
    },
    {
      "cell_type": "markdown",
      "source": [
        "10. Define these classes: Laser, Claw, and SmartPhone. Each has only one method: does(). This returns 'disintegrate' (Laser), 'crush' (Claw), or 'ring' (SmartPhone). Then, define the class Robot that has one instance (object) of each of these. Define a does() method for the Robot that prints what its component objects do."
      ],
      "metadata": {
        "id": "iVbtNP6zL_pg"
      }
    },
    {
      "cell_type": "code",
      "source": [
        "class Laser:\n",
        "    def does(self):\n",
        "             return 'disintegrate'\n",
        "class Claw:\n",
        "     def does(self):\n",
        "            return 'crush'\n",
        "\n",
        "class SmartPhone:\n",
        "     def does(self):\n",
        "            return 'ring'\n",
        "\n",
        "class Robot:\n",
        "    def __init__(self):\n",
        "            self.laser = Laser()\n",
        "            self.claw = Claw()\n",
        "            self.smartphone = SmartPhone()\n",
        "    def does(self):\n",
        "            return '''I have many attachments:\n",
        "            My laser, to %s.\n",
        "            My claw, to %s.\n",
        "            My smartphone, to %s.''' % (\n",
        "            self.laser.does(),\n",
        "            self.claw.does(),\n",
        "            self.smartphone.does() )\n",
        "r = Robot()\n",
        "print(r.does())"
      ],
      "metadata": {
        "colab": {
          "base_uri": "https://localhost:8080/"
        },
        "id": "9RZZ-bqlJzxX",
        "outputId": "c247981a-9000-48f8-8fbc-7aeb54a56dda"
      },
      "execution_count": 23,
      "outputs": [
        {
          "output_type": "stream",
          "name": "stdout",
          "text": [
            "I have many attachments:\n",
            "            My laser, to disintegrate.\n",
            "            My claw, to crush.\n",
            "            My smartphone, to ring.\n"
          ]
        }
      ]
    },
    {
      "cell_type": "code",
      "source": [
        ""
      ],
      "metadata": {
        "id": "XG3JM6DkNTJr"
      },
      "execution_count": null,
      "outputs": []
    }
  ]
}