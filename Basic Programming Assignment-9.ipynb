{
  "nbformat": 4,
  "nbformat_minor": 0,
  "metadata": {
    "colab": {
      "name": "Basic Pro Assign-9.ipynb",
      "provenance": [],
      "collapsed_sections": []
    },
    "kernelspec": {
      "name": "python3",
      "display_name": "Python 3"
    },
    "language_info": {
      "name": "python"
    }
  },
  "cells": [
    {
      "cell_type": "markdown",
      "source": [
        "1. Write a Python program to check if the given number is a Disarium Number?"
      ],
      "metadata": {
        "id": "TJ42rmZ-xTB5"
      }
    },
    {
      "cell_type": "code",
      "execution_count": 2,
      "metadata": {
        "colab": {
          "base_uri": "https://localhost:8080/"
        },
        "id": "BIinWlv9xErx",
        "outputId": "8a50513f-d4d2-4b94-c69d-a4886d6ee352"
      },
      "outputs": [
        {
          "output_type": "stream",
          "name": "stdout",
          "text": [
            "Enter number:123\n",
            "123 is not Disarium\n"
          ]
        }
      ],
      "source": [
        "def isDisarium(num):\n",
        "    sum = 0\n",
        "    while(num>0):\n",
        "        cnt= len(str(num))\n",
        "        digit = num%10\n",
        "        sum= sum + digit**cnt   \n",
        "        cnt-=1\n",
        "        num = num//10\n",
        "    return sum\n",
        "num = int(input(\"Enter number:\"))\n",
        "sum = isDisarium(num)\n",
        "if sum == num:\n",
        "    print(num,\"is Disarium\")\n",
        "else:\n",
        "    print(num,\"is not Disarium\") "
      ]
    },
    {
      "cell_type": "markdown",
      "source": [
        "2. Write a Python program to print all disarium numbers between 1 to 100?"
      ],
      "metadata": {
        "id": "WLxN55S2x6rc"
      }
    },
    {
      "cell_type": "code",
      "source": [
        "def isDisarium(num):\n",
        "    sum = 0\n",
        "    while(num>0):\n",
        "        cnt= len(str(num))\n",
        "        digit = num%10\n",
        "        sum= sum + digit**cnt   \n",
        "        cnt-=1\n",
        "        num = num//10\n",
        "    return sum\n",
        "print(\"Disarium numbers between 1 to 100:\")\n",
        "disariumNums = []\n",
        "for i in range(1,101):\n",
        "    sum = 0\n",
        "    sum = isDisarium(i)\n",
        "    if sum == i:\n",
        "        disariumNums.append(i)        \n",
        "print(disariumNums)"
      ],
      "metadata": {
        "colab": {
          "base_uri": "https://localhost:8080/"
        },
        "id": "2v9Vjhkbxurt",
        "outputId": "078476a1-c2c2-4e76-9c1b-dff21e552cad"
      },
      "execution_count": 3,
      "outputs": [
        {
          "output_type": "stream",
          "name": "stdout",
          "text": [
            "Disarium numbers between 1 to 100:\n",
            "[1, 2, 3, 4, 5, 6, 7, 8, 9, 89]\n"
          ]
        }
      ]
    },
    {
      "cell_type": "markdown",
      "source": [
        "3. Write a Python program to check if the given number is Happy Number?"
      ],
      "metadata": {
        "id": "lXBRi6g6yVO-"
      }
    },
    {
      "cell_type": "code",
      "source": [
        "def isHappy(num):\n",
        "    sum = 0\n",
        "    while(num>0):\n",
        "        digit = num%10\n",
        "        sum= sum + digit**2        \n",
        "        num = num//10\n",
        "    return sum\n",
        "num = int(input(\"Enter number :\"))\n",
        "result = num\n",
        "while (result != 1 and result != 4):\n",
        "    result = isHappy(result)\n",
        "if result == 1:\n",
        "    print(num,\"is a Happy Number\")\n",
        "else:\n",
        "    print(num,\" is a not happy Number\")"
      ],
      "metadata": {
        "colab": {
          "base_uri": "https://localhost:8080/"
        },
        "id": "e_QK7XN2yTJO",
        "outputId": "fae3f790-c319-4be5-b9a7-10d52111f458"
      },
      "execution_count": 5,
      "outputs": [
        {
          "output_type": "stream",
          "name": "stdout",
          "text": [
            "Enter number :35\n",
            "35  is a not happy Number\n"
          ]
        }
      ]
    },
    {
      "cell_type": "markdown",
      "source": [
        "4. Write a Python program to print all happy numbers between 1 and 100?"
      ],
      "metadata": {
        "id": "l0Yj8-imytlG"
      }
    },
    {
      "cell_type": "code",
      "source": [
        "def isHappy(num):\n",
        "    sum = 0\n",
        "    while(num>0):\n",
        "        digit = num%10\n",
        "        sum= sum + digit**2        \n",
        "        num = num//10\n",
        "    return sum\n",
        "print(\"Happy numbers between 1 to 100\")\n",
        "result=num=i=0\n",
        "happyNums = []\n",
        "for i in range(1,101):\n",
        "    result = i\n",
        "    while (result != 1 and result != 4):\n",
        "        result = isHappy(result)    \n",
        "    if result == 1:\n",
        "        happyNums.append(i)\n",
        "print(happyNums)"
      ],
      "metadata": {
        "colab": {
          "base_uri": "https://localhost:8080/"
        },
        "id": "Up0luJrkypZz",
        "outputId": "9343b051-746c-4e15-e138-3bfb8e45b220"
      },
      "execution_count": 6,
      "outputs": [
        {
          "output_type": "stream",
          "name": "stdout",
          "text": [
            "Happy numbers between 1 to 100\n",
            "[1, 7, 10, 13, 19, 23, 28, 31, 32, 44, 49, 68, 70, 79, 82, 86, 91, 94, 97, 100]\n"
          ]
        }
      ]
    },
    {
      "cell_type": "markdown",
      "source": [
        "5. Write a Python program to determine whether the given number is a Harshad Number?"
      ],
      "metadata": {
        "id": "XKX5C8agzAmu"
      }
    },
    {
      "cell_type": "code",
      "source": [
        "def digSum(num):\n",
        "    sum = 0\n",
        "    while(num>0):\n",
        "        digit = num%10\n",
        "        sum= sum + digit       \n",
        "        num = num//10\n",
        "    return sum\n",
        "num = int(input(\"Enter number :\"))\n",
        "sum = digSum(num)\n",
        "if num % sum == 0:\n",
        "    print(num,\"is a Harshad number\")\n",
        "else:\n",
        "    print(num,\"is not a Harshad number\")"
      ],
      "metadata": {
        "colab": {
          "base_uri": "https://localhost:8080/"
        },
        "id": "pTKTya-zy-1K",
        "outputId": "60d9033b-2427-4913-aebc-5b089c7f4287"
      },
      "execution_count": 7,
      "outputs": [
        {
          "output_type": "stream",
          "name": "stdout",
          "text": [
            "Enter number :44\n",
            "44 is not a Harshad number\n"
          ]
        }
      ]
    },
    {
      "cell_type": "markdown",
      "source": [
        "6. Write a Python program to print all pronic numbers between 1 and 100?"
      ],
      "metadata": {
        "id": "8_59E_m0zUVQ"
      }
    },
    {
      "cell_type": "code",
      "source": [
        "def isPronicNum(num):\n",
        "    isPronic = False\n",
        "    for i in range(1,num+1):\n",
        "        if i*(i+1) == num:\n",
        "            isPronic = True\n",
        "            break\n",
        "    return isPronic\n",
        "print(\"Pronic numbers between 1 to 100\")\n",
        "pronicNums = []\n",
        "for i in range(1,101):\n",
        "    if isPronicNum(i):\n",
        "        pronicNums.append(i)\n",
        "print(pronicNums)"
      ],
      "metadata": {
        "colab": {
          "base_uri": "https://localhost:8080/"
        },
        "id": "MOs7g8PzzRLY",
        "outputId": "e1003055-4200-4cba-9671-f2e629a40244"
      },
      "execution_count": 8,
      "outputs": [
        {
          "output_type": "stream",
          "name": "stdout",
          "text": [
            "Pronic numbers between 1 to 100\n",
            "[2, 6, 12, 20, 30, 42, 56, 72, 90]\n"
          ]
        }
      ]
    },
    {
      "cell_type": "code",
      "source": [
        ""
      ],
      "metadata": {
        "id": "yvViW8i3ziWo"
      },
      "execution_count": null,
      "outputs": []
    }
  ]
}