{
  "nbformat": 4,
  "nbformat_minor": 0,
  "metadata": {
    "colab": {
      "name": "Basic Programming Assignment-11.ipynb",
      "provenance": [],
      "collapsed_sections": []
    },
    "kernelspec": {
      "name": "python3",
      "display_name": "Python 3"
    },
    "language_info": {
      "name": "python"
    }
  },
  "cells": [
    {
      "cell_type": "markdown",
      "source": [
        "1. Write a Python program to find words which are greater than given length k?"
      ],
      "metadata": {
        "id": "CepMvysDh6Rf"
      }
    },
    {
      "cell_type": "code",
      "execution_count": 1,
      "metadata": {
        "colab": {
          "base_uri": "https://localhost:8080/"
        },
        "id": "XqdBV9-c7Auj",
        "outputId": "a1456c5e-6ba3-493c-d9b3-7e78d2b893d8"
      },
      "outputs": [
        {
          "output_type": "stream",
          "name": "stdout",
          "text": [
            "Enter string : Python Programming language is easy\n",
            "Enter length K : 9\n",
            "\n",
            "The original string ' Python Programming language is easy '\n",
            "Words which are greater than length 9\n",
            "['Programming']\n"
          ]
        }
      ],
      "source": [
        "def BiggerLenghtK(k,str):\n",
        "    txt = str.split()\n",
        "    loWords = []\n",
        "    for i in txt:\n",
        "        if len(i) > k:\n",
        "            loWords.append(i)\n",
        "    return loWords\n",
        "str = input(\"Enter string : \")\n",
        "k = int(input(\"Enter length K : \"))\n",
        "listword = BiggerLenghtK(k,str)\n",
        "print(\"\\nThe original string ' {} '\".format(str))\n",
        "print(\"Words which are greater than length {}\".format(k))\n",
        "print(listword)"
      ]
    },
    {
      "cell_type": "markdown",
      "source": [
        "2. Write a Python program for removing i-th character from a string?"
      ],
      "metadata": {
        "id": "lzCRUgWWi139"
      }
    },
    {
      "cell_type": "code",
      "source": [
        "def remove(str, i): \n",
        "    for j in range(len(str)):\n",
        "        if j == i:\n",
        "            str = str.replace(str[i], \"\", 1)\n",
        "    return str      \n",
        "str = input(\"Enter string : \")\n",
        "i = int(input(\"Enter index : \"))      \n",
        "print(\"The new string : \", remove(str, i))"
      ],
      "metadata": {
        "colab": {
          "base_uri": "https://localhost:8080/"
        },
        "id": "B3-OavJZioe-",
        "outputId": "7d19bb3d-335b-43ee-89bc-d3aa383048f5"
      },
      "execution_count": 3,
      "outputs": [
        {
          "output_type": "stream",
          "name": "stdout",
          "text": [
            "Enter string : pythonlanguage\n",
            "Enter index : 8\n",
            "The new string :  pytholanguage\n"
          ]
        }
      ]
    },
    {
      "cell_type": "markdown",
      "source": [
        "3. Write a Python program to split and join a string?"
      ],
      "metadata": {
        "id": "RFRj2XsmjaS7"
      }
    },
    {
      "cell_type": "code",
      "source": [
        "str = \"Python Language\"\n",
        "str = str.split(\" \")  \n",
        "print(\"Spliting the string : \",str)\n",
        "str2 = \"-\".join(str)\n",
        "print(\"Joining the string : \",str2)"
      ],
      "metadata": {
        "colab": {
          "base_uri": "https://localhost:8080/"
        },
        "id": "BSJ74tGRjEum",
        "outputId": "26f2e951-e76a-4f5e-d1fa-eb65e14fe813"
      },
      "execution_count": 5,
      "outputs": [
        {
          "output_type": "stream",
          "name": "stdout",
          "text": [
            "Spliting the string :  ['Python', 'Language']\n",
            "Joining the string :  Python-Language\n"
          ]
        }
      ]
    },
    {
      "cell_type": "markdown",
      "source": [
        "4. Write a Python to check if a given string is binary string or not?"
      ],
      "metadata": {
        "id": "xceho-qTjtH3"
      }
    },
    {
      "cell_type": "code",
      "source": [
        "def isBinary(str):\n",
        "    bin = '01'\n",
        "    for i in range(len(str)):\n",
        "        if str[i] not in bin:\n",
        "            print('It is not Binary')\n",
        "            break\n",
        "    else:\n",
        "        print('It is a Binary')\n",
        "        \n",
        "str = input(\"Enter string : \")\n",
        "isBinary(str)"
      ],
      "metadata": {
        "colab": {
          "base_uri": "https://localhost:8080/"
        },
        "id": "zDkaSkbyjoCW",
        "outputId": "84f0d511-761c-47cb-eeb6-f7d25edffe76"
      },
      "execution_count": 7,
      "outputs": [
        {
          "output_type": "stream",
          "name": "stdout",
          "text": [
            "Enter string : 101011\n",
            "It is a Binary\n"
          ]
        }
      ]
    },
    {
      "cell_type": "markdown",
      "source": [
        "5. Write a Python program to find uncommon words from two Strings?"
      ],
      "metadata": {
        "id": "mHpx1FookAiZ"
      }
    },
    {
      "cell_type": "code",
      "source": [
        "def uncommon(a,b):\n",
        "    list_a = a.split()\n",
        "    list_b = b.split()\n",
        "    com =''\n",
        "    for i in list_a:\n",
        "        if i not in list_b:\n",
        "            com = com +\" \"+ i\n",
        "    for j in list_b:\n",
        "        if j not in list_a:\n",
        "            com = com +\" \"+ j\n",
        "    return com\n",
        "a = input(\"Enter the string a : \").lower()\n",
        "b = input(\"Enter the string b : \").lower()\n",
        "print(\"The list of uncommon words : \", uncommon(a,b)) "
      ],
      "metadata": {
        "colab": {
          "base_uri": "https://localhost:8080/"
        },
        "id": "HjYJZ15Fj9UB",
        "outputId": "99197d80-adee-491e-f58e-0aa5e57c96cd"
      },
      "execution_count": 10,
      "outputs": [
        {
          "output_type": "stream",
          "name": "stdout",
          "text": [
            "Enter the string a : a beautiful place\n",
            "Enter the string b : a cool nice place\n",
            "The list of uncommon words :   beautiful cool nice\n"
          ]
        }
      ]
    },
    {
      "cell_type": "markdown",
      "source": [
        "6. Write a Python to find all duplicate characters in string?"
      ],
      "metadata": {
        "id": "10pbA8mdkldU"
      }
    },
    {
      "cell_type": "code",
      "source": [
        "str = input(\"Enter string:\").lower()\n",
        "dup = []\n",
        "for i in str:\n",
        "    if str.count(i) > 1 :\n",
        "        if i not in dup:\n",
        "            dup.append(i)      \n",
        "dup"
      ],
      "metadata": {
        "colab": {
          "base_uri": "https://localhost:8080/"
        },
        "id": "h95ExSnzkU-F",
        "outputId": "99b8e511-d4a8-4368-e913-976ffbf86469"
      },
      "execution_count": 11,
      "outputs": [
        {
          "name": "stdout",
          "output_type": "stream",
          "text": [
            "Enter string:a cool place nice\n"
          ]
        },
        {
          "output_type": "execute_result",
          "data": {
            "text/plain": [
              "['a', ' ', 'c', 'o', 'l', 'e']"
            ]
          },
          "metadata": {},
          "execution_count": 11
        }
      ]
    },
    {
      "cell_type": "markdown",
      "source": [
        "7. Write a Python Program to check if a string contains any special character?"
      ],
      "metadata": {
        "id": "jap86t3BlCBy"
      }
    },
    {
      "cell_type": "code",
      "source": [
        "import string\n",
        "\n",
        "stringchar = string.punctuation\n",
        "spchar = []\n",
        "str = input(\"Enter string: \").lower()\n",
        "for i in str:\n",
        "    if i in stringchar:\n",
        "        spchar.append(i)\n",
        "if len(spchar) > 0:\n",
        "    print(\"String {} has special charecter/s : {}\".format(str,spchar))"
      ],
      "metadata": {
        "colab": {
          "base_uri": "https://localhost:8080/"
        },
        "id": "tmwiCJ-vk6w-",
        "outputId": "930579d6-739e-421c-b62f-39ac0d6eeec9"
      },
      "execution_count": 13,
      "outputs": [
        {
          "output_type": "stream",
          "name": "stdout",
          "text": [
            "Enter string: d%mlwkd@nkd$\n",
            "String d%mlwkd@nkd$ has special charecter/s : ['%', '@', '$']\n"
          ]
        }
      ]
    },
    {
      "cell_type": "code",
      "source": [
        ""
      ],
      "metadata": {
        "id": "EK5kY9x9lVHE"
      },
      "execution_count": null,
      "outputs": []
    }
  ]
}