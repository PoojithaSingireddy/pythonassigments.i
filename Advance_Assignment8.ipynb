{
  "nbformat": 4,
  "nbformat_minor": 0,
  "metadata": {
    "colab": {
      "name": "Advance Assignment8.ipynb",
      "provenance": [],
      "collapsed_sections": []
    },
    "kernelspec": {
      "name": "python3",
      "display_name": "Python 3"
    },
    "language_info": {
      "name": "python"
    }
  },
  "cells": [
    {
      "cell_type": "markdown",
      "source": [
        "1. Given a sentence as txt, return True if any two adjacent words have this property: One word ends with a vowel, while the word immediately after begins with a vowel (a e i o u).\n",
        "\n",
        "Examples\n",
        "\n",
        "vowel_links(\"a very large appliance\") ➞ True\n",
        "\n",
        "vowel_links(\"go to edabit\") ➞ True\n",
        "\n",
        "vowel_links(\"an open fire\") ➞ False\n",
        "\n",
        "vowel_links(\"a sudden applause\") ➞ False"
      ],
      "metadata": {
        "id": "CNx_3WNOrOrS"
      }
    },
    {
      "cell_type": "code",
      "execution_count": 1,
      "metadata": {
        "colab": {
          "base_uri": "https://localhost:8080/"
        },
        "id": "oXwQanorrMYY",
        "outputId": "661d7db8-aa10-4659-ff17-fefebbb66eeb"
      },
      "outputs": [
        {
          "output_type": "stream",
          "name": "stdout",
          "text": [
            "True\n",
            "True\n",
            "False\n",
            "False\n"
          ]
        }
      ],
      "source": [
        "def vowel_links(s):\n",
        "    l = s.split()\n",
        "    for i in range(len(l)-1):\n",
        "        if (l[i][-1] in [\"a\",\"i\",\"e\",\"o\",\"u\"]) and (l[i+1][0] in [\"a\",\"i\",\"e\",\"o\",\"u\"]):\n",
        "            return True\n",
        "    else:\n",
        "        return False      \n",
        "print(vowel_links(\"a very large appliance\"))\n",
        "print(vowel_links(\"go to edabit\"))\n",
        "print(vowel_links(\"an open fire\"))\n",
        "print(vowel_links(\"a sudden applause\"))"
      ]
    },
    {
      "cell_type": "markdown",
      "source": [
        "2. You are given three inputs: a string, one letter, and a second letter.\n",
        "Write a function that returns True if every instance of the first letter occurs before every instance of the second letter.\n",
        "\n",
        "Examples\n",
        "\n",
        "first_before_second(\"a rabbit jumps joyfully\", \"a\", \"j\") ➞ True\n",
        "\n",
        "Every instance of \"a\" occurs before every instance of \"j\".\n",
        "first_before_second(\"knaves knew about waterfalls\", \"k\", \"w\") ➞ True\n",
        "\n",
        "first_before_second(\"happy birthday\", \"a\", \"y\") ➞ False\n",
        "\n",
        "The \"a\" in \"birthday\" occurs after the \"y\" in \"happy\".\n",
        "first_before_second(\"precarious kangaroos\", \"k\", \"a\") ➞ False"
      ],
      "metadata": {
        "id": "tlxhnyTdtdlR"
      }
    },
    {
      "cell_type": "code",
      "source": [
        "def first_before_second(s,fletter,sletter):\n",
        "    if s.rfind(fletter) < s.find(sletter):\n",
        "        return True\n",
        "    else:\n",
        "        return False\n",
        "print(first_before_second(\"a rabbit jumps joyfully\",\"a\",\"j\"))\n",
        "print(first_before_second(\"knaves knew about waterfalls\", \"k\", \"w\"))\n",
        "print(first_before_second(\"happy birthday\", \"a\", \"y\"))\n",
        "print(first_before_second(\"precarious kangaroos\", \"k\", \"a\"))"
      ],
      "metadata": {
        "colab": {
          "base_uri": "https://localhost:8080/"
        },
        "id": "4BU7BE_yrlBC",
        "outputId": "37b19d8b-797d-4e20-b2b0-3dca2a523342"
      },
      "execution_count": 2,
      "outputs": [
        {
          "output_type": "stream",
          "name": "stdout",
          "text": [
            "True\n",
            "True\n",
            "False\n",
            "False\n"
          ]
        }
      ]
    },
    {
      "cell_type": "markdown",
      "source": [
        "3. Create a function that returns the characters from a list or string r on odd or even positions, depending on the specifier s. The specifier will be \"odd\" for items on odd positions (1, 3, 5, ...) and \"even\" for items on even positions (2, 4, 6, ...).\n",
        "\n",
        "Examples\n",
        "\n",
        "char_at_pos([2, 4, 6, 8, 10], \"even\") ➞ [4, 8]\n",
        "\n",
        "4 & 8 occupy the 2nd & 4th positions\n",
        "char_at_pos(\"EDABIT\", \"odd\") ➞ \"EAI\"\n",
        "\n",
        "\"E\", \"A\" and \"I\" occupy the 1st, 3rd and 5th positions\n",
        "char_at_pos([\"A\", \"R\", \"B\", \"I\", \"T\", \"R\", \"A\", \"R\", \"I\", \"L\", \"Y\"], \"odd\") ➞ [\"A\", \"B\", \"T\", \"A\", \"I\", \"Y\"]"
      ],
      "metadata": {
        "id": "LD8Xgav7wwBe"
      }
    },
    {
      "cell_type": "code",
      "source": [
        "def char_at_pos(l,s):\n",
        "    if s == 'even':\n",
        "        return [l[i] for i in range(len(l)) if (i+1) % 2 == 0]\n",
        "    elif s == 'odd':\n",
        "        return [l[i] for i in range(len(l)) if (i+1) % 2 != 0]\n",
        "print(char_at_pos([2, 4, 6, 8, 10], \"even\"))   \n",
        "print(char_at_pos(\"EDABIT\", \"odd\"))\n",
        "print(char_at_pos([\"A\", \"R\", \"B\", \"I\", \"T\", \"R\", \"A\", \"R\", \"I\", \"L\", \"Y\"], \"odd\"))"
      ],
      "metadata": {
        "colab": {
          "base_uri": "https://localhost:8080/"
        },
        "id": "10KSBM20uY5T",
        "outputId": "c5b91b39-a2c8-4d1e-d35f-1a6e565cd7a0"
      },
      "execution_count": 3,
      "outputs": [
        {
          "output_type": "stream",
          "name": "stdout",
          "text": [
            "[4, 8]\n",
            "['E', 'A', 'I']\n",
            "['A', 'B', 'T', 'A', 'I', 'Y']\n"
          ]
        }
      ]
    },
    {
      "cell_type": "markdown",
      "source": [
        "4. Write a function that returns the greatest common divisor of all list elements. If the greatest common divisor is 1, return 1.\n",
        "\n",
        "Examples\n",
        "\n",
        "GCD([10, 20, 40]) ➞ 10\n",
        "\n",
        "GCD([1, 2, 3, 100]) ➞ 1\n",
        "\n",
        "GCD([1024, 192, 2048, 512]) ➞ 64"
      ],
      "metadata": {
        "id": "62T0L8yByB5y"
      }
    },
    {
      "cell_type": "code",
      "source": [
        "import math \n",
        "def GCD(nums):\n",
        "    res = nums[0]\n",
        "    for i in range(1,len(nums)):\n",
        "        res = math.gcd(nums[i],res)\n",
        "    return res\n",
        "print(GCD([10, 20, 40]))\n",
        "print(GCD([1, 2, 3, 100]))\n",
        "print(GCD([1024, 192, 2048, 512]))"
      ],
      "metadata": {
        "colab": {
          "base_uri": "https://localhost:8080/"
        },
        "id": "E5R1KZNXw7ao",
        "outputId": "435619c0-de3c-48b5-ef20-f4a34af2f55e"
      },
      "execution_count": 4,
      "outputs": [
        {
          "output_type": "stream",
          "name": "stdout",
          "text": [
            "10\n",
            "1\n",
            "64\n"
          ]
        }
      ]
    },
    {
      "cell_type": "markdown",
      "source": [
        "5. A number/string is a palindrome if the digits/characters are the same when read both forward and backward. Examples include \"racecar\" and 12321. Given a positive number n, check if n or the binary representation of n is palindromic. Return the following:\n",
        "\"Decimal only.\" if only n is a palindrome.\n",
        "\"Binary only.\" if only the binary representation of n is a palindrome.\n",
        "\"Decimal and binary.\" if both are palindromes.\n",
        "\"Neither!\" if neither are palindromes.\n",
        "Examples\n",
        "\n",
        "palindrome_type(1306031) ➞ \"Decimal only.\"\n",
        "\n",
        "decimal = 1306031\n",
        "binary = \"100111110110110101111\"\n",
        "palindrome_type(427787) ➞ \"Binary only.\"\n",
        "\n",
        "decimal = 427787\n",
        "binary = \"1101000011100001011\"\n",
        "palindrome_type(313) ➞ \"Decimal and binary.\"\n",
        "\n",
        "decimal = 313\n",
        "binary = 100111001\n",
        "palindrome_type(934) ➞ \"Neither!\"\n",
        "\n",
        "decimal = 934\n",
        "binary = \"1110100110\"\n"
      ],
      "metadata": {
        "id": "UB1dmY7Z0IfS"
      }
    },
    {
      "cell_type": "code",
      "source": [
        "def palindrome_type(n):\n",
        "    type1 = '' \n",
        "    if bin(n).lstrip('0b') == bin(n).lstrip('0b')[::-1]:\n",
        "        type1 += \"Binary only\"\n",
        "    if str(n) == str(n)[::-1]:\n",
        "        type1 += \"Decimal only\"\n",
        "    \n",
        "    if type1 == \"Binary onlyDecimal only\":\n",
        "        return  \"Decimal and binary.\"\n",
        "    elif type1 == '':\n",
        "        return \"Neither!\"\n",
        "    else:\n",
        "        return type1  \n",
        "print(palindrome_type(1306031))\n",
        "print(palindrome_type(427787))\n",
        "print(palindrome_type(313))\n",
        "print(palindrome_type(934))"
      ],
      "metadata": {
        "colab": {
          "base_uri": "https://localhost:8080/"
        },
        "id": "hIYkbNB6y96x",
        "outputId": "c8d4d6da-4818-452c-b89c-e76b31c67f91"
      },
      "execution_count": 5,
      "outputs": [
        {
          "output_type": "stream",
          "name": "stdout",
          "text": [
            "Decimal only\n",
            "Binary only\n",
            "Decimal and binary.\n",
            "Neither!\n"
          ]
        }
      ]
    },
    {
      "cell_type": "code",
      "source": [
        ""
      ],
      "metadata": {
        "id": "LT1oF7RB0NR1"
      },
      "execution_count": null,
      "outputs": []
    }
  ]
}