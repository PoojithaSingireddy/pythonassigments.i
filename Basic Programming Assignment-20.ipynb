{
  "nbformat": 4,
  "nbformat_minor": 0,
  "metadata": {
    "colab": {
      "name": "Basic Programming Assignment-20.ipynb",
      "provenance": [],
      "collapsed_sections": []
    },
    "kernelspec": {
      "name": "python3",
      "display_name": "Python 3"
    },
    "language_info": {
      "name": "python"
    }
  },
  "cells": [
    {
      "cell_type": "markdown",
      "source": [
        "Question1\n",
        "Create a function that takes a list of strings and integers, and filters out the list so that it\n",
        "returns a list of integers only."
      ],
      "metadata": {
        "id": "4W7aXAf0GKWK"
      }
    },
    {
      "cell_type": "code",
      "execution_count": 2,
      "metadata": {
        "colab": {
          "base_uri": "https://localhost:8080/"
        },
        "id": "hNM_hDVRGGi3",
        "outputId": "0ad50017-894c-4bc1-8c6f-ec3b1ff8c42d"
      },
      "outputs": [
        {
          "output_type": "execute_result",
          "data": {
            "text/plain": [
              "[0, 1729]"
            ]
          },
          "metadata": {},
          "execution_count": 2
        }
      ],
      "source": [
        "def filter_list(lst):\n",
        "    iLst = []\n",
        "    for i in lst:\n",
        "        if type(i) == int:\n",
        "            iLst.append(i)\n",
        "    return iLst\n",
        "filter_list(['A', 0, 'Edabit', 1729, 'Python', '1729'])"
      ]
    },
    {
      "cell_type": "markdown",
      "source": [
        "Question2\n",
        "Given a list of numbers, create a function which returns the list but with each element's\n",
        "index in the list added to itself. This means you add 0 to the number at index 0, add 1 to the\n",
        "number at index 1, etc.."
      ],
      "metadata": {
        "id": "xrSvRosAG4Qd"
      }
    },
    {
      "cell_type": "code",
      "source": [
        "def aind(lst):\n",
        "    ind = 0\n",
        "    index = []\n",
        "    for i in lst:\n",
        "        index.append(lst.index(i,ind) + i)\n",
        "        ind+=1\n",
        "    return index\n",
        "aind([0, 0, 0, 0, 0])"
      ],
      "metadata": {
        "colab": {
          "base_uri": "https://localhost:8080/"
        },
        "id": "Gxz5nN4RGnJ5",
        "outputId": "8c4728c3-c6ba-4dce-903f-e28b7584d937"
      },
      "execution_count": 3,
      "outputs": [
        {
          "output_type": "execute_result",
          "data": {
            "text/plain": [
              "[0, 1, 2, 3, 4]"
            ]
          },
          "metadata": {},
          "execution_count": 3
        }
      ]
    },
    {
      "cell_type": "markdown",
      "source": [
        "Question3\n",
        "Create a function that takes the height and radius of a cone as arguments and returns the\n",
        "volume of the cone rounded to the nearest hundredth. See the resources tab for the formula."
      ],
      "metadata": {
        "id": "_-SQGvS5HMZP"
      }
    },
    {
      "cell_type": "code",
      "source": [
        "import math\n",
        "pi = math.pi\n",
        "def cvolume(r, h):\n",
        "    return round((1 / 3) * pi * r * r * h)\n",
        "radius = float(input(\"Enter radius:\"))\n",
        "height = float(input(\"Enter height:\"))\n",
        "print( \"Volume Of Cone : \", cvolume(radius, height) )"
      ],
      "metadata": {
        "colab": {
          "base_uri": "https://localhost:8080/"
        },
        "id": "FO7K8zQUHK60",
        "outputId": "6b402d2e-4b6f-42f4-c1d9-f69147e38742"
      },
      "execution_count": 4,
      "outputs": [
        {
          "output_type": "stream",
          "name": "stdout",
          "text": [
            "Enter radius:15\n",
            "Enter height:6\n",
            "Volume Of Cone :  1414\n"
          ]
        }
      ]
    },
    {
      "cell_type": "markdown",
      "source": [
        "Question4\n",
        "This Triangular Number Sequence is generated from a pattern of dots that form a triangle.\n",
        "The first 5 numbers of the sequence, or dots, are:\n",
        "1, 3, 6, 10, 15\n",
        "This means that the first triangle has just one dot, the second one has three dots, the third one\n",
        "has 6 dots and so on.\n",
        "Write a function that gives the number of dots with its corresponding triangle number of the\n",
        "sequence.\n",
        "Examples\n",
        "triangle(1) ➞ 1\n",
        "triangle(6) ➞ 21\n",
        "triangle(215) ➞ 23220\n",
        "A Rule\n",
        "We can make a \"Rule\" so we can calculate any triangular number.\n",
        "\n",
        "First, rearrange the dots like this:\n",
        "\n",
        "triangular numbers 1 to 5\n",
        "\n",
        "Then double the number of dots, and form them into a rectangle:\n",
        "\n",
        "triangular numbers when doubled become n by n+1 rectangles\n",
        "\n",
        "Now it is easy to work out how many dots: just multiply n by n+1\n",
        "\n",
        "Dots in rectangle = n(n+1)\n",
        "\n",
        "But remember we doubled the number of dots, so\n",
        "\n",
        "Dots in triangle = n(n+1)/2\n",
        "\n",
        "We can use xn to mean \"dots in triangle n\", so we get the rule:\n",
        "\n",
        "Rule: xn = n(n+1)/2"
      ],
      "metadata": {
        "id": "FwTJrFyHHo4C"
      }
    },
    {
      "cell_type": "code",
      "source": [
        "def tri(n):\n",
        "    return n*(n+1)*0.5\n",
        "t = int(input('Entertrinalge number :'))\n",
        "print(\"The {} triangle has {} dots \".format(t,int(tri(t))))"
      ],
      "metadata": {
        "colab": {
          "base_uri": "https://localhost:8080/"
        },
        "id": "THimfYjlHkuK",
        "outputId": "534cf8bb-2845-4ff4-f01d-904d4a3c84c8"
      },
      "execution_count": 7,
      "outputs": [
        {
          "output_type": "stream",
          "name": "stdout",
          "text": [
            "Entertrinalge number :123\n",
            "The 123 triangle has 7626 dots \n"
          ]
        }
      ]
    },
    {
      "cell_type": "markdown",
      "source": [
        "Question5\n",
        "Create a function that takes a list of numbers between 1 and 10 (excluding one number) and\n",
        "returns the missing number."
      ],
      "metadata": {
        "id": "hymrmlBLIIcD"
      }
    },
    {
      "cell_type": "code",
      "source": [
        "def missnum(lst):\n",
        "    tot = sum([x for x in range(11)])\n",
        "    slist = sum(lst)\n",
        "    return tot - slist\n",
        "print(missnum([1, 2, 3, 4, 6, 7, 8, 9, 10]))"
      ],
      "metadata": {
        "colab": {
          "base_uri": "https://localhost:8080/"
        },
        "id": "gKz24dySH6Sb",
        "outputId": "67548cab-a2b9-4d18-a29c-13ef671b6a9e"
      },
      "execution_count": 8,
      "outputs": [
        {
          "output_type": "stream",
          "name": "stdout",
          "text": [
            "5\n"
          ]
        }
      ]
    }
  ]
}