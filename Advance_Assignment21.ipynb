{
  "nbformat": 4,
  "nbformat_minor": 0,
  "metadata": {
    "colab": {
      "name": "Advance Assignment21.ipynb",
      "provenance": [],
      "collapsed_sections": []
    },
    "kernelspec": {
      "name": "python3",
      "display_name": "Python 3"
    },
    "language_info": {
      "name": "python"
    }
  },
  "cells": [
    {
      "cell_type": "markdown",
      "source": [
        "1. Given a sentence, return the number of words which have the same first and last letter.\n",
        "\n",
        "Examples\n",
        "\n",
        "count_same_ends(\"Pop! goes the balloon\") ➞ 1\n",
        "\n",
        "count_same_ends(\"And the crowd goes wild!\") ➞ 0\n",
        "\n",
        "count_same_ends(\"No I am not in a gang.\") ➞ 1"
      ],
      "metadata": {
        "id": "AZR_A33o6EgV"
      }
    },
    {
      "cell_type": "code",
      "execution_count": 2,
      "metadata": {
        "colab": {
          "base_uri": "https://localhost:8080/"
        },
        "id": "uRNTTL9k6BM3",
        "outputId": "56fc155e-033c-440e-f3bf-c0a45796dad8"
      },
      "outputs": [
        {
          "output_type": "stream",
          "name": "stdout",
          "text": [
            "count_same_ends(Pop! goes the balloon)➞ 1\n",
            "count_same_ends(And the crowd goes wild!) ➞ 0\n",
            "count_same_ends(No I am not in a gang.) ➞ 1\n"
          ]
        }
      ],
      "source": [
        "def oalpha(string):\n",
        "    new=\"\"\n",
        "    for i in string:\n",
        "        if i.isalpha():\n",
        "            new +=i\n",
        "    return new\n",
        "def count_same_ends(s):\n",
        "    s=s.lower()\n",
        "    s=s.split(\" \")\n",
        "    count=0\n",
        "    s=[oalpha(i) for i in s]\n",
        "    for i in s:\n",
        "        if i[0]==i[-1]:\n",
        "            if len(i) > 1:\n",
        "                count+=1\n",
        "    return count\n",
        "print(\"count_same_ends(Pop! goes the balloon)➞\",count_same_ends(\"Pop! goes the balloon\"))\n",
        "print(\"count_same_ends(And the crowd goes wild!) ➞\",count_same_ends(\"And the crowd goes wild!\"))\n",
        "print(\"count_same_ends(No I am not in a gang.) ➞\",count_same_ends(\"No I am not in a gang.\"))"
      ]
    },
    {
      "cell_type": "markdown",
      "source": [
        "2. The Atbash cipher is an encryption method in which each letter of a word is replaced with its \"mirror\" letter in the alphabet: A <=> Z; B <=> Y; C <=> X; etc. Create a function that takes a string and applies the Atbash cipher to it.\n",
        "\n",
        "Examples\n",
        "\n",
        "atbash(\"apple\") ➞ \"zkkov\"\n",
        "\n",
        "atbash(\"Hello world!\") ➞ \"Svool dliow!\"\n",
        "\n",
        "atbash(\"Christmas is the 25th of December\") ➞ \"Xsirhgnzh rh gsv 25gs lu Wvxvnyvi\"\n"
      ],
      "metadata": {
        "id": "20ub4mky9I2Z"
      }
    },
    {
      "cell_type": "code",
      "source": [
        " def atbash(string):\n",
        "    n = ord('z') + ord('a')\n",
        "    N = ord('A') + ord('Z')\n",
        "    ans=''\n",
        "    string=string.split(\" \")\n",
        "    for s in string:\n",
        "        for i in s:\n",
        "            if i.isalpha(): \n",
        "                if i.isupper():\n",
        "                    ans+=(chr(N-ord(i)))\n",
        "                else:\n",
        "                    ans+=(chr(n-ord(i)))           \n",
        "            else:\n",
        "                ans+=i\n",
        "        ans+=\" \"\n",
        "    ans=ans[:-1]\n",
        "    return ans\n",
        "print(\"atbash(apple) ➞\",atbash(\"apple\"))\n",
        "print(\"atbash(Hello world!) ➞\",atbash(\"Hello world!\"))\n",
        "print(\"atbash(Christmas is the 25th of December) ➞ \",atbash(\"Christmas is the 25th of December\"))"
      ],
      "metadata": {
        "colab": {
          "base_uri": "https://localhost:8080/"
        },
        "id": "XYHMyozg6gwg",
        "outputId": "aec97ef5-8124-48fe-aa2f-83b9da7ed456"
      },
      "execution_count": 5,
      "outputs": [
        {
          "output_type": "stream",
          "name": "stdout",
          "text": [
            "atbash(apple) ➞ zkkov\n",
            "atbash(Hello world!) ➞ Svool dliow!\n",
            "atbash(Christmas is the 25th of December) ➞  Xsirhgnzh rh gsv 25gs lu Wvxvnyvi\n"
          ]
        }
      ]
    },
    {
      "cell_type": "markdown",
      "source": [
        "3. Create a class Employee that will take a full name as argument, as well as a set of none, one or more keywords. Each instance should have a name and a lastname attributes plus one more attribute for each of the keywords, if any.\n",
        "\n",
        "Examples\n",
        "\n",
        "john = Employee(\"John Doe\") mary = Employee(\"Mary Major\", salary=120000) richard = Employee(\"Richard Roe\", salary=110000, height=178) giancarlo = Employee(\"Giancarlo Rossi\", salary=115000, height=182, nationality=\"Italian\")\n",
        "\n",
        "john.name ➞ \"John\" mary.lastname ➞ \"Major\" richard.height ➞ 178 giancarlo.nationality ➞ \"Italian\""
      ],
      "metadata": {
        "id": "5rwxQsLEArZD"
      }
    },
    {
      "cell_type": "code",
      "source": [
        "class Employee:\n",
        "    def __init__(self, full_name, **kwargs):\n",
        "        self.name = full_name.split(' ')[0]\n",
        "        self.lastname = full_name.split(' ')[-1] \n",
        "        for var in kwargs:\n",
        "            if isinstance(kwargs[var], str):\n",
        "                exec(\"self.{0} = '{1}'\".format(var,kwargs[var]))\n",
        "            else:\n",
        "                exec(\"self.{0} = {1}\".format(var,kwargs[var]))"
      ],
      "metadata": {
        "id": "Mk1GOVqY9e2v"
      },
      "execution_count": 6,
      "outputs": []
    },
    {
      "cell_type": "code",
      "source": [
        "john = Employee(\"John Doe\")\n",
        "mary = Employee(\"Mary Major\", salary=120000)\n",
        "richard = Employee(\"Richard Roe\", salary=110000, height=178)\n",
        "giancarlo = Employee(\"Giancarlo Rossi\", salary=115000, height=182, nationality=\"Italian\")\n"
      ],
      "metadata": {
        "id": "UqnmU-EaB_j3"
      },
      "execution_count": 7,
      "outputs": []
    },
    {
      "cell_type": "code",
      "source": [
        "print(john.name)\n",
        "print(mary.lastname)\n",
        "print(richard.height)\n",
        "print(giancarlo.nationality)"
      ],
      "metadata": {
        "colab": {
          "base_uri": "https://localhost:8080/"
        },
        "id": "_fT4ViTnCFx5",
        "outputId": "5942263e-82ef-4af7-c8d8-628042716a81"
      },
      "execution_count": 10,
      "outputs": [
        {
          "output_type": "stream",
          "name": "stdout",
          "text": [
            "John\n",
            "Major\n",
            "178\n",
            "Italian\n"
          ]
        }
      ]
    },
    {
      "cell_type": "markdown",
      "source": [
        "4. Create a function that determines whether each seat can \"see\" the front-stage. A number can \"see\" the front-stage if it is strictly greater than the number before it.\n",
        "Everyone can see the front-stage in the example below:\n",
        "\n",
        "FRONT STAGE [[1, 2, 3, 2, 1, 1], [2, 4, 4, 3, 2, 2], [5, 5, 5, 5, 4, 4], [6, 6, 7, 6, 5, 5]]\n",
        "\n",
        "Starting from the left, the 6 > 5 > 2 > 1, so all numbers can see. 6 > 5 > 4 > 2 - so all numbers can see, etc.\n",
        "\n",
        "Not everyone can see the front-stage in the example below:\n",
        "\n",
        "FRONT STAGE [[1, 2, 3, 2, 1, 1], [2, 4, 4, 3, 2, 2], [5, 5, 5, 10, 4, 4], [6, 6, 7, 6, 5, 5]]\n",
        "\n",
        "The 10 is directly in front of the 6 and blocking its view.\n",
        "\n",
        "The function should return True if every number can see the front-stage, and False if even a single number cannot.\n",
        "\n",
        "Examples\n",
        "\n",
        "can_see_stage([ [1, 2, 3], [4, 5, 6], [7, 8, 9] ]) ➞ True\n",
        "\n",
        "can_see_stage([ [0, 0, 0], [1, 1, 1], [2, 2, 2] ]) ➞ True\n",
        "\n",
        "can_see_stage([ [2, 0, 0], [1, 1, 1], [2, 2, 2] ]) ➞ False\n",
        "\n",
        "can_see_stage([ [1, 0, 0], [1, 1, 1], [2, 2, 2] ]) ➞ False\n",
        "\n",
        "Number must be strictly smaller than the number directly behind it."
      ],
      "metadata": {
        "id": "Vfn-DJeJCrYs"
      }
    },
    {
      "cell_type": "code",
      "source": [
        "def can_see_stage(mat):\n",
        "    for i in range(len(mat[0])):\n",
        "        new = True\n",
        "        for j in range(len(mat)-1,-1,-1):\n",
        "            if new == True:\n",
        "                max = mat[j][i]\n",
        "                new = False\n",
        "            elif (max<=mat[j][i]):\n",
        "                return False\n",
        "            else:\n",
        "                max = mat[j][i]\n",
        "            if j == 0:\n",
        "                new = True\n",
        "    return True\n",
        "print(\"can_see_stage([ [1, 2, 3], [4, 5, 6], [7, 8, 9] ]) ➞\",can_see_stage([\n",
        "  [1, 2, 3],\n",
        "  [4, 5, 6],\n",
        "  [7, 8, 9]\n",
        "]))\n",
        "print(\"can_see_stage([ [2, 0, 0], [1, 1, 1], [2, 2, 2] ]) ➞\",can_see_stage([ [2, 0, 0], [1, 1, 1], [2, 2, 2] ]))"
      ],
      "metadata": {
        "colab": {
          "base_uri": "https://localhost:8080/"
        },
        "id": "QSU6_EoyCGu4",
        "outputId": "7416bbc2-e3f1-4029-c4eb-835618a8971b"
      },
      "execution_count": 13,
      "outputs": [
        {
          "output_type": "stream",
          "name": "stdout",
          "text": [
            "can_see_stage([ [1, 2, 3], [4, 5, 6], [7, 8, 9] ]) ➞ True\n",
            "can_see_stage([ [2, 0, 0], [1, 1, 1], [2, 2, 2] ]) ➞ False\n"
          ]
        }
      ]
    },
    {
      "cell_type": "markdown",
      "source": [
        "5. Create a Pizza class with the attributes order_number and ingredients (which is given as a list). Only the ingredients will be given as input.\n",
        "You should also make it so that its possible to choose a ready made pizza flavour rather than typing out the ingredients manually! As well as creating this Pizza class, hard-code the following pizza flavours.\n",
        "\n",
        "Name Ingredients hawaiian ham, pineapple meat_festival beef, meatball, bacon garden_feast spinach, olives, mushroom\n",
        "\n",
        "Examples\n",
        "\n",
        "p1 = Pizza([\"bacon\", \"parmesan\", \"ham\"]) # order 1 p2 = Pizza.garden_feast() # order 2\n",
        "\n",
        "p1.ingredients ➞ [\"bacon\", \"parmesan\", \"ham\"]\n",
        "\n",
        "p2.ingredients ➞ [\"spinach\", \"olives\", \"mushroom\"]\n",
        "\n",
        "p1.order_number ➞ 1\n",
        "\n",
        "p2.order_number ➞ 2"
      ],
      "metadata": {
        "id": "62NT2E5ZGBfY"
      }
    },
    {
      "cell_type": "code",
      "source": [
        "order_number = 0\n",
        "class Pizza:\n",
        "    def __init__(self, *ingrd):\n",
        "        global order_number\n",
        "        order_number += 1\n",
        "        self.order_number = order_number\n",
        "        self.ingredients = ingrd[0]\n",
        "        \n",
        "    @classmethod\n",
        "    def garden_feast(self):\n",
        "        global order_number\n",
        "        order_number += 1\n",
        "        self.order_number = order_number\n",
        "        self.ingredients = [\"spinach\", \"olives\", \"mushroom\"]\n",
        "        return self\n",
        "        \n",
        "    @classmethod\n",
        "    def meat_festival(self):\n",
        "        global order_number\n",
        "        order_number += 1\n",
        "        self.order_number = order_number\n",
        "        self.ingredients = ['beef', 'meatball', 'bacon']\n",
        "        return self\n",
        "    \n",
        "    @classmethod    \n",
        "    def hawaiian(self):\n",
        "        global order_number\n",
        "        order_number += 1\n",
        "        self.order_number = order_number\n",
        "        self.ingredients = ['ham', 'pineapple']\n",
        "        return self\n"
      ],
      "metadata": {
        "id": "jUrMGaxlE9Gl"
      },
      "execution_count": 14,
      "outputs": []
    },
    {
      "cell_type": "code",
      "source": [
        "p1 = Pizza([\"bacon\", \"parmesan\", \"ham\"])    # order 1\n",
        "p2 = Pizza.garden_feast() "
      ],
      "metadata": {
        "id": "tWspsO3UGH-5"
      },
      "execution_count": 15,
      "outputs": []
    },
    {
      "cell_type": "code",
      "source": [
        "print(p1.ingredients)\n",
        "print(p2.ingredients)\n",
        "print(p1.order_number)\n",
        "print(p2.order_number)"
      ],
      "metadata": {
        "colab": {
          "base_uri": "https://localhost:8080/"
        },
        "id": "3jjpMj9UGL_O",
        "outputId": "49026f78-d6db-418b-d225-1445f2a5ffde"
      },
      "execution_count": 16,
      "outputs": [
        {
          "output_type": "stream",
          "name": "stdout",
          "text": [
            "['bacon', 'parmesan', 'ham']\n",
            "['spinach', 'olives', 'mushroom']\n",
            "1\n",
            "2\n"
          ]
        }
      ]
    },
    {
      "cell_type": "code",
      "source": [
        ""
      ],
      "metadata": {
        "id": "LmAeu8qMGbw9"
      },
      "execution_count": null,
      "outputs": []
    }
  ]
}