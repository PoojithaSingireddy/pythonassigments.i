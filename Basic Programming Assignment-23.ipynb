{
  "nbformat": 4,
  "nbformat_minor": 0,
  "metadata": {
    "colab": {
      "name": "Basic Programming Assignment 23.ipynb",
      "provenance": [],
      "collapsed_sections": []
    },
    "kernelspec": {
      "name": "python3",
      "display_name": "Python 3"
    },
    "language_info": {
      "name": "python"
    }
  },
  "cells": [
    {
      "cell_type": "markdown",
      "source": [
        "Question 1\n",
        "Create a function that takes a number as an argument and returns True or False depending\n",
        "on whether the number is symmetrical or not. A number is symmetrical when it is the same as\n",
        "its reverse."
      ],
      "metadata": {
        "id": "NW7hIiea21uY"
      }
    },
    {
      "cell_type": "code",
      "execution_count": 4,
      "metadata": {
        "colab": {
          "base_uri": "https://localhost:8080/"
        },
        "id": "422bjoC-2yHt",
        "outputId": "27c0879d-8281-4c28-a6ba-ce67b4972e9f"
      },
      "outputs": [
        {
          "output_type": "stream",
          "name": "stdout",
          "text": [
            "True , 7227 is symmetrical\n"
          ]
        }
      ],
      "source": [
        "def is_symmetrical(num):\n",
        "    cdigit = rdigit = 0\n",
        "    rnum = num\n",
        "    while(rnum != 0):\n",
        "        cdigit = rnum % 10\n",
        "        rdigit = rdigit * 10 + cdigit\n",
        "        rnum = rnum // 10\n",
        "    if rdigit == num:\n",
        "        print('True , {} is symmetrical'.format(num))\n",
        "    else:\n",
        "        print('False , {} is not symmetrical'.format(num))\n",
        "is_symmetrical(7227)"
      ]
    },
    {
      "cell_type": "markdown",
      "source": [
        "Question 2\n",
        "Given a string of numbers separated by a comma and space, return the product of the\n",
        "numbers."
      ],
      "metadata": {
        "id": "1QufcSQ04Fuf"
      }
    },
    {
      "cell_type": "code",
      "source": [
        "def multiply_nums(s):\n",
        "    s = s.replace(' ', \"\")\n",
        "    s = s.split(',')\n",
        "    sum = 1\n",
        "    for i in s:\n",
        "        sum = sum * int(i)\n",
        "    return sum\n",
        "print(multiply_nums('2, 3'))\n",
        "print(multiply_nums('54, 75, 453, 0'))"
      ],
      "metadata": {
        "colab": {
          "base_uri": "https://localhost:8080/"
        },
        "id": "DYwCtxMR3ygH",
        "outputId": "441ce925-2740-4b3d-e595-7dba32e44d29"
      },
      "execution_count": 5,
      "outputs": [
        {
          "output_type": "stream",
          "name": "stdout",
          "text": [
            "6\n",
            "0\n"
          ]
        }
      ]
    },
    {
      "cell_type": "markdown",
      "source": [
        "Question 3\n",
        "Create a function that squares every digit of a number.\n",
        "Notes\n",
        "The function receives an integer and must return an integer."
      ],
      "metadata": {
        "id": "f1ee-_3m4bbJ"
      }
    },
    {
      "cell_type": "code",
      "source": [
        "def square_digits(num):\n",
        "    ans = ''.join(str(int(i)**2) for i in str(num))\n",
        "    return int(ans)\n",
        "print(square_digits(9119))"
      ],
      "metadata": {
        "colab": {
          "base_uri": "https://localhost:8080/"
        },
        "id": "ZPT4HM7R4Z7s",
        "outputId": "4821c07a-578c-4765-c246-050178d6364a"
      },
      "execution_count": 6,
      "outputs": [
        {
          "output_type": "stream",
          "name": "stdout",
          "text": [
            "811181\n"
          ]
        }
      ]
    },
    {
      "cell_type": "markdown",
      "source": [
        "Question 4\n",
        "Create a function that sorts a list and removes all duplicate items from it."
      ],
      "metadata": {
        "id": "TvqhyqQa452r"
      }
    },
    {
      "cell_type": "code",
      "source": [
        "def setify(lst):\n",
        "    return list(set(lst))\n",
        "print(setify([1, 3, 3, 5, 5]))\n",
        "print(setify([5, 7, 8, 9, 10, 15]))"
      ],
      "metadata": {
        "colab": {
          "base_uri": "https://localhost:8080/"
        },
        "id": "ozG2FT7w4ziC",
        "outputId": "93e52e29-cd7d-43a1-b846-de7f7e41f670"
      },
      "execution_count": 7,
      "outputs": [
        {
          "output_type": "stream",
          "name": "stdout",
          "text": [
            "[1, 3, 5]\n",
            "[5, 7, 8, 9, 10, 15]\n"
          ]
        }
      ]
    },
    {
      "cell_type": "markdown",
      "source": [
        "Question 5\n",
        "Create a function that returns the mean of all digits.\n",
        "Notes\n",
        "- The mean of all digits is the sum of digits / how many digits there are (e.g. mean of digits in\n",
        "512 is (5+1+2)/3(number of digits) = 8/3=2).\n",
        "- The mean will always be an integer."
      ],
      "metadata": {
        "id": "jA7UQ_rT5SZj"
      }
    },
    {
      "cell_type": "code",
      "source": [
        "def mean(n): \n",
        "    N = len(str(n)) \n",
        "    sum = mean = 0  \n",
        "    for digit in str(n):\n",
        "        sum += int(digit)       \n",
        "    return int(sum/N)\n",
        "print(mean(42))\n",
        "print(mean(666))"
      ],
      "metadata": {
        "colab": {
          "base_uri": "https://localhost:8080/"
        },
        "id": "kKJSlGXi5MWX",
        "outputId": "afead660-25ea-44f8-fea6-bbfdf487ade6"
      },
      "execution_count": 8,
      "outputs": [
        {
          "output_type": "stream",
          "name": "stdout",
          "text": [
            "3\n",
            "6\n"
          ]
        }
      ]
    },
    {
      "cell_type": "code",
      "source": [
        ""
      ],
      "metadata": {
        "id": "NQn9oFHQ5qsD"
      },
      "execution_count": null,
      "outputs": []
    }
  ]
}