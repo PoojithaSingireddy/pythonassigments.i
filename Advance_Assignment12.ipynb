{
  "nbformat": 4,
  "nbformat_minor": 0,
  "metadata": {
    "colab": {
      "name": "Advance Assignment12.ipynb",
      "provenance": [],
      "collapsed_sections": []
    },
    "kernelspec": {
      "name": "python3",
      "display_name": "Python 3"
    },
    "language_info": {
      "name": "python"
    }
  },
  "cells": [
    {
      "cell_type": "markdown",
      "source": [
        "1. For this challenge, forget how to add two numbers together. The best explanation on what to do for this function is this meme:\n",
        "\n",
        "Examples\n",
        "\n",
        "meme_sum(26, 39) ➞ 515 #2+3 = 5, 6+9 = 15\n",
        "\n",
        "26 + 39 = 515\n",
        "meme_sum(122, 81) ➞ 1103 #1+0 = 1, 2+8 = 10, 2+1 = 3\n",
        "\n",
        "122 + 81 = 1103\n",
        "meme_sum(1222, 30277) ➞ 31499"
      ],
      "metadata": {
        "id": "NDmSQRmQXABy"
      }
    },
    {
      "cell_type": "code",
      "execution_count": 2,
      "metadata": {
        "colab": {
          "base_uri": "https://localhost:8080/"
        },
        "id": "nk2TswjhW9qx",
        "outputId": "67bc2d45-ebec-46a3-d33a-55395b65c13a"
      },
      "outputs": [
        {
          "output_type": "stream",
          "name": "stdout",
          "text": [
            "515\n",
            "1103\n",
            "31499\n"
          ]
        }
      ],
      "source": [
        "def meme_sum(a,b):\n",
        "    x = str(a)\n",
        "    y = str(b)\n",
        "    s = ''   \n",
        "    while True:\n",
        "        if len(x) < len(y):\n",
        "            x = '0'+x\n",
        "        elif len(y) < len(x):\n",
        "            y = '0'+y\n",
        "        else:\n",
        "            break    \n",
        "    for i in range(len(x)):\n",
        "        s += str(int(x[i]) + int(y[i]))\n",
        "    return s\n",
        "print(meme_sum(26, 39))\n",
        "print(meme_sum(122,81))\n",
        "print(meme_sum(1222, 30277))"
      ]
    },
    {
      "cell_type": "markdown",
      "source": [
        "2. Given an integer, create a function that returns the next prime. If the number is prime, return the number itself.\n",
        "\n",
        "Examples\n",
        "\n",
        "next_prime(12) ➞ 13\n",
        "\n",
        "next_prime(24) ➞ 29\n",
        "\n",
        "next_prime(11) ➞ 11 11 is a prime, so we return the number itself."
      ],
      "metadata": {
        "id": "Aa9CfdtWYUc1"
      }
    },
    {
      "cell_type": "code",
      "source": [
        "def pnum(n):\n",
        "    for i in range(2,n):\n",
        "        if n % i == 0:\n",
        "            break\n",
        "    else:\n",
        "        return n  \n",
        "def next_prime(n):\n",
        "    while True:\n",
        "        if pnum(n) != None:\n",
        "            break\n",
        "        n = n + 1\n",
        "        pnum(n)\n",
        "    return pnum(n)               \n",
        "print(next_prime(12))\n",
        "print(next_prime(24))\n",
        "print(next_prime(11))"
      ],
      "metadata": {
        "colab": {
          "base_uri": "https://localhost:8080/"
        },
        "id": "OOqPaLswYDAC",
        "outputId": "810890aa-344b-4570-eb31-d439e2d15c68"
      },
      "execution_count": 4,
      "outputs": [
        {
          "output_type": "stream",
          "name": "stdout",
          "text": [
            "13\n",
            "29\n",
            "11\n"
          ]
        }
      ]
    },
    {
      "cell_type": "markdown",
      "source": [
        "3. If a person traveled up a hill for 18mins at 20mph and then traveled back down the same path at 60mph then their average speed traveled was 30mph.\n",
        "Write a function that returns the average speed traveled given an uphill time, uphill rate and a downhill rate. Uphill time is given in minutes. Return the rate as an integer (mph). No rounding is necessary.\n",
        "\n",
        "Examples\n",
        "\n",
        "ave_spd(18, 20, 60) ➞ 30\n",
        "\n",
        "ave_spd(30, 10, 30) ➞ 15\n",
        "\n",
        "ave_spd(30, 8, 24) ➞ 12\n"
      ],
      "metadata": {
        "id": "nrohuKnrlgAy"
      }
    },
    {
      "cell_type": "code",
      "source": [
        "def ave_spd(ut, ur, dr):\n",
        "    return int(2 * ur * dr/ (ur + dr))\n",
        "print(ave_spd(18, 20, 60))\n",
        "print(ave_spd(30, 10, 30))\n",
        "print(ave_spd(30,8,24))"
      ],
      "metadata": {
        "colab": {
          "base_uri": "https://localhost:8080/"
        },
        "id": "dOJd-fLsbRjr",
        "outputId": "385134e6-725f-42f7-aed2-77bac455b5d2"
      },
      "execution_count": 5,
      "outputs": [
        {
          "output_type": "stream",
          "name": "stdout",
          "text": [
            "30\n",
            "15\n",
            "12\n"
          ]
        }
      ]
    },
    {
      "cell_type": "markdown",
      "source": [
        "4. The Kempner Function, applied to a composite number, permits to find the smallest integer greater than zero whose factorial is exactly divided by the number.\n",
        "\n",
        "kempner(6) ➞ 3\n",
        "\n",
        "1! = 1 % 6 > 0 2! = 2 % 6 > 0 3! = 6 % 6 === 0\n",
        "\n",
        "kempner(10) ➞ 5\n",
        "\n",
        "1! = 1 % 10 > 0 2! = 2 % 10 > 0 3! = 6 % 10 > 0 4! = 24 % 10 > 0 5! = 120 % 10 === 0\n",
        "\n",
        "A Kempner Function applied to a prime will always return the prime itself.\n",
        "\n",
        "kempner(2) ➞ 2 kempner(5) ➞ 5\n",
        "\n",
        "Given an integer n, implement a Kempner Function.\n",
        "\n",
        "Examples\n",
        "\n",
        "kempner(6) ➞ 3\n",
        "\n",
        "kempner(10) ➞ 5\n",
        "\n",
        "kempner(2) ➞ 2"
      ],
      "metadata": {
        "id": "tVh6trP3mlqP"
      }
    },
    {
      "cell_type": "code",
      "source": [
        "def fact(n):\n",
        "    if n == 0 or n == 1:\n",
        "        return 1\n",
        "    else:\n",
        "        return n * fact(n-1)       \n",
        "def kempner(n):\n",
        "    for i in range(1,n+1):\n",
        "        if fact(i) % n == 0:\n",
        "            return i\n",
        "print(kempner(6))\n",
        "print(kempner(10))\n",
        "print(kempner(2))"
      ],
      "metadata": {
        "colab": {
          "base_uri": "https://localhost:8080/"
        },
        "id": "ciCfJ9ZGl39U",
        "outputId": "f5577035-4d9b-49eb-c3e7-75a52abb242e"
      },
      "execution_count": 6,
      "outputs": [
        {
          "output_type": "stream",
          "name": "stdout",
          "text": [
            "3\n",
            "5\n",
            "2\n"
          ]
        }
      ]
    },
    {
      "cell_type": "markdown",
      "source": [
        "5. You work in a factory, and your job is to take items from a conveyor belt and pack them into boxes. Each box can hold a maximum of 10 kgs. Given a list containing the weight (in kg) of each item, how many boxes would you need to pack all of the items?\n",
        "\n",
        "Example\n",
        "\n",
        "boxes([2, 1, 2, 5, 4, 3, 6, 1, 1, 9, 3, 2]) ➞ 5\n",
        "\n",
        "Box 1 = [2, 1, 2, 5] (10kg)\n",
        "\n",
        "Box 2 = [4, 3] (7kg)\n",
        "\n",
        "Box 3 = [6, 1, 1] (8kg)\n",
        "\n",
        "Box 4 = [9] (9kg)\n",
        "\n",
        "Box 5 = [3, 2] (5kg)"
      ],
      "metadata": {
        "id": "NfkeB_V-nDJS"
      }
    },
    {
      "cell_type": "code",
      "source": [
        "def boxes(l):\n",
        "    l1 =[]\n",
        "    b =[]    \n",
        "    for i in l:\n",
        "        b.append(i)\n",
        "        if sum(b) > 10:\n",
        "            b.pop()\n",
        "            l1.append(b)\n",
        "            b = []\n",
        "            b.append(i)            \n",
        "    l1.append(b)\n",
        "    return l1    \n",
        "print(boxes([2, 1, 2, 5, 4, 3, 6, 1, 1, 9, 3, 2]))\n",
        "print(boxes([5,1,3,6,8,2,3,1,4,2,5,6,10]))"
      ],
      "metadata": {
        "colab": {
          "base_uri": "https://localhost:8080/"
        },
        "id": "DK-c-swdnBRd",
        "outputId": "dd6d39fb-2624-410f-8771-8ca8ac0a0563"
      },
      "execution_count": 8,
      "outputs": [
        {
          "output_type": "stream",
          "name": "stdout",
          "text": [
            "[[2, 1, 2, 5], [4, 3], [6, 1, 1], [9], [3, 2]]\n",
            "[[5, 1, 3], [6], [8, 2], [3, 1, 4, 2], [5], [6], [10]]\n"
          ]
        }
      ]
    },
    {
      "cell_type": "code",
      "source": [
        ""
      ],
      "metadata": {
        "id": "IIEdEjsin47S"
      },
      "execution_count": null,
      "outputs": []
    }
  ]
}