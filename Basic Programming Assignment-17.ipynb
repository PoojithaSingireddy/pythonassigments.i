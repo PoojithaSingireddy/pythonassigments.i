{
  "nbformat": 4,
  "nbformat_minor": 0,
  "metadata": {
    "colab": {
      "name": "Basic Programming Assignment-17.ipynb",
      "provenance": [],
      "collapsed_sections": []
    },
    "kernelspec": {
      "name": "python3",
      "display_name": "Python 3"
    },
    "language_info": {
      "name": "python"
    }
  },
  "cells": [
    {
      "cell_type": "markdown",
      "source": [
        "Question1. Create a function that takes three arguments a, b, c and returns the sum of the\n",
        "numbers that are evenly divided by c from the range a, b inclusive."
      ],
      "metadata": {
        "id": "BMBwioW5tZjR"
      }
    },
    {
      "cell_type": "code",
      "execution_count": 5,
      "metadata": {
        "colab": {
          "base_uri": "https://localhost:8080/"
        },
        "id": "7aH6Ih0WiBw0",
        "outputId": "d32521b8-0f8a-4e65-e0a1-ae4090b9d416"
      },
      "outputs": [
        {
          "output_type": "stream",
          "name": "stdout",
          "text": [
            "Enter a:1\n",
            "Enter b:10\n",
            "Enter c:2\n",
            "30\n"
          ]
        }
      ],
      "source": [
        "def sumdiv(a, b, c):     \n",
        "    sum = 0\n",
        "    for i in range(a, b + 1): \n",
        "        if (i % c == 0):\n",
        "            sum += i \n",
        "    return sum\n",
        "a = int(input('Enter a:'))\n",
        "b = int(input('Enter b:'))\n",
        "c = int(input('Enter c:'))\n",
        "ans=sumdiv(a, b, c)\n",
        "if ans==0:\n",
        "  print('No number is evenly divisible')\n",
        "else:\n",
        "  print(ans)"
      ]
    },
    {
      "cell_type": "markdown",
      "source": [
        "Question2. Create a function that returns True if a given inequality expression is correct and\n",
        "False otherwise."
      ],
      "metadata": {
        "id": "_kpX546p3hzv"
      }
    },
    {
      "cell_type": "code",
      "source": [
        "def csigns ( txt ) : \n",
        "    return eval ( txt )\n",
        "print(csigns(\"3 > 7 < 11\"))\n",
        "print(csigns(\"13 > 44 > 33 > 1\"))\n",
        "print(csigns(\"1 < 2 < 6 < 9 > 3\"))"
      ],
      "metadata": {
        "colab": {
          "base_uri": "https://localhost:8080/"
        },
        "id": "eq8uEGi92obI",
        "outputId": "547d699c-d3a8-4c7e-d18b-2fc767473d03"
      },
      "execution_count": 6,
      "outputs": [
        {
          "output_type": "stream",
          "name": "stdout",
          "text": [
            "False\n",
            "False\n",
            "True\n"
          ]
        }
      ]
    },
    {
      "cell_type": "markdown",
      "source": [
        "Question3. Create a function that replaces all the vowels in a string with a specified character."
      ],
      "metadata": {
        "id": "10jRushJ3zbI"
      }
    },
    {
      "cell_type": "code",
      "source": [
        "def rvowels(str, s):\n",
        "    vowels = 'AEIOUaeiou'\n",
        "    for el in vowels:  \n",
        "        str = str.replace(el, s)  \n",
        "    return str\n",
        "  \n",
        "istr = input(\"Enter string : \")\n",
        "s = input(\"Enter vowel : \")\n",
        "print(\"\\nGiven Sting:\", istr)\n",
        "print(\"Given Character:\", s)\n",
        "print(\"Afer replacing:\",rvowels(istr, s))"
      ],
      "metadata": {
        "colab": {
          "base_uri": "https://localhost:8080/"
        },
        "id": "y-mU7fM93xE2",
        "outputId": "fd2cf599-9295-47bd-8959-14016060be68"
      },
      "execution_count": 7,
      "outputs": [
        {
          "output_type": "stream",
          "name": "stdout",
          "text": [
            "Enter string : python\n",
            "Enter vowel : ^\n",
            "\n",
            "Given Sting: python\n",
            "Given Character: ^\n",
            "Afer replacing: pyth^n\n"
          ]
        }
      ]
    },
    {
      "cell_type": "markdown",
      "source": [
        "Question4. Write a function that calculates the factorial of a number recursively."
      ],
      "metadata": {
        "id": "ADtfv1MP4eU_"
      }
    },
    {
      "cell_type": "code",
      "source": [
        "def fact(n):     \n",
        "    if n == 0:\n",
        "        return 1    \n",
        "    return n * fact(n-1)\n",
        "\n",
        "num = int(input('Enter number :'))\n",
        "print(\"Factorial of\", num, \"is\", fact(num))"
      ],
      "metadata": {
        "colab": {
          "base_uri": "https://localhost:8080/"
        },
        "id": "ogbeE6BP4asP",
        "outputId": "1064c191-d12f-4d40-faf4-9e0b00960506"
      },
      "execution_count": 8,
      "outputs": [
        {
          "output_type": "stream",
          "name": "stdout",
          "text": [
            "Enter number :4\n",
            "Factorial of 4 is 24\n"
          ]
        }
      ]
    },
    {
      "cell_type": "markdown",
      "source": [
        "Question 5:\n",
        "Hamming distance is the number of characters that differ between two strings.\n",
        "To illustrate:\n",
        "String1: 'abcbba'\n",
        "String2: 'abcbda'\n",
        "Hamming Distance: 1 - 'b' vs. 'd' is the only difference.\n",
        "Create a function that computes the hamming distance between two strings."
      ],
      "metadata": {
        "id": "UWWlpS4w4uOE"
      }
    },
    {
      "cell_type": "code",
      "source": [
        "def hamming_distance(str1, str2):\n",
        "    i = 0\n",
        "    count = 0\n",
        " \n",
        "    while(i < len(str1)):\n",
        "        if(str1[i] != str2[i]):\n",
        "            count += 1\n",
        "        i += 1\n",
        "    return count\n",
        "str1 = \"abcde\"\n",
        "str2 = \"bcdef\"\n",
        "print(hamming_distance(str1, str2))\n",
        "print(hamming_distance('abcde', 'abcde'))\n",
        "print(hamming_distance('strong', 'strung'))"
      ],
      "metadata": {
        "colab": {
          "base_uri": "https://localhost:8080/"
        },
        "id": "zvcFJWI54sUr",
        "outputId": "298d77b9-95d4-4136-92f6-eac9172a4d71"
      },
      "execution_count": 10,
      "outputs": [
        {
          "output_type": "stream",
          "name": "stdout",
          "text": [
            "5\n",
            "0\n",
            "1\n"
          ]
        }
      ]
    }
  ]
}