{
  "nbformat": 4,
  "nbformat_minor": 0,
  "metadata": {
    "colab": {
      "name": "Basic Programming Assignment-16.ipynb",
      "provenance": [],
      "collapsed_sections": []
    },
    "kernelspec": {
      "name": "python3",
      "display_name": "Python 3"
    },
    "language_info": {
      "name": "python"
    }
  },
  "cells": [
    {
      "cell_type": "markdown",
      "source": [
        "Question1. Write a function that stutters a word as if someone is struggling to read it. The\n",
        "first two letters are repeated twice with an ellipsis ... and space after each, and then the\n",
        "word is pronounced with a question mark ?."
      ],
      "metadata": {
        "id": "2tHRs_YYi09M"
      }
    },
    {
      "cell_type": "code",
      "execution_count": 1,
      "metadata": {
        "colab": {
          "base_uri": "https://localhost:8080/"
        },
        "id": "837-9Z5Xirgq",
        "outputId": "3e7fffcb-e460-4071-f73e-3ada4901014d"
      },
      "outputs": [
        {
          "output_type": "stream",
          "name": "stdout",
          "text": [
            "Enter word : python\n",
            "py... py... python?\n"
          ]
        }
      ],
      "source": [
        "def stutter(word):\n",
        "    return (2*(word[:2]+'... '))+word+'?'\n",
        "word = input('Enter word : ')\n",
        "print(stutter(word))"
      ]
    },
    {
      "cell_type": "markdown",
      "source": [
        "Question 2.\n",
        "Create a function that takes an angle in radians and returns the corresponding\n",
        "angle in degrees rounded to one decimal place.\n"
      ],
      "metadata": {
        "id": "QLhu8Zc-jNJa"
      }
    },
    {
      "cell_type": "code",
      "source": [
        "def rtod(rad):\n",
        "    pi = 3.14159\n",
        "    deg = rad * (180/pi)\n",
        "    return deg\n",
        "rad = float(input('Enter Radian : '))\n",
        "print(\"Degree =\",(rtod(rad)))"
      ],
      "metadata": {
        "colab": {
          "base_uri": "https://localhost:8080/"
        },
        "id": "iwsex5UXjFcu",
        "outputId": "5f2c3493-f32e-42a3-b996-de2e81e45e5b"
      },
      "execution_count": 2,
      "outputs": [
        {
          "output_type": "stream",
          "name": "stdout",
          "text": [
            "Enter Radian : 12\n",
            "Degree = 687.5499349055733\n"
          ]
        }
      ]
    },
    {
      "cell_type": "markdown",
      "source": [
        "Question 3. In this challenge, establish if a given integer num is a Curzon number. If 1 plus\n",
        "2 elevated to num is exactly divisible by 1 plus 2 multiplied by num, then num is a Curzon\n",
        "number.\n",
        "Given a non-negative integer num, implement a function that returns True if num is a Curzon\n",
        "number, or False otherwise."
      ],
      "metadata": {
        "id": "0qCw-BaBjixV"
      }
    },
    {
      "cell_type": "code",
      "source": [
        "def isCurzon(n):\n",
        "    powe, pro = 0, 0\n",
        "    powe = pow(2, n) + 1\n",
        "    pro = 2 * n + 1\n",
        "    if (powe % pro == 0):\n",
        "        print(n, \"is Curzon Number\")\n",
        "    else:\n",
        "        print(n, \"is not a Curzon Number\")\n",
        "        \n",
        "n = int(input('Enter number :'))\n",
        "isCurzon(n)"
      ],
      "metadata": {
        "colab": {
          "base_uri": "https://localhost:8080/"
        },
        "id": "nfjgHi7CjgXT",
        "outputId": "5ad970fe-a33b-43f2-da54-517fffec91f8"
      },
      "execution_count": 3,
      "outputs": [
        {
          "output_type": "stream",
          "name": "stdout",
          "text": [
            "Enter number :33\n",
            "33 is Curzon Number\n"
          ]
        }
      ]
    },
    {
      "cell_type": "markdown",
      "source": [
        "Question 4.Given the side length x find the area of a hexagon.\n"
      ],
      "metadata": {
        "id": "FWKPPACJkriT"
      }
    },
    {
      "cell_type": "code",
      "source": [
        "import math\n",
        "\n",
        "def areahex(s):     \n",
        "    return ((3 * math.sqrt(3) * (sl * sl)) / 2);\n",
        "sl = float(input('Enter length : '))\n",
        "print(\"Area:\",\"{0:.4f}\".format(areahex(sl)))"
      ],
      "metadata": {
        "colab": {
          "base_uri": "https://localhost:8080/"
        },
        "id": "ddikqZgMke2h",
        "outputId": "ce13d208-be8b-4df1-93e4-93d8f9bcf7ec"
      },
      "execution_count": 4,
      "outputs": [
        {
          "output_type": "stream",
          "name": "stdout",
          "text": [
            "Enter length : 4\n",
            "Area: 41.5692\n"
          ]
        }
      ]
    },
    {
      "cell_type": "markdown",
      "source": [
        "Question 5. Create a function that returns a base-2 (binary) representation of a base-10\n",
        "(decimal) string number. To convert is simple: ((2) means base-2 and (10) means base-10)\n",
        "010101001(2) = 1 + 8 + 32 + 128.\n",
        "Going from right to left, the value of the most right bit is 1, now from that every bit to the left\n",
        "will be x2 the value, value of an 8 bit binary numbers are (256, 128, 64, 32, 16, 8, 4, 2, 1)."
      ],
      "metadata": {
        "id": "07xrhQ8llL3j"
      }
    },
    {
      "cell_type": "code",
      "source": [
        "def dtob(n):\n",
        "    return bin(n).replace(\"0b\", \"\")\n",
        "for i in range(0,50):\n",
        "    print(dtob(i))"
      ],
      "metadata": {
        "colab": {
          "base_uri": "https://localhost:8080/"
        },
        "id": "e-eZ0nv-lJle",
        "outputId": "235a0308-fd5e-4d2f-846c-53ec3edff616"
      },
      "execution_count": 5,
      "outputs": [
        {
          "output_type": "stream",
          "name": "stdout",
          "text": [
            "0\n",
            "1\n",
            "10\n",
            "11\n",
            "100\n",
            "101\n",
            "110\n",
            "111\n",
            "1000\n",
            "1001\n",
            "1010\n",
            "1011\n",
            "1100\n",
            "1101\n",
            "1110\n",
            "1111\n",
            "10000\n",
            "10001\n",
            "10010\n",
            "10011\n",
            "10100\n",
            "10101\n",
            "10110\n",
            "10111\n",
            "11000\n",
            "11001\n",
            "11010\n",
            "11011\n",
            "11100\n",
            "11101\n",
            "11110\n",
            "11111\n",
            "100000\n",
            "100001\n",
            "100010\n",
            "100011\n",
            "100100\n",
            "100101\n",
            "100110\n",
            "100111\n",
            "101000\n",
            "101001\n",
            "101010\n",
            "101011\n",
            "101100\n",
            "101101\n",
            "101110\n",
            "101111\n",
            "110000\n",
            "110001\n"
          ]
        }
      ]
    },
    {
      "cell_type": "code",
      "source": [
        ""
      ],
      "metadata": {
        "id": "zTlUmLvslcJi"
      },
      "execution_count": null,
      "outputs": []
    }
  ]
}