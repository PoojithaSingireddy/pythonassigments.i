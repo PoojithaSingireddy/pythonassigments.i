{
  "nbformat": 4,
  "nbformat_minor": 0,
  "metadata": {
    "colab": {
      "name": "Advance Assignment14.ipynb",
      "provenance": [],
      "collapsed_sections": []
    },
    "kernelspec": {
      "name": "python3",
      "display_name": "Python 3"
    },
    "language_info": {
      "name": "python"
    }
  },
  "cells": [
    {
      "cell_type": "markdown",
      "source": [
        "1. Given a list of numbers, create a function that removes 25% from every number in the list except the smallest number, and adds the total amount removed to the smallest number.\n",
        "\n",
        "Examples\n",
        "\n",
        "show_the_love([4, 1, 4]) ➞ [3, 3, 3]\n",
        "\n",
        "show_the_love([16, 10, 8]) ➞ [12, 7.5, 14.5]\n",
        "\n",
        "show_the_love([2, 100]) ➞ [27, 75]"
      ],
      "metadata": {
        "id": "LMuf58HHukoH"
      }
    },
    {
      "cell_type": "code",
      "execution_count": 4,
      "metadata": {
        "colab": {
          "base_uri": "https://localhost:8080/"
        },
        "id": "tmRji6aVudpU",
        "outputId": "3cd8424d-e40e-4f1f-874a-9cf396c2e91d"
      },
      "outputs": [
        {
          "output_type": "stream",
          "name": "stdout",
          "text": [
            "show_the_love([4, 1, 4])-> [3, 3, 3]\n",
            "show_the_love([16, 10, 8])-> [12, 7.5, 14.5]\n",
            "show_the_love([2, 100])-> [27, 75]\n"
          ]
        }
      ],
      "source": [
        "def show_the_love(l):\n",
        "    sno = min(l)\n",
        "    ind = l.index(sno)\n",
        "    k = 0\n",
        "    for i in range(len(l)):\n",
        "        if l[i] != sno:\n",
        "            j =  0.25 * l[i]\n",
        "            l[i] = l[i]- j\n",
        "            k += j            \n",
        "    l[ind] = sno + k\n",
        "    l = [int(i) if i == int(i) else i for i in l]\n",
        "    return l\n",
        "print(\"show_the_love([4, 1, 4])->\",show_the_love([4,1,4]) )\n",
        "print(\"show_the_love([16, 10, 8])->\",show_the_love([16, 10, 8]))\n",
        "print(\"show_the_love([2, 100])->\",show_the_love([2, 100]))"
      ]
    },
    {
      "cell_type": "markdown",
      "source": [
        "2. Create a function that takes in two words as input and returns a list of three elements, in the following order:\n",
        "\n",
        "1.Shared letters between two words. \n",
        "\n",
        "2.Letters unique to word 1.\n",
        "\n",
        "3.Letters unique to word 2.\n",
        "\n",
        "Each element should have unique letters, and have each letter be alphabetically sorted.\n",
        "\n",
        "Examples\n",
        "\n",
        "letters(\"sharp\", \"soap\") ➞ [\"aps\", \"hr\", \"o\"]\n",
        "\n",
        "letters(\"board\", \"bored\") ➞ [\"bdor\", \"a\", \"e\"]\n",
        "\n",
        "letters(\"happiness\", \"envelope\") ➞ [\"enp\", \"ahis\", \"lov\"]\n",
        "\n",
        "letters(\"kerfuffle\", \"fluffy\") ➞ [\"flu\", \"ekr\", \"y\"]"
      ],
      "metadata": {
        "id": "jITQuIi4vpwl"
      }
    },
    {
      "cell_type": "code",
      "source": [
        "def letters(w1,w2):\n",
        "    con = ''\n",
        "    for i in set(w1)&set(w2):\n",
        "        con += ''.join(i)    \n",
        "    u1 = ''\n",
        "    for i in set(w1).difference(set(w2)):\n",
        "        u1 += ''.join(i)       \n",
        "    u2 = ''\n",
        "    for i in set(w2).difference(set(w1)):\n",
        "        u2 += ''.join(i)      \n",
        "    return con, u1 , u2\n",
        "print(\"letters(sharp, soap) ➞\",letters(\"sharp\", \"soap\"))\n",
        "print(\"letters(board, bored) ➞\",letters(\"board\", \"bored\") )\n",
        "print(\"letters(happiness, envelope) ➞\",letters(\"happiness\", \"envelope\"))\n",
        "print(\"letters(kerfuffle, fluffy)  ➞\",letters(\"kerfuffle\", \"fluffy\"))\n",
        "print(\"letters(match,ham) ➞\",letters(\"match\",\"ham\"))"
      ],
      "metadata": {
        "colab": {
          "base_uri": "https://localhost:8080/"
        },
        "id": "bRtuo6YIvUaO",
        "outputId": "42888115-93a3-433c-a862-02982e2aa191"
      },
      "execution_count": 5,
      "outputs": [
        {
          "output_type": "stream",
          "name": "stdout",
          "text": [
            "letters(sharp, soap) ➞ ('asp', 'rh', 'o')\n",
            "letters(board, bored) ➞ ('odrb', 'a', 'e')\n",
            "letters(happiness, envelope) ➞ ('enp', 'hais', 'ovl')\n",
            "letters(kerfuffle, fluffy)  ➞ ('ful', 'rek', 'y')\n",
            "letters(match,ham) ➞ ('mah', 'tc', '')\n"
          ]
        }
      ]
    },
    {
      "cell_type": "markdown",
      "source": [
        "3. Write a function that pairs the first number in an array with the last, the second number with the second to last, etc.\n",
        "\n",
        "Examples\n",
        "\n",
        "pairs([1, 2, 3, 4, 5, 6, 7]) ➞ [[1, 7], [2, 6], [3, 5], [4, 4]]\n",
        "\n",
        "pairs([1, 2, 3, 4, 5, 6]) ➞ [[1, 6], [2, 5], [3, 4]]\n",
        "\n",
        "pairs([5, 9, 8, 1, 2]) ➞ [[5, 2], [9, 1], [8, 8]]\n",
        "\n",
        "pairs([]) ➞ []"
      ],
      "metadata": {
        "id": "jPe4Ol1BxHs_"
      }
    },
    {
      "cell_type": "code",
      "source": [
        "import math\n",
        "def pairs(l):\n",
        "    l2 = []\n",
        "    for i in range(math.ceil(len(l)/2)):\n",
        "        l1 = []\n",
        "        l1.append(l[i])\n",
        "        l1.append(l[len(l)-i-1])\n",
        "        l2.append(l1)\n",
        "    return l2\n",
        "print(\"pairs([1, 2, 3, 4, 5, 6, 7]) ➞\",pairs([1,2,3,4,5,6,7]))\n",
        "print(\"pairs([1, 2, 3, 4, 5, 6]) ➞\",pairs([1,2,3,4,5,6]))\n",
        "print(\"pairs([5, 9, 8, 1, 2]) ➞\",pairs([5,9,8,1,2]))\n",
        "print(\"pairs([]) ➞\",pairs([]))"
      ],
      "metadata": {
        "colab": {
          "base_uri": "https://localhost:8080/"
        },
        "id": "Ey_qINeTxECe",
        "outputId": "d9ee1bef-8a3c-4fc9-fdfc-21439826e276"
      },
      "execution_count": 6,
      "outputs": [
        {
          "output_type": "stream",
          "name": "stdout",
          "text": [
            "pairs([1, 2, 3, 4, 5, 6, 7]) ➞ [[1, 7], [2, 6], [3, 5], [4, 4]]\n",
            "pairs([1, 2, 3, 4, 5, 6]) ➞ [[1, 6], [2, 5], [3, 4]]\n",
            "pairs([5, 9, 8, 1, 2]) ➞ [[5, 2], [9, 1], [8, 8]]\n",
            "pairs([]) ➞ []\n"
          ]
        }
      ]
    },
    {
      "cell_type": "markdown",
      "source": [
        "4. Write a function that adds two numbers. The catch, however, is that the numbers will be strings.\n",
        "\n",
        "Examples\n",
        "\n",
        "add_str_nums(\"4\", \"5\") ➞ \"9\"\n",
        "\n",
        "add_str_nums(\"abcdefg\", \"3\") ➞ \"-1\"\n",
        "\n",
        "add_str_nums(\"1\", \"\") ➞ \"1\"\n",
        "\n",
        "add_str_nums(\"1874682736267235927359283579235789257\", \"32652983572985729\") ➞ \"1874682736267235927391936562808774986\""
      ],
      "metadata": {
        "id": "yeJ0VcRYx2wK"
      }
    },
    {
      "cell_type": "code",
      "source": [
        "def add_str_nums(s1,s2):\n",
        "    if s1 != '' and s2 != '':\n",
        "        if s1.isnumeric() and s2.isnumeric():\n",
        "            return str(int(s1) + int(s2))\n",
        "        else:\n",
        "            return -1\n",
        "    else:\n",
        "        return s1 + s2\n",
        "print(\"add_str_nums(4,5) ➞\",add_str_nums(\"4\",\"5\"))\n",
        "print(\"add_str_nums(abcdefg,3) ➞\",add_str_nums(\"abcdefg\", \"3\"))\n",
        "print(\"add_str_nums(1, ) ➞\",add_str_nums(\"1\",\"\"))\n",
        "print(\"add_str_nums(1874682736267235927359283579235789257,32652983572985729) ➞\",add_str_nums(\"1874682736267235927359283579235789257\", \"32652983572985729\"))"
      ],
      "metadata": {
        "colab": {
          "base_uri": "https://localhost:8080/"
        },
        "id": "iHGbVIdUx0PG",
        "outputId": "66a112b3-71a4-4229-e0f6-89151d7eec19"
      },
      "execution_count": 7,
      "outputs": [
        {
          "output_type": "stream",
          "name": "stdout",
          "text": [
            "add_str_nums(4,5) ➞ 9\n",
            "add_str_nums(abcdefg,3) ➞ -1\n",
            "add_str_nums(1, ) ➞ 1\n",
            "add_str_nums(1874682736267235927359283579235789257,32652983572985729) ➞ 1874682736267235927391936562808774986\n"
          ]
        }
      ]
    },
    {
      "cell_type": "markdown",
      "source": [
        "5. lPaeesh le pemu mnxit ehess rtnisg! Oh, sorry, that was supposed to say: Please help me unmix these strings!\n",
        "Somehow my strings have all become mixed up; every pair of characters has been swapped. Help me undo this so I can understand my strings again.\n",
        "\n",
        "Examples\n",
        "\n",
        "unmix(\"123456\") ➞ \"214365\"\n",
        "\n",
        "unmix(\"hTsii s aimex dpus rtni.g\") ➞ \"This is a mixed up string.\"\n",
        "\n",
        "unmix(\"badce\") ➞ \"abcde\""
      ],
      "metadata": {
        "id": "VPyUYzK1y653"
      }
    },
    {
      "cell_type": "code",
      "source": [
        "def unmix(s):\n",
        "    length = len(s)\n",
        "    if length % 2 != 0 :\n",
        "        length = length - 1\n",
        "    l = list(s)\n",
        "    i = 0\n",
        "    while True:\n",
        "        if i == length:\n",
        "            break\n",
        "        else:\n",
        "            l[i], l[i+1] = l[i+1],l[i]\n",
        "            i += 2\n",
        "    s = ''\n",
        "    for i in l:\n",
        "        s += ''.join(i)\n",
        "    return s    \n",
        "print(\"unmix(123456) ➞\",unmix(\"123456\"))\n",
        "print(\"unmix(hTsii s aimex dpus rtni.g) ➞ \",unmix(\"hTsii  s aimex dpus rtni.g\"))\n",
        "print(\"unmix(badce) ➞\",unmix(\"badce\"))"
      ],
      "metadata": {
        "colab": {
          "base_uri": "https://localhost:8080/"
        },
        "id": "RDKXTpY_ygqq",
        "outputId": "17773877-7455-4ba8-bb57-2c26d42dcca7"
      },
      "execution_count": 8,
      "outputs": [
        {
          "output_type": "stream",
          "name": "stdout",
          "text": [
            "unmix(123456) ➞ 214365\n",
            "unmix(hTsii s aimex dpus rtni.g) ➞  This is a mixed up string.\n",
            "unmix(badce) ➞ abcde\n"
          ]
        }
      ]
    },
    {
      "cell_type": "code",
      "source": [
        ""
      ],
      "metadata": {
        "id": "kjAeA-FYzZaf"
      },
      "execution_count": null,
      "outputs": []
    }
  ]
}