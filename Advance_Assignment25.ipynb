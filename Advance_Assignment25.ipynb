{
  "nbformat": 4,
  "nbformat_minor": 0,
  "metadata": {
    "colab": {
      "name": "Advance Assignment25.ipynb",
      "provenance": [],
      "collapsed_sections": []
    },
    "kernelspec": {
      "name": "python3",
      "display_name": "Python 3"
    },
    "language_info": {
      "name": "python"
    }
  },
  "cells": [
    {
      "cell_type": "markdown",
      "source": [
        "1. Write four functions that directly mutate a list:\n",
        "repeat(lst, n): Repeat lst n times.\n",
        "add(lst, x): Adds x to the end of the lst.\n",
        "remove(lst, m, n): Removes all elements between indices m and n inclusive in lst.\n",
        "concat(lst, x): concatenates lst with x (another list). Examples lst = [1, 2, 3, 4] repeat(lst, 3) ➞ [1, 2, 3, 4, 1, 2, 3, 4, 1, 2, 3, 4] add(lst, 1) ➞ [1, 2, 3, 4, 1, 2, 3, 4, 1, 2, 3, 4, 1] remove(lst, 1, 12) ➞ [1] concat(lst, [3, 4]) ➞ [1, 3, 4]\n",
        "\n",
        "\n"
      ],
      "metadata": {
        "id": "nCofKa9YOVK6"
      }
    },
    {
      "cell_type": "code",
      "execution_count": 2,
      "metadata": {
        "colab": {
          "base_uri": "https://localhost:8080/"
        },
        "id": "TX7NiozjN0hZ",
        "outputId": "e91dc5aa-4bf7-41c5-fa77-49d864fe4df8"
      },
      "outputs": [
        {
          "output_type": "stream",
          "name": "stdout",
          "text": [
            "Repeating= [1, 2, 3, 4, 1, 2, 3, 4, 1, 2, 3, 4]\n",
            "Adding= [1, 2, 3, 4, 1, 2, 3, 4, 1, 2, 3, 4, 8]\n",
            "Removing= [1, 2, 3, 4, 8]\n",
            "Concating= [1, 2, 3, 4, 8, 6, 8]\n"
          ]
        }
      ],
      "source": [
        "def repeat(lst,n):\n",
        "    return lst * n\n",
        "\n",
        "def add(lst, x):\n",
        "    lst.append(x)\n",
        "    return lst\n",
        "\n",
        "def remove(lst,m,n):\n",
        "    del lst[m:n+1]\n",
        "    return lst\n",
        "\n",
        "def concat(lst,lst2):\n",
        "    return lst + lst2\n",
        "\n",
        "lst = [1,2,3,4]\n",
        "lst = repeat(lst,3)\n",
        "print('Repeating=', lst)\n",
        "lst = add(lst,8)\n",
        "print(\"Adding=\",lst)\n",
        "lst = remove(lst,1,8)\n",
        "print('Removing=',lst)\n",
        "lst = concat(lst,[6,8])\n",
        "print('Concating=',lst)"
      ]
    },
    {
      "cell_type": "markdown",
      "source": [
        "2. The classic game of Mastermind is played on a tray on which the Mastermind conceals a code and the Guesser has 10 tries to guess it. The code is a sequence of 4 (or 6, sometimes more) pegs of different colors. Each guess is a corresponding sequence of 4 (or more) pegs of different colors. A guess is 'correct' when the color of every peg in the guess exactly matches the corresponding peg in the Mastermind's code. After each guess by the Guesser, the Mastermind will give a score comprising black & white pegs, not arranged in any order:\n",
        "\n",
        "Black peg == guess peg matches the color of a code peg in the same position.\n",
        "\n",
        "White peg == guess peg matches the color of a code peg in another position. \n",
        "\n",
        "Create a function that takes two strings, code and guess as arguments, and returns the score in a dictionary.\n",
        "The code and guess are strings of numeric digits\n",
        "The color of the pegs are represented by numeric digits\n",
        "no 'peg' may be double-scored Examples guess_score('1423', '5678') ➞ {'black': 0, 'white': 0}\n",
        "guess_score('1423', '2222') ➞ {'black': 1, 'white': 0} guess_score('1423', '1234') ➞ {'black': 1, 'white': 3} guess_score('1423', '2211') ➞ {'black': 0, 'white': 2}"
      ],
      "metadata": {
        "id": "uppMZ-WPO8Cz"
      }
    },
    {
      "cell_type": "code",
      "source": [
        "def guess_score(code, gu):\n",
        "    \n",
        "    dict = {'black' : 0, 'white' : 0}\n",
        "    BCnt = 0\n",
        "    wCnt = 0\n",
        "    if len(code) != len(gu):\n",
        "        print('Code & Guesser are not of equal')\n",
        "        return False\n",
        "    code = [code[x] for x in range(len(code))]    \n",
        "    for i in range(len(gu)):\n",
        "        if code[i] == gu[i]:                \n",
        "            code[i] = '-'                        \n",
        "            BCnt += 1 \n",
        "            dict['black'] = BCnt             \n",
        "    for i in range(len(gu)):\n",
        "        for j in range(len(code)):           \n",
        "            if gu[i] == code[j]:\n",
        "                code[j] = '-'                   \n",
        "                wCnt += 1\n",
        "                dict['white'] = wCnt         \n",
        "    return dict"
      ],
      "metadata": {
        "id": "Jk8BJ0k9OyXk"
      },
      "execution_count": 5,
      "outputs": []
    },
    {
      "cell_type": "code",
      "source": [
        "print(guess_score('1423', '5678'))\n",
        "print(guess_score('1423', '2222'))\n",
        "print(guess_score('1423', '1234'))\n",
        "print(guess_score('1423', '2211'))"
      ],
      "metadata": {
        "colab": {
          "base_uri": "https://localhost:8080/"
        },
        "id": "t77mr4lzPyoQ",
        "outputId": "3be4e1f1-c97f-4b9d-a8fd-3fdeea4f50d2"
      },
      "execution_count": 6,
      "outputs": [
        {
          "output_type": "stream",
          "name": "stdout",
          "text": [
            "{'black': 0, 'white': 0}\n",
            "{'black': 1, 'white': 0}\n",
            "{'black': 1, 'white': 3}\n",
            "{'black': 0, 'white': 2}\n"
          ]
        }
      ]
    },
    {
      "cell_type": "markdown",
      "source": [
        "3. Create a function that takes a list lst and a number N and returns a list of two integers from lst whose product equals N. Examples two_product([1, 2, -1, 4, 5], 20) ➞ [4, 5] two_product([1, 2, 3, 4, 5], 10) ➞ [2, 5] two_product([100, 12, 4, 1, 2], 15) ➞ None"
      ],
      "metadata": {
        "id": "E3RMYZClQOBM"
      }
    },
    {
      "cell_type": "code",
      "source": [
        "def two_product(lst, n):\n",
        "    lst = sorted(lst,reverse = True)\n",
        "    di = []\n",
        "    for i in range(len(lst)):\n",
        "        for j in range(i+1,len(lst)):\n",
        "            if lst[i]*lst[j] == n:\n",
        "                di.append(lst[i])            \n",
        "                di.append(lst[j])\n",
        "                break            \n",
        "    return sorted(di)\n",
        "print(\"two_product([1, 2, -1, 4, 5], 20) ➞\",two_product([1, 2, -1, 4, 5], 20))\n",
        "print(\"two_product([1, 2, 3, 4, 5], 10) ➞\",two_product([1, 2, 3, 4, 5], 10))\n",
        "print(\"two_product([100, 12, 4, 1, 2], 15) ➞\",two_product([100, 12, 4, 1, 2], 15))"
      ],
      "metadata": {
        "colab": {
          "base_uri": "https://localhost:8080/"
        },
        "id": "ul6Bypr1QDq6",
        "outputId": "1329a7ef-d91e-400a-afa7-f8fbd6f5a6ed"
      },
      "execution_count": 8,
      "outputs": [
        {
          "output_type": "stream",
          "name": "stdout",
          "text": [
            "two_product([1, 2, -1, 4, 5], 20) ➞ [4, 5]\n",
            "two_product([1, 2, 3, 4, 5], 10) ➞ [2, 5]\n",
            "two_product([100, 12, 4, 1, 2], 15) ➞ []\n"
          ]
        }
      ]
    },
    {
      "cell_type": "markdown",
      "source": [
        "4. In this challenge, sort a list containing a series of dates given as strings. Each date is given in the format DD-MM-YYYY_HH:MM: '12-02-2012_13:44' The priority of criteria used for sorting will be:\n",
        "\n",
        "*Year\n",
        "\n",
        "*Month\n",
        "\n",
        "*Day\n",
        "\n",
        "*Hours\n",
        "\n",
        "Minutes Given a list lst and a string mode, implement a function that returns:\n",
        "if mode is equal to 'ASC', the list lst sorted in ascending order.\n",
        "if mode is equal to 'DSC', the list lst sorted in descending order. \n",
        "\n",
        "Examples \n",
        "\n",
        "sort_dates(['10-02-2018_12:30', '10-02-2016_12:30', '10-02-2018_12:15'], 'ASC') ➞ ['10-02-2016_12:30', '10-02-2018_12:15', '10-02-2018_12:30'] \n",
        "\n",
        "sort_dates(['10-02-2018_12:30', '10-02-2016_12:30', '10-02-2018_12:15'], 'DSC') ➞ ['10-02-2018_12:30', '10-02-2018_12:15', '10-02-2016_12:30']\n",
        "\n",
        "sort_dates(['09-02-2000_10:03', '10-02-2000_18:29', '01-01-1999_00:55'], 'ASC') ➞ ['01-01-1999_00:55', '09-02-2000_10:03', '10-02-2000_18:29']"
      ],
      "metadata": {
        "id": "aBd8qjuHRInX"
      }
    },
    {
      "cell_type": "code",
      "source": [
        "import datetime\n",
        "def sort_dates(d, sort):\n",
        "    if sort == 'ASC':\n",
        "        print(\" Ascending order:\")\n",
        "        return sorted(d, key=lambda x: datetime.datetime.strptime(x, '%d-%m-%Y_%H:%M'), reverse = False)\n",
        "    elif sort == 'DSC':\n",
        "        print(\"Descending order:\")\n",
        "        return sorted(d, key=lambda x: datetime.datetime.strptime(x, '%d-%m-%Y_%H:%M'), reverse = True)\n",
        "    else:\n",
        "        print(\"Please provide right sorting order\")\n",
        "print(\"sort_dates(['10-02-2018_12:30', '10-02-2016_12:30', '10-02-2018_12:15'], 'ASC') ➞\",sort_dates(['10-02-2018_12:30', '10-02-2016_12:30', '10-02-2018_12:15'],'ASC'))"
      ],
      "metadata": {
        "colab": {
          "base_uri": "https://localhost:8080/"
        },
        "id": "ykAXQ0s1Q8Gv",
        "outputId": "fa875257-fde5-4946-d86a-20421f65b843"
      },
      "execution_count": 12,
      "outputs": [
        {
          "output_type": "stream",
          "name": "stdout",
          "text": [
            " Ascending order:\n",
            "sort_dates(['10-02-2018_12:30', '10-02-2016_12:30', '10-02-2018_12:15'], 'ASC') ➞ ['10-02-2016_12:30', '10-02-2018_12:15', '10-02-2018_12:30']\n"
          ]
        }
      ]
    },
    {
      "cell_type": "code",
      "source": [
        "sort_dates(['10-02-2018_12:30', '10-02-2016_12:30', '10-02-2018_12:15'],\n",
        "'DSC')"
      ],
      "metadata": {
        "colab": {
          "base_uri": "https://localhost:8080/"
        },
        "id": "SJLwua8VRwXk",
        "outputId": "bb228c7a-d38c-421d-960b-2211e8be78aa"
      },
      "execution_count": 13,
      "outputs": [
        {
          "output_type": "stream",
          "name": "stdout",
          "text": [
            "Descending order:\n"
          ]
        },
        {
          "output_type": "execute_result",
          "data": {
            "text/plain": [
              "['10-02-2018_12:30', '10-02-2018_12:15', '10-02-2016_12:30']"
            ]
          },
          "metadata": {},
          "execution_count": 13
        }
      ]
    },
    {
      "cell_type": "markdown",
      "source": [
        "5. Write a function that selects all words that have all the same vowels (in any order and/or number) as the first word, including the first word. \n",
        "\n",
        "Examples \n",
        "\n",
        "same_vowel_group(['toe', 'ocelot', 'maniac']) ➞ ['toe', 'ocelot'] \n",
        "\n",
        "same_vowel_group(['many', 'carriage', 'emit', 'apricot', 'animal']) ➞ ['many'] \n",
        "\n",
        "same_vowel_group(['hoops', 'chuff', 'bot', 'bottom']) ➞ ['hoops', 'bot', 'bottom']"
      ],
      "metadata": {
        "id": "uHoVotNSSO1v"
      }
    },
    {
      "cell_type": "code",
      "source": [
        "def findWord(word):\n",
        "    vowel = 'aeiou'\n",
        "    lstvowstr = ''    \n",
        "    for i in range(len(word)):        \n",
        "        if word[i] in vowel:\n",
        "            lstvowstr = lstvowstr + word[i]\n",
        "    return ''.join(set(lstvowstr)) \n",
        "\n",
        "\n",
        "def same_vowel_group(lst):\n",
        "    vowel = 'aeiou'\n",
        "    reslst = []\n",
        "    test = findWord(lst[0])     \n",
        "    reslst.append(lst[0])\n",
        "    for i in range(1,len(lst)):\n",
        "        vowWord = findWord(lst[i])\n",
        "        if test == vowWord: \n",
        "            reslst.append(lst[i])\n",
        "    return reslst"
      ],
      "metadata": {
        "id": "tc7T06_HR-Ex"
      },
      "execution_count": 14,
      "outputs": []
    },
    {
      "cell_type": "code",
      "source": [
        "print(same_vowel_group(['toe', 'ocelot', 'maniac']))\n",
        "print(same_vowel_group(['many', 'carriage', 'emit', 'apricot', 'animal']))\n",
        "print(same_vowel_group(['hoops', 'chuff', 'bot', 'bottom']))"
      ],
      "metadata": {
        "colab": {
          "base_uri": "https://localhost:8080/"
        },
        "id": "VcIZyFiCSysM",
        "outputId": "ee9bd1ee-c794-487e-a26e-01564f8fe75b"
      },
      "execution_count": 17,
      "outputs": [
        {
          "output_type": "stream",
          "name": "stdout",
          "text": [
            "['toe', 'ocelot']\n",
            "['many']\n",
            "['hoops', 'bot', 'bottom']\n"
          ]
        }
      ]
    },
    {
      "cell_type": "markdown",
      "source": [
        "6. Create a function that takes a list of more than three numbers and returns the Least Common Multiple (LCM). \n",
        "\n",
        "Examples\n",
        "\n",
        " lcm_of_list([1, 2, 3, 4, 5, 6, 7, 8, 9, 10]) ➞ 2520 \n",
        " \n",
        " lcm_of_list([13, 6, 17, 18, 19, 20, 37]) ➞ 27965340 \n",
        " \n",
        " lcm_of_list([44, 64, 12, 17, 65]) ➞ 2333760"
      ],
      "metadata": {
        "id": "31SkUyfPTq8S"
      }
    },
    {
      "cell_type": "code",
      "source": [
        "from math import gcd\n",
        "\n",
        "def lcm_of_list(lst):  \n",
        "    lcm = 1\n",
        "    for i in lst:\n",
        "        lcm = lcm*i//gcd(lcm, i)\n",
        "    return lcm\n",
        "print(\"lcm_of_list([1, 2, 3, 4, 5, 6, 7, 8, 9, 10]) ➞\",lcm_of_list([1, 2, 3, 4, 5, 6, 7, 8, 9, 10]))\n",
        "print(\"lcm_of_list([13, 6, 17, 18, 19, 20, 37]) ➞ \",lcm_of_list([13, 6, 17, 18, 19, 20, 37]))\n",
        "print(\"lcm_of_list([44, 64, 12, 17, 65]) ➞\",lcm_of_list([44, 64, 12, 17, 65]))"
      ],
      "metadata": {
        "colab": {
          "base_uri": "https://localhost:8080/"
        },
        "id": "CcpHjvAyS2nJ",
        "outputId": "6616279a-4d50-4612-e18b-2bd3227d4ffb"
      },
      "execution_count": 18,
      "outputs": [
        {
          "output_type": "stream",
          "name": "stdout",
          "text": [
            "lcm_of_list([1, 2, 3, 4, 5, 6, 7, 8, 9, 10]) ➞ 2520\n",
            "lcm_of_list([13, 6, 17, 18, 19, 20, 37]) ➞  27965340\n",
            "lcm_of_list([44, 64, 12, 17, 65]) ➞ 2333760\n"
          ]
        }
      ]
    },
    {
      "cell_type": "code",
      "source": [
        ""
      ],
      "metadata": {
        "id": "EzYDTz-MUM2k"
      },
      "execution_count": null,
      "outputs": []
    }
  ]
}